{
 "cells": [
  {
   "cell_type": "code",
   "execution_count": 0,
   "metadata": {
    "application/vnd.databricks.v1+cell": {
     "cellMetadata": {},
     "inputWidgets": {},
     "nuid": "208d63c2-42c1-42dc-85d7-54aeb5287cf4",
     "showTitle": false,
     "tableResultSettingsMap": {},
     "title": ""
    }
   },
   "outputs": [],
   "source": [
    "%run ./Utils\n",
    "%run \"./000 Setup DBFS\"\n",
    "%run \"./001 Importing Files from GitHub CSV\"\n",
    "%run \"./002 Load Bronze\"\n",
    "%run \"./003 Transforming Silver\"\n",
    "%run \"./004 Load Gold Delta\"\n",
    "%run \"./005 Optimized Queries\"\n",
    "%run \"./006 Delta Maintenance Routine\"\n"
   ]
  }
 ],
 "metadata": {
  "application/vnd.databricks.v1+notebook": {
   "computePreferences": null,
   "dashboards": [],
   "environmentMetadata": null,
   "language": "python",
   "notebookMetadata": {
    "mostRecentlyExecutedCommandWithImplicitDF": {
     "commandId": -1,
     "dataframes": [
      "_sqldf"
     ]
    },
    "pythonIndentUnit": 4
   },
   "notebookName": "000 Run all Notebooks in right order",
   "widgets": {}
  }
 },
 "nbformat": 4,
 "nbformat_minor": 0
}
