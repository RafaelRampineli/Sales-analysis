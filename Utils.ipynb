{
 "cells": [
  {
   "cell_type": "code",
   "execution_count": 0,
   "metadata": {
    "application/vnd.databricks.v1+cell": {
     "cellMetadata": {
      "byteLimit": 2048000,
      "rowLimit": 10000
     },
     "inputWidgets": {},
     "nuid": "a9394d5e-7f03-4cf2-b186-9562aadd9444",
     "showTitle": true,
     "tableResultSettingsMap": {},
     "title": "Default Paths"
    }
   },
   "outputs": [],
   "source": [
    "# LandingZone Default directory\n",
    "def GetLandingZoneDirectory():\n",
    "    lz_path_in = \"/mnt/lhdw/landingzone/raw/sales\"\n",
    "    return lz_path_in\n"
   ]
  },
  {
   "cell_type": "code",
   "execution_count": 0,
   "metadata": {
    "application/vnd.databricks.v1+cell": {
     "cellMetadata": {
      "byteLimit": 2048000,
      "rowLimit": 10000
     },
     "inputWidgets": {},
     "nuid": "2a1113c1-fefd-4bb9-a2af-bb0b246c976b",
     "showTitle": true,
     "tableResultSettingsMap": {},
     "title": "Schemas"
    }
   },
   "outputs": [],
   "source": [
    "def Schemas(input_SchemaZone):\n",
    "    from pyspark.sql.types import StructType, StructField, IntegerType, DateType, StringType, DoubleType\n",
    "    # Schema for Landing Zone\n",
    "    schema_lz = StructType([\n",
    "                StructField(\"ProductID\", IntegerType(), True),\n",
    "                StructField(\"Date\", DateType(), True),\n",
    "                StructField(\"ClientID\", IntegerType(), True),\n",
    "                StructField(\"CampaignID\", IntegerType(), True),\n",
    "                StructField(\"Units\", IntegerType(), True),\n",
    "                StructField(\"Product\", StringType(), True),\n",
    "                StructField(\"Category\", StringType(), True),\n",
    "                StructField(\"Segment\", StringType(), True),\n",
    "                StructField(\"ManufacturerID\", IntegerType(), True),\n",
    "                StructField(\"Manufacturer\", StringType(), True),\n",
    "                StructField(\"UnitCost\", DoubleType(), True),\n",
    "                StructField(\"UnitPrice\", DoubleType(), True),\n",
    "                StructField(\"PostalCode\", StringType(), True),\n",
    "                StructField(\"EmailName\", StringType(), True),\n",
    "                StructField(\"City\", StringType(), True),\n",
    "                StructField(\"State\", StringType(), True),\n",
    "                StructField(\"Region\", StringType(), True),\n",
    "                StructField(\"District\", StringType(), True),\n",
    "                StructField(\"Country\", StringType(), True)\n",
    "    ])\n",
    "\n",
    "    schema_bronze = StructType([\n",
    "                StructField(\"ProductID\", IntegerType(), True),\n",
    "                StructField(\"Date\", DateType(), True),\n",
    "                StructField(\"ClientID\", IntegerType(), True),\n",
    "                StructField(\"CampaignID\", IntegerType(), True),\n",
    "                StructField(\"Units\", IntegerType(), True),\n",
    "                StructField(\"Product\", StringType(), True),\n",
    "                StructField(\"Category\", StringType(), True),\n",
    "                StructField(\"Segment\", StringType(), True),\n",
    "                StructField(\"ManufacturerID\", IntegerType(), True),\n",
    "                StructField(\"Manufacturer\", StringType(), True),\n",
    "                StructField(\"UnitCost\", DoubleType(), True),\n",
    "                StructField(\"UnitPrice\", DoubleType(), True),\n",
    "                StructField(\"PostalCode\", StringType(), True),\n",
    "                StructField(\"EmailName\", StringType(), True),\n",
    "                StructField(\"City\", StringType(), True),\n",
    "                StructField(\"State\", StringType(), True),\n",
    "                StructField(\"Region\", StringType(), True),\n",
    "                StructField(\"District\", StringType(), True),\n",
    "                StructField(\"Country\", StringType(), True)\n",
    "    ])\n",
    "\n",
    "    schema_silver = StructType([\n",
    "                StructField(\"ProductID\", IntegerType(), True),\n",
    "                StructField(\"Date\", DateType(), True),\n",
    "                StructField(\"ClientID\", IntegerType(), True),\n",
    "                StructField(\"CampaignID\", IntegerType(), True),\n",
    "                StructField(\"Units\", IntegerType(), True),\n",
    "                StructField(\"Product\", StringType(), True),\n",
    "                StructField(\"Category\", StringType(), True),\n",
    "                StructField(\"Segment\", StringType(), True),\n",
    "                StructField(\"ManufacturerID\", IntegerType(), True),\n",
    "                StructField(\"Manufacturer\", StringType(), True),\n",
    "                StructField(\"UnitCost\", DoubleType(), True),\n",
    "                StructField(\"UnitPrice\", DoubleType(), True),\n",
    "                StructField(\"PostalCode\", StringType(), True),\n",
    "                StructField(\"EmailName\", StringType(), True),\n",
    "                StructField(\"City\", StringType(), True),\n",
    "                StructField(\"State\", StringType(), True),\n",
    "                StructField(\"Region\", StringType(), True),\n",
    "                StructField(\"District\", StringType(), True),\n",
    "                StructField(\"Country\", StringType(), True)\n",
    "    ])\n",
    "\n",
    "    schema_gold = StructType([\n",
    "                StructField(\"ProductID\", IntegerType(), True),\n",
    "                StructField(\"Date\", DateType(), True),\n",
    "                StructField(\"ClientID\", IntegerType(), True),\n",
    "                StructField(\"CampaignID\", IntegerType(), True),\n",
    "                StructField(\"Units\", IntegerType(), True),\n",
    "                StructField(\"Product\", StringType(), True),\n",
    "                StructField(\"Category\", StringType(), True),\n",
    "                StructField(\"Segment\", StringType(), True),\n",
    "                StructField(\"ManufacturerID\", IntegerType(), True),\n",
    "                StructField(\"Manufacturer\", StringType(), True),\n",
    "                StructField(\"UnitCost\", DoubleType(), True),\n",
    "                StructField(\"UnitPrice\", DoubleType(), True),\n",
    "                StructField(\"PostalCode\", StringType(), True),\n",
    "                StructField(\"EmailName\", StringType(), True),\n",
    "                StructField(\"City\", StringType(), True),\n",
    "                StructField(\"State\", StringType(), True),\n",
    "                StructField(\"Region\", StringType(), True),\n",
    "                StructField(\"District\", StringType(), True),\n",
    "                StructField(\"Country\", StringType(), True)\n",
    "    ])\n",
    "\n",
    "    SchemaReturn = None\n",
    "\n",
    "    if input_SchemaZone == \"LandingZone\":\n",
    "        SchemaReturn = schema_lz\n",
    "    if input_SchemaZone == \"BronzeZone\":\n",
    "        SchemaReturn = schema_bronze\n",
    "    if input_SchemaZone == \"SilverZone\":\n",
    "        SchemaReturn = schema_silver      \n",
    "    if input_SchemaZone == \"GoldZone\":\n",
    "        SchemaReturn = schema_gold        \n",
    "\n",
    "    return SchemaReturn\n"
   ]
  },
  {
   "cell_type": "code",
   "execution_count": 0,
   "metadata": {
    "application/vnd.databricks.v1+cell": {
     "cellMetadata": {
      "byteLimit": 2048000,
      "implicitDf": true,
      "rowLimit": 10000
     },
     "inputWidgets": {},
     "nuid": "bd17fa4f-b3b3-4a5c-be92-5e64c4cf6b23",
     "showTitle": true,
     "tableResultSettingsMap": {},
     "title": "Drop All"
    }
   },
   "outputs": [],
   "source": [
    "#  %sql\n",
    "# DROP TABLE sales_case.bronze_sales_table;\n",
    "# DROP TABLE sales_case.silver_sales_table;\n",
    "# DROP TABLE sales_case.gold_dim_category;\n",
    "# DROP TABLE sales_case.gold_dim_manufacturer;\n",
    "# DROP TABLE sales_case.gold_dim_product;\n",
    "# DROP TABLE sales_case.gold_dim_region;\n",
    "# DROP TABLE sales_case.gold_dim_segment;"
   ]
  },
  {
   "cell_type": "code",
   "execution_count": 0,
   "metadata": {
    "application/vnd.databricks.v1+cell": {
     "cellMetadata": {
      "byteLimit": 2048000,
      "rowLimit": 10000
     },
     "inputWidgets": {},
     "nuid": "4a8dd78a-8289-4152-acdd-153533f37465",
     "showTitle": false,
     "tableResultSettingsMap": {},
     "title": ""
    }
   },
   "outputs": [],
   "source": [
    "# %md\n",
    "# Manage Memory Usage\n",
    "\n",
    "# In PySpark, it is important to manage memory usage efficiently, especially when working with large datasets. To do this, you can use specific commands that help free up memory, remove cached or persisted objects, and force garbage collection.\n",
    "\n",
    "# Clear Cache:\n",
    "\n",
    "# PySpark stores data in cache to improve performance for repeated operations. The unpersist() command removes the DataFrame from the cache, freeing the associated memory. It is especially useful when you no longer need the persisted data.\n",
    "\n",
    "# df.unpersist()\n",
    "\n",
    "# Clear All Cached Data:\n",
    "\n",
    "# clearCache() clears the cache of all cached objects in the current SparkSession, freeing up a significant amount of memory when multiple DataFrames are being reused.\n",
    "\n",
    "# spark.catalog.clearCache()\n",
    "\n",
    "# Force Garbage Collection:\n",
    "\n",
    "# Python has a garbage collector that removes unreferenced objects from memory. You can force garbage collection to free memory.\n",
    "\n",
    "# import gc\n",
    "# gc.collect()\n",
    "\n",
    "# This command forces the garbage collector to run immediately, freeing memory from Python objects that are no longer in use.\n",
    "\n",
    "# Manually Free Variables:\n",
    "\n",
    "# If you have created large variables that are no longer necessary, you can explicitly remove them.\n",
    "\n",
    "# del df\n",
    "\n",
    "# The del command removes the object from memory. This is useful when you have large DataFrames or Python objects that are no longer needed.\n",
    "\n",
    "# Additional Tips:\n",
    "\n",
    "# Avoid caching unnecessary DataFrames.\n",
    "# Summary\n",
    "\n",
    "# For a quick and general cleanup: Use spark.catalog.clearCache().\n",
    "\n",
    "# To free memory from specific DataFrames: Use df.unpersist().\n",
    "\n",
    "# To remove specific variables: Use del.\n",
    "\n",
    "# For a complete solution: Restart the cluster.\n"
   ]
  }
 ],
 "metadata": {
  "application/vnd.databricks.v1+notebook": {
   "computePreferences": null,
   "dashboards": [],
   "environmentMetadata": {
    "base_environment": "",
    "client": "1"
   },
   "language": "python",
   "notebookMetadata": {
    "mostRecentlyExecutedCommandWithImplicitDF": {
     "commandId": -1,
     "dataframes": [
      "_sqldf"
     ]
    },
    "pythonIndentUnit": 4
   },
   "notebookName": "Utils",
   "widgets": {}
  }
 },
 "nbformat": 4,
 "nbformat_minor": 0
}
