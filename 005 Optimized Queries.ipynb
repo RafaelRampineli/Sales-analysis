{
 "cells": [
  {
   "cell_type": "markdown",
   "metadata": {
    "application/vnd.databricks.v1+cell": {
     "cellMetadata": {},
     "inputWidgets": {},
     "nuid": "81931b77-87a9-40df-8a75-283546299960",
     "showTitle": false,
     "tableResultSettingsMap": {},
     "title": ""
    }
   },
   "source": [
    "## Optimized Queries"
   ]
  },
  {
   "cell_type": "markdown",
   "metadata": {
    "application/vnd.databricks.v1+cell": {
     "cellMetadata": {},
     "inputWidgets": {},
     "nuid": "a2f834c3-d356-43e7-9eb0-a10c15e8d237",
     "showTitle": false,
     "tableResultSettingsMap": {},
     "title": ""
    }
   },
   "source": [
    "#### Tips to Optimize Performance\n",
    "\n",
    "Partitioning: We define appropriate partitions to avoid unnecessary reads and improve query performance.\n",
    "\n",
    "Partition Filters: If you know which specific partitions you want to read, applying filters on the partitions can significantly reduce the read time.\n",
    "\n",
    "Repartitioning: If the data is unevenly distributed, you can use repartition() to redistribute the DataFrame based on a key column.\n",
    "\n",
    "Compression Codec: We use Snappy, as it provides good compression and decompression performance.\n",
    "\n",
    "Shuffle Partitions: We set a fixed value for spark.sql.shuffle.partitions to improve parallelism during operations like joins and aggregations.\n",
    "Additionally, we can explore techniques like caching for small tables (dimensions) that are frequently accessed, and broadcast join to optimize joins between the Fact table and the dimension tables."
   ]
  },
  {
   "cell_type": "code",
   "execution_count": 0,
   "metadata": {
    "application/vnd.databricks.v1+cell": {
     "cellMetadata": {},
     "inputWidgets": {},
     "nuid": "f0168293-7292-4dc3-b103-b6e3d017f6a8",
     "showTitle": false,
     "tableResultSettingsMap": {},
     "title": ""
    }
   },
   "outputs": [],
   "source": [
    "%run ./Utils"
   ]
  },
  {
   "cell_type": "code",
   "execution_count": 0,
   "metadata": {
    "application/vnd.databricks.v1+cell": {
     "cellMetadata": {
      "byteLimit": 2048000,
      "rowLimit": 10000
     },
     "inputWidgets": {},
     "nuid": "1646e0af-5eb5-4b4b-b3c2-491c6980d9d3",
     "showTitle": false,
     "tableResultSettingsMap": {},
     "title": ""
    }
   },
   "outputs": [],
   "source": [
    "from delta.tables import DeltaTable\n",
    "from pyspark.sql.functions import *\n",
    "from pyspark.sql.functions import year, sum, broadcast,desc"
   ]
  },
  {
   "cell_type": "code",
   "execution_count": 0,
   "metadata": {
    "application/vnd.databricks.v1+cell": {
     "cellMetadata": {
      "byteLimit": 2048000,
      "rowLimit": 10000
     },
     "inputWidgets": {},
     "nuid": "64e98df1-621d-4b5a-bb9a-d07c36de08a6",
     "showTitle": false,
     "tableResultSettingsMap": {},
     "title": ""
    }
   },
   "outputs": [
    {
     "output_type": "display_data",
     "data": {
      "text/html": [
       "<style scoped>\n",
       "  .table-result-container {\n",
       "    max-height: 300px;\n",
       "    overflow: auto;\n",
       "  }\n",
       "  table, th, td {\n",
       "    border: 1px solid black;\n",
       "    border-collapse: collapse;\n",
       "  }\n",
       "  th, td {\n",
       "    padding: 5px;\n",
       "  }\n",
       "  th {\n",
       "    text-align: left;\n",
       "  }\n",
       "</style><div class='table-result-container'><table class='table-result'><thead style='background-color: white'><tr><th>SalesDate</th><th>sk_product</th><th>sk_category</th><th>sk_segment</th><th>sk_manufacturer</th><th>sk_client</th><th>Units</th><th>UnitPrice</th><th>UnitCost</th><th>SalesTotal</th><th>Year</th><th>Month</th></tr></thead><tbody><tr><td>2011-03-04</td><td>77</td><td>2</td><td>6</td><td>1</td><td>5534</td><td>1</td><td>124.42</td><td>90.83</td><td>90.83</td><td>2011</td><td>3</td></tr><tr><td>2011-03-08</td><td>77</td><td>2</td><td>6</td><td>1</td><td>9318</td><td>1</td><td>124.42</td><td>90.83</td><td>90.83</td><td>2011</td><td>3</td></tr><tr><td>2011-03-08</td><td>77</td><td>2</td><td>6</td><td>1</td><td>4263</td><td>1</td><td>124.42</td><td>90.83</td><td>90.83</td><td>2011</td><td>3</td></tr><tr><td>2011-03-11</td><td>77</td><td>2</td><td>6</td><td>1</td><td>60129548537</td><td>1</td><td>124.42</td><td>90.83</td><td>90.83</td><td>2011</td><td>3</td></tr><tr><td>2011-03-25</td><td>77</td><td>2</td><td>6</td><td>1</td><td>8589939250</td><td>1</td><td>124.42</td><td>90.83</td><td>90.83</td><td>2011</td><td>3</td></tr><tr><td>2011-03-17</td><td>77</td><td>2</td><td>6</td><td>1</td><td>8589942648</td><td>1</td><td>124.42</td><td>90.83</td><td>90.83</td><td>2011</td><td>3</td></tr><tr><td>2011-03-17</td><td>77</td><td>2</td><td>6</td><td>1</td><td>34359742238</td><td>1</td><td>124.42</td><td>90.83</td><td>90.83</td><td>2011</td><td>3</td></tr><tr><td>2011-03-17</td><td>77</td><td>2</td><td>6</td><td>1</td><td>42949673405</td><td>1</td><td>124.42</td><td>90.83</td><td>90.83</td><td>2011</td><td>3</td></tr><tr><td>2011-03-17</td><td>77</td><td>2</td><td>6</td><td>1</td><td>60129543047</td><td>1</td><td>124.42</td><td>90.83</td><td>90.83</td><td>2011</td><td>3</td></tr><tr><td>2011-03-17</td><td>77</td><td>2</td><td>6</td><td>1</td><td>42949675525</td><td>1</td><td>124.42</td><td>90.83</td><td>90.83</td><td>2011</td><td>3</td></tr></tbody></table></div>"
      ]
     },
     "metadata": {
      "application/vnd.databricks.v1+output": {
       "addedWidgets": {},
       "aggData": [],
       "aggError": "",
       "aggOverflow": false,
       "aggSchema": [],
       "aggSeriesLimitReached": false,
       "aggType": "",
       "arguments": {},
       "columnCustomDisplayInfos": {},
       "data": [
        [
         "2011-03-04",
         77,
         2,
         6,
         1,
         5534,
         1,
         "124.42",
         "90.83",
         "90.83",
         2011,
         3
        ],
        [
         "2011-03-08",
         77,
         2,
         6,
         1,
         9318,
         1,
         "124.42",
         "90.83",
         "90.83",
         2011,
         3
        ],
        [
         "2011-03-08",
         77,
         2,
         6,
         1,
         4263,
         1,
         "124.42",
         "90.83",
         "90.83",
         2011,
         3
        ],
        [
         "2011-03-11",
         77,
         2,
         6,
         1,
         60129548537,
         1,
         "124.42",
         "90.83",
         "90.83",
         2011,
         3
        ],
        [
         "2011-03-25",
         77,
         2,
         6,
         1,
         8589939250,
         1,
         "124.42",
         "90.83",
         "90.83",
         2011,
         3
        ],
        [
         "2011-03-17",
         77,
         2,
         6,
         1,
         8589942648,
         1,
         "124.42",
         "90.83",
         "90.83",
         2011,
         3
        ],
        [
         "2011-03-17",
         77,
         2,
         6,
         1,
         34359742238,
         1,
         "124.42",
         "90.83",
         "90.83",
         2011,
         3
        ],
        [
         "2011-03-17",
         77,
         2,
         6,
         1,
         42949673405,
         1,
         "124.42",
         "90.83",
         "90.83",
         2011,
         3
        ],
        [
         "2011-03-17",
         77,
         2,
         6,
         1,
         60129543047,
         1,
         "124.42",
         "90.83",
         "90.83",
         2011,
         3
        ],
        [
         "2011-03-17",
         77,
         2,
         6,
         1,
         42949675525,
         1,
         "124.42",
         "90.83",
         "90.83",
         2011,
         3
        ]
       ],
       "datasetInfos": [],
       "dbfsResultPath": null,
       "isJsonSchema": true,
       "metadata": {},
       "overflow": false,
       "plotOptions": {
        "customPlotOptions": {},
        "displayType": "table",
        "pivotAggregation": null,
        "pivotColumns": null,
        "xColumns": null,
        "yColumns": null
       },
       "removedWidgets": [],
       "schema": [
        {
         "metadata": "{}",
         "name": "SalesDate",
         "type": "\"date\""
        },
        {
         "metadata": "{}",
         "name": "sk_product",
         "type": "\"long\""
        },
        {
         "metadata": "{}",
         "name": "sk_category",
         "type": "\"long\""
        },
        {
         "metadata": "{}",
         "name": "sk_segment",
         "type": "\"long\""
        },
        {
         "metadata": "{}",
         "name": "sk_manufacturer",
         "type": "\"long\""
        },
        {
         "metadata": "{}",
         "name": "sk_client",
         "type": "\"long\""
        },
        {
         "metadata": "{}",
         "name": "Units",
         "type": "\"long\""
        },
        {
         "metadata": "{}",
         "name": "UnitPrice",
         "type": "\"string\""
        },
        {
         "metadata": "{}",
         "name": "UnitCost",
         "type": "\"string\""
        },
        {
         "metadata": "{}",
         "name": "SalesTotal",
         "type": "\"string\""
        },
        {
         "metadata": "{}",
         "name": "Year",
         "type": "\"long\""
        },
        {
         "metadata": "{}",
         "name": "Month",
         "type": "\"long\""
        }
       ],
       "type": "table"
      }
     },
     "output_type": "display_data"
    }
   ],
   "source": [
    "df_fact_sales = spark.read.table('sales_case.gold_fact_sales')\n",
    "display(df_fact_sales.take(10))"
   ]
  },
  {
   "cell_type": "code",
   "execution_count": 0,
   "metadata": {
    "application/vnd.databricks.v1+cell": {
     "cellMetadata": {
      "byteLimit": 2048000,
      "rowLimit": 10000
     },
     "inputWidgets": {},
     "nuid": "ba145f06-4cea-428e-96d2-f6ec836f41cf",
     "showTitle": false,
     "tableResultSettingsMap": {},
     "title": ""
    }
   },
   "outputs": [
    {
     "output_type": "display_data",
     "data": {
      "text/html": [
       "<style scoped>\n",
       "  .table-result-container {\n",
       "    max-height: 300px;\n",
       "    overflow: auto;\n",
       "  }\n",
       "  table, th, td {\n",
       "    border: 1px solid black;\n",
       "    border-collapse: collapse;\n",
       "  }\n",
       "  th, td {\n",
       "    padding: 5px;\n",
       "  }\n",
       "  th {\n",
       "    text-align: left;\n",
       "  }\n",
       "</style><div class='table-result-container'><table class='table-result'><thead style='background-color: white'><tr><th>ProductID</th><th>Product</th><th>Category</th><th>sk_product</th></tr></thead><tbody><tr><td>585</td><td>Maximus UC-50</td><td>Urban</td><td>1</td></tr><tr><td>423</td><td>Maximus UM-28</td><td>Urban</td><td>2</td></tr><tr><td>533</td><td>Maximus UE-21</td><td>Urban</td><td>3</td></tr><tr><td>540</td><td>Maximus UC-05</td><td>Mix</td><td>4</td></tr><tr><td>681</td><td>Maximus UC-46</td><td>Urban</td><td>5</td></tr><tr><td>628</td><td>Maximus UC-93</td><td>Urban</td><td>6</td></tr><tr><td>547</td><td>Maximus UC-12</td><td>Mix</td><td>7</td></tr><tr><td>415</td><td>Maximus UM-20</td><td>Urban</td><td>8</td></tr><tr><td>653</td><td>Maximus UC-18</td><td>Urban</td><td>9</td></tr><tr><td>512</td><td>Maximus UR-01</td><td>Urban</td><td>10</td></tr></tbody></table></div>"
      ]
     },
     "metadata": {
      "application/vnd.databricks.v1+output": {
       "addedWidgets": {},
       "aggData": [],
       "aggError": "",
       "aggOverflow": false,
       "aggSchema": [],
       "aggSeriesLimitReached": false,
       "aggType": "",
       "arguments": {},
       "columnCustomDisplayInfos": {},
       "data": [
        [
         585,
         "Maximus UC-50",
         "Urban",
         1
        ],
        [
         423,
         "Maximus UM-28",
         "Urban",
         2
        ],
        [
         533,
         "Maximus UE-21",
         "Urban",
         3
        ],
        [
         540,
         "Maximus UC-05",
         "Mix",
         4
        ],
        [
         681,
         "Maximus UC-46",
         "Urban",
         5
        ],
        [
         628,
         "Maximus UC-93",
         "Urban",
         6
        ],
        [
         547,
         "Maximus UC-12",
         "Mix",
         7
        ],
        [
         415,
         "Maximus UM-20",
         "Urban",
         8
        ],
        [
         653,
         "Maximus UC-18",
         "Urban",
         9
        ],
        [
         512,
         "Maximus UR-01",
         "Urban",
         10
        ]
       ],
       "datasetInfos": [],
       "dbfsResultPath": null,
       "isJsonSchema": true,
       "metadata": {},
       "overflow": false,
       "plotOptions": {
        "customPlotOptions": {},
        "displayType": "table",
        "pivotAggregation": null,
        "pivotColumns": null,
        "xColumns": null,
        "yColumns": null
       },
       "removedWidgets": [],
       "schema": [
        {
         "metadata": "{}",
         "name": "ProductID",
         "type": "\"long\""
        },
        {
         "metadata": "{}",
         "name": "Product",
         "type": "\"string\""
        },
        {
         "metadata": "{}",
         "name": "Category",
         "type": "\"string\""
        },
        {
         "metadata": "{}",
         "name": "sk_product",
         "type": "\"long\""
        }
       ],
       "type": "table"
      }
     },
     "output_type": "display_data"
    }
   ],
   "source": [
    "df_dim_product = spark.read.table('sales_case.gold_dim_product')\n",
    "display(df_dim_product.take(10))"
   ]
  },
  {
   "cell_type": "code",
   "execution_count": 0,
   "metadata": {
    "application/vnd.databricks.v1+cell": {
     "cellMetadata": {
      "byteLimit": 2048000,
      "rowLimit": 10000
     },
     "inputWidgets": {},
     "nuid": "01986a9f-b85a-47c3-927e-1842d48fa41b",
     "showTitle": false,
     "tableResultSettingsMap": {},
     "title": ""
    }
   },
   "outputs": [
    {
     "output_type": "display_data",
     "data": {
      "text/html": [
       "<style scoped>\n",
       "  .table-result-container {\n",
       "    max-height: 300px;\n",
       "    overflow: auto;\n",
       "  }\n",
       "  table, th, td {\n",
       "    border: 1px solid black;\n",
       "    border-collapse: collapse;\n",
       "  }\n",
       "  th, td {\n",
       "    padding: 5px;\n",
       "  }\n",
       "  th {\n",
       "    text-align: left;\n",
       "  }\n",
       "</style><div class='table-result-container'><table class='table-result'><thead style='background-color: white'><tr><th>City</th><th>State</th><th>Region</th><th>District</th><th>Country</th><th>PostalCode</th><th>sk_region</th></tr></thead><tbody><tr><td>Marseilles</td><td>IL</td><td>Central</td><td>District #27</td><td>USA</td><td>61341</td><td>1</td></tr><tr><td>Rhome</td><td>TX</td><td>Central</td><td>District #22</td><td>USA</td><td>76078</td><td>2</td></tr><tr><td>Quakertown</td><td>PA</td><td>East</td><td>District #04</td><td>USA</td><td>18951</td><td>3</td></tr><tr><td>Troy</td><td>OH</td><td>East</td><td>District #16</td><td>USA</td><td>45373</td><td>4</td></tr><tr><td>Lima</td><td>OH</td><td>East</td><td>District #16</td><td>USA</td><td>45806</td><td>5</td></tr><tr><td>Wildwood</td><td>GA</td><td>East</td><td>District #19</td><td>USA</td><td>30757</td><td>6</td></tr><tr><td>Tulsa</td><td>OK</td><td>Central</td><td>District #21</td><td>USA</td><td>74105</td><td>7</td></tr><tr><td>Rolla</td><td>MO</td><td>Central</td><td>District #21</td><td>USA</td><td>65401</td><td>8</td></tr><tr><td>Painesville</td><td>OH</td><td>East</td><td>District #14</td><td>USA</td><td>44077</td><td>9</td></tr><tr><td>Summerville</td><td>GA</td><td>East</td><td>District #09</td><td>USA</td><td>30747</td><td>10</td></tr></tbody></table></div>"
      ]
     },
     "metadata": {
      "application/vnd.databricks.v1+output": {
       "addedWidgets": {},
       "aggData": [],
       "aggError": "",
       "aggOverflow": false,
       "aggSchema": [],
       "aggSeriesLimitReached": false,
       "aggType": "",
       "arguments": {},
       "columnCustomDisplayInfos": {},
       "data": [
        [
         "Marseilles",
         "IL",
         "Central",
         "District #27",
         "USA",
         "61341",
         1
        ],
        [
         "Rhome",
         "TX",
         "Central",
         "District #22",
         "USA",
         "76078",
         2
        ],
        [
         "Quakertown",
         "PA",
         "East",
         "District #04",
         "USA",
         "18951",
         3
        ],
        [
         "Troy",
         "OH",
         "East",
         "District #16",
         "USA",
         "45373",
         4
        ],
        [
         "Lima",
         "OH",
         "East",
         "District #16",
         "USA",
         "45806",
         5
        ],
        [
         "Wildwood",
         "GA",
         "East",
         "District #19",
         "USA",
         "30757",
         6
        ],
        [
         "Tulsa",
         "OK",
         "Central",
         "District #21",
         "USA",
         "74105",
         7
        ],
        [
         "Rolla",
         "MO",
         "Central",
         "District #21",
         "USA",
         "65401",
         8
        ],
        [
         "Painesville",
         "OH",
         "East",
         "District #14",
         "USA",
         "44077",
         9
        ],
        [
         "Summerville",
         "GA",
         "East",
         "District #09",
         "USA",
         "30747",
         10
        ]
       ],
       "datasetInfos": [],
       "dbfsResultPath": null,
       "isJsonSchema": true,
       "metadata": {},
       "overflow": false,
       "plotOptions": {
        "customPlotOptions": {},
        "displayType": "table",
        "pivotAggregation": null,
        "pivotColumns": null,
        "xColumns": null,
        "yColumns": null
       },
       "removedWidgets": [],
       "schema": [
        {
         "metadata": "{}",
         "name": "City",
         "type": "\"string\""
        },
        {
         "metadata": "{}",
         "name": "State",
         "type": "\"string\""
        },
        {
         "metadata": "{}",
         "name": "Region",
         "type": "\"string\""
        },
        {
         "metadata": "{}",
         "name": "District",
         "type": "\"string\""
        },
        {
         "metadata": "{}",
         "name": "Country",
         "type": "\"string\""
        },
        {
         "metadata": "{}",
         "name": "PostalCode",
         "type": "\"string\""
        },
        {
         "metadata": "{}",
         "name": "sk_region",
         "type": "\"long\""
        }
       ],
       "type": "table"
      }
     },
     "output_type": "display_data"
    }
   ],
   "source": [
    "df_dim_region = spark.read.table('sales_case.gold_dim_region')\n",
    "display(df_dim_region.take(10))"
   ]
  },
  {
   "cell_type": "code",
   "execution_count": 0,
   "metadata": {
    "application/vnd.databricks.v1+cell": {
     "cellMetadata": {
      "byteLimit": 2048000,
      "rowLimit": 10000
     },
     "inputWidgets": {},
     "nuid": "d5b1eb2d-a03e-427c-99de-6b7997ae827b",
     "showTitle": false,
     "tableResultSettingsMap": {},
     "title": ""
    }
   },
   "outputs": [
    {
     "output_type": "display_data",
     "data": {
      "text/html": [
       "<style scoped>\n",
       "  .table-result-container {\n",
       "    max-height: 300px;\n",
       "    overflow: auto;\n",
       "  }\n",
       "  table, th, td {\n",
       "    border: 1px solid black;\n",
       "    border-collapse: collapse;\n",
       "  }\n",
       "  th, td {\n",
       "    padding: 5px;\n",
       "  }\n",
       "  th {\n",
       "    text-align: left;\n",
       "  }\n",
       "</style><div class='table-result-container'><table class='table-result'><thead style='background-color: white'><tr><th>Category</th><th>sk_category</th></tr></thead><tbody><tr><td>Mix</td><td>1</td></tr><tr><td>Urban</td><td>2</td></tr><tr><td>Youth</td><td>3</td></tr><tr><td>Accessory</td><td>4</td></tr><tr><td>Rural</td><td>5</td></tr></tbody></table></div>"
      ]
     },
     "metadata": {
      "application/vnd.databricks.v1+output": {
       "addedWidgets": {},
       "aggData": [],
       "aggError": "",
       "aggOverflow": false,
       "aggSchema": [],
       "aggSeriesLimitReached": false,
       "aggType": "",
       "arguments": {},
       "columnCustomDisplayInfos": {},
       "data": [
        [
         "Mix",
         1
        ],
        [
         "Urban",
         2
        ],
        [
         "Youth",
         3
        ],
        [
         "Accessory",
         4
        ],
        [
         "Rural",
         5
        ]
       ],
       "datasetInfos": [],
       "dbfsResultPath": null,
       "isJsonSchema": true,
       "metadata": {},
       "overflow": false,
       "plotOptions": {
        "customPlotOptions": {},
        "displayType": "table",
        "pivotAggregation": null,
        "pivotColumns": null,
        "xColumns": null,
        "yColumns": null
       },
       "removedWidgets": [],
       "schema": [
        {
         "metadata": "{}",
         "name": "Category",
         "type": "\"string\""
        },
        {
         "metadata": "{}",
         "name": "sk_category",
         "type": "\"long\""
        }
       ],
       "type": "table"
      }
     },
     "output_type": "display_data"
    }
   ],
   "source": [
    "df_dim_category = spark.read.table('sales_case.gold_dim_category')\n",
    "display(df_dim_category.take(10))"
   ]
  },
  {
   "cell_type": "code",
   "execution_count": 0,
   "metadata": {
    "application/vnd.databricks.v1+cell": {
     "cellMetadata": {
      "byteLimit": 2048000,
      "rowLimit": 10000
     },
     "inputWidgets": {},
     "nuid": "17f7721a-c2e3-40e5-b133-c1bb2d303bdc",
     "showTitle": false,
     "tableResultSettingsMap": {},
     "title": ""
    }
   },
   "outputs": [
    {
     "output_type": "display_data",
     "data": {
      "text/html": [
       "<style scoped>\n",
       "  .table-result-container {\n",
       "    max-height: 300px;\n",
       "    overflow: auto;\n",
       "  }\n",
       "  table, th, td {\n",
       "    border: 1px solid black;\n",
       "    border-collapse: collapse;\n",
       "  }\n",
       "  th, td {\n",
       "    padding: 5px;\n",
       "  }\n",
       "  th {\n",
       "    text-align: left;\n",
       "  }\n",
       "</style><div class='table-result-container'><table class='table-result'><thead style='background-color: white'><tr><th>ClientID</th><th>Name</th><th>Email</th><th>sk_region</th><th>sk_client</th></tr></thead><tbody><tr><td>62235</td><td>Chava  Mason</td><td>chava.mason@xyza.com</td><td>64</td><td>1</td></tr><tr><td>120680</td><td>Zoe  Levy</td><td>zoe.levy@xyza.com</td><td>22</td><td>2</td></tr><tr><td>92819</td><td>Basia  Combs</td><td>basia.combs@xyza.com</td><td>3</td><td>3</td></tr><tr><td>22111</td><td>Bernard  Holcomb</td><td>bernard.holcomb@xyza.com</td><td>9</td><td>4</td></tr><tr><td>8221</td><td>Adrienne  Blankenship</td><td>adrienne.blankenship@xyza.com</td><td>14</td><td>5</td></tr><tr><td>113970</td><td>Gage  Cole</td><td>gage.cole@xyza.com</td><td>17</td><td>6</td></tr><tr><td>46548</td><td>Yoko  Carver</td><td>yoko.carver@xyza.com</td><td>51</td><td>7</td></tr><tr><td>41122</td><td>Yuli  Acosta</td><td>yuli.acosta@xyza.com</td><td>4</td><td>8</td></tr><tr><td>113981</td><td>Ryan  Madden</td><td>ryan.madden@xyza.com</td><td>17</td><td>9</td></tr><tr><td>92814</td><td>Paula  Mays</td><td>paula.mays@xyza.com</td><td>3</td><td>10</td></tr></tbody></table></div>"
      ]
     },
     "metadata": {
      "application/vnd.databricks.v1+output": {
       "addedWidgets": {},
       "aggData": [],
       "aggError": "",
       "aggOverflow": false,
       "aggSchema": [],
       "aggSeriesLimitReached": false,
       "aggType": "",
       "arguments": {},
       "columnCustomDisplayInfos": {},
       "data": [
        [
         62235,
         "Chava  Mason",
         "chava.mason@xyza.com",
         64,
         1
        ],
        [
         120680,
         "Zoe  Levy",
         "zoe.levy@xyza.com",
         22,
         2
        ],
        [
         92819,
         "Basia  Combs",
         "basia.combs@xyza.com",
         3,
         3
        ],
        [
         22111,
         "Bernard  Holcomb",
         "bernard.holcomb@xyza.com",
         9,
         4
        ],
        [
         8221,
         "Adrienne  Blankenship",
         "adrienne.blankenship@xyza.com",
         14,
         5
        ],
        [
         113970,
         "Gage  Cole",
         "gage.cole@xyza.com",
         17,
         6
        ],
        [
         46548,
         "Yoko  Carver",
         "yoko.carver@xyza.com",
         51,
         7
        ],
        [
         41122,
         "Yuli  Acosta",
         "yuli.acosta@xyza.com",
         4,
         8
        ],
        [
         113981,
         "Ryan  Madden",
         "ryan.madden@xyza.com",
         17,
         9
        ],
        [
         92814,
         "Paula  Mays",
         "paula.mays@xyza.com",
         3,
         10
        ]
       ],
       "datasetInfos": [],
       "dbfsResultPath": null,
       "isJsonSchema": true,
       "metadata": {},
       "overflow": false,
       "plotOptions": {
        "customPlotOptions": {},
        "displayType": "table",
        "pivotAggregation": null,
        "pivotColumns": null,
        "xColumns": null,
        "yColumns": null
       },
       "removedWidgets": [],
       "schema": [
        {
         "metadata": "{}",
         "name": "ClientID",
         "type": "\"long\""
        },
        {
         "metadata": "{}",
         "name": "Name",
         "type": "\"string\""
        },
        {
         "metadata": "{}",
         "name": "Email",
         "type": "\"string\""
        },
        {
         "metadata": "{}",
         "name": "sk_region",
         "type": "\"long\""
        },
        {
         "metadata": "{}",
         "name": "sk_client",
         "type": "\"long\""
        }
       ],
       "type": "table"
      }
     },
     "output_type": "display_data"
    }
   ],
   "source": [
    "df_dim_client = spark.read.table('sales_case.gold_dim_client')\n",
    "display(df_dim_client.take(10))"
   ]
  },
  {
   "cell_type": "code",
   "execution_count": 0,
   "metadata": {
    "application/vnd.databricks.v1+cell": {
     "cellMetadata": {
      "byteLimit": 2048000,
      "rowLimit": 10000
     },
     "inputWidgets": {},
     "nuid": "443e99c4-dba3-42fb-b823-16b620b52c0b",
     "showTitle": false,
     "tableResultSettingsMap": {},
     "title": ""
    }
   },
   "outputs": [
    {
     "output_type": "display_data",
     "data": {
      "text/html": [
       "<style scoped>\n",
       "  .table-result-container {\n",
       "    max-height: 300px;\n",
       "    overflow: auto;\n",
       "  }\n",
       "  table, th, td {\n",
       "    border: 1px solid black;\n",
       "    border-collapse: collapse;\n",
       "  }\n",
       "  th, td {\n",
       "    padding: 5px;\n",
       "  }\n",
       "  th {\n",
       "    text-align: left;\n",
       "  }\n",
       "</style><div class='table-result-container'><table class='table-result'><thead style='background-color: white'><tr><th>ManufacturerID</th><th>Manufacturer</th><th>sk_manufacturer</th></tr></thead><tbody><tr><td>7</td><td>VanArsdel</td><td>1</td></tr></tbody></table></div>"
      ]
     },
     "metadata": {
      "application/vnd.databricks.v1+output": {
       "addedWidgets": {},
       "aggData": [],
       "aggError": "",
       "aggOverflow": false,
       "aggSchema": [],
       "aggSeriesLimitReached": false,
       "aggType": "",
       "arguments": {},
       "columnCustomDisplayInfos": {},
       "data": [
        [
         7,
         "VanArsdel",
         1
        ]
       ],
       "datasetInfos": [],
       "dbfsResultPath": null,
       "isJsonSchema": true,
       "metadata": {},
       "overflow": false,
       "plotOptions": {
        "customPlotOptions": {},
        "displayType": "table",
        "pivotAggregation": null,
        "pivotColumns": null,
        "xColumns": null,
        "yColumns": null
       },
       "removedWidgets": [],
       "schema": [
        {
         "metadata": "{}",
         "name": "ManufacturerID",
         "type": "\"long\""
        },
        {
         "metadata": "{}",
         "name": "Manufacturer",
         "type": "\"string\""
        },
        {
         "metadata": "{}",
         "name": "sk_manufacturer",
         "type": "\"long\""
        }
       ],
       "type": "table"
      }
     },
     "output_type": "display_data"
    }
   ],
   "source": [
    "df_dim_manufacturer = spark.read.table('sales_case.gold_dim_manufacturer')\n",
    "display(df_dim_manufacturer.take(10))"
   ]
  },
  {
   "cell_type": "code",
   "execution_count": 0,
   "metadata": {
    "application/vnd.databricks.v1+cell": {
     "cellMetadata": {
      "byteLimit": 2048000,
      "rowLimit": 10000
     },
     "inputWidgets": {},
     "nuid": "e2d5acdb-1ee1-47c1-89a4-bb5911804453",
     "showTitle": false,
     "tableResultSettingsMap": {},
     "title": ""
    }
   },
   "outputs": [
    {
     "output_type": "display_data",
     "data": {
      "text/html": [
       "<style scoped>\n",
       "  .table-result-container {\n",
       "    max-height: 300px;\n",
       "    overflow: auto;\n",
       "  }\n",
       "  table, th, td {\n",
       "    border: 1px solid black;\n",
       "    border-collapse: collapse;\n",
       "  }\n",
       "  th, td {\n",
       "    padding: 5px;\n",
       "  }\n",
       "  th {\n",
       "    text-align: left;\n",
       "  }\n",
       "</style><div class='table-result-container'><table class='table-result'><thead style='background-color: white'><tr><th>Segment</th><th>sk_segment</th></tr></thead><tbody><tr><td>All Season</td><td>1</td></tr><tr><td>Extreme</td><td>2</td></tr><tr><td>Productivity</td><td>3</td></tr><tr><td>Regular</td><td>4</td></tr><tr><td>Convenience</td><td>5</td></tr><tr><td>Moderation</td><td>6</td></tr><tr><td>Youth</td><td>7</td></tr><tr><td>Accessory</td><td>8</td></tr><tr><td>Select</td><td>9</td></tr></tbody></table></div>"
      ]
     },
     "metadata": {
      "application/vnd.databricks.v1+output": {
       "addedWidgets": {},
       "aggData": [],
       "aggError": "",
       "aggOverflow": false,
       "aggSchema": [],
       "aggSeriesLimitReached": false,
       "aggType": "",
       "arguments": {},
       "columnCustomDisplayInfos": {},
       "data": [
        [
         "All Season",
         1
        ],
        [
         "Extreme",
         2
        ],
        [
         "Productivity",
         3
        ],
        [
         "Regular",
         4
        ],
        [
         "Convenience",
         5
        ],
        [
         "Moderation",
         6
        ],
        [
         "Youth",
         7
        ],
        [
         "Accessory",
         8
        ],
        [
         "Select",
         9
        ]
       ],
       "datasetInfos": [],
       "dbfsResultPath": null,
       "isJsonSchema": true,
       "metadata": {},
       "overflow": false,
       "plotOptions": {
        "customPlotOptions": {},
        "displayType": "table",
        "pivotAggregation": null,
        "pivotColumns": null,
        "xColumns": null,
        "yColumns": null
       },
       "removedWidgets": [],
       "schema": [
        {
         "metadata": "{}",
         "name": "Segment",
         "type": "\"string\""
        },
        {
         "metadata": "{}",
         "name": "sk_segment",
         "type": "\"long\""
        }
       ],
       "type": "table"
      }
     },
     "output_type": "display_data"
    }
   ],
   "source": [
    "df_dim_segment = spark.read.table('sales_case.gold_dim_segment')\n",
    "display(df_dim_segment.take(10))"
   ]
  },
  {
   "cell_type": "markdown",
   "metadata": {
    "application/vnd.databricks.v1+cell": {
     "cellMetadata": {},
     "inputWidgets": {},
     "nuid": "657ea84b-7739-4e71-aaa6-6c71d4b0c9b6",
     "showTitle": false,
     "tableResultSettingsMap": {},
     "title": ""
    }
   },
   "source": [
    "#### Optimization of Read with Predicate Pushdown\n",
    "\n",
    "Make sure that queries are taking advantage of predicate pushdown, which means that filters are applied directly when reading the data, improving efficiency.\n"
   ]
  },
  {
   "cell_type": "code",
   "execution_count": 0,
   "metadata": {
    "application/vnd.databricks.v1+cell": {
     "cellMetadata": {
      "byteLimit": 2048000,
      "rowLimit": 10000
     },
     "inputWidgets": {},
     "nuid": "51ff85e7-458a-4f8c-ab88-ad1f7319840f",
     "showTitle": false,
     "tableResultSettingsMap": {},
     "title": ""
    }
   },
   "outputs": [
    {
     "output_type": "display_data",
     "data": {
      "text/html": [
       "<style scoped>\n",
       "  .table-result-container {\n",
       "    max-height: 300px;\n",
       "    overflow: auto;\n",
       "  }\n",
       "  table, th, td {\n",
       "    border: 1px solid black;\n",
       "    border-collapse: collapse;\n",
       "  }\n",
       "  th, td {\n",
       "    padding: 5px;\n",
       "  }\n",
       "  th {\n",
       "    text-align: left;\n",
       "  }\n",
       "</style><div class='table-result-container'><table class='table-result'><thead style='background-color: white'><tr><th>SalesDate</th><th>sk_product</th><th>sk_category</th><th>sk_segment</th><th>sk_manufacturer</th><th>sk_client</th><th>Units</th><th>UnitPrice</th><th>UnitCost</th><th>SalesTotal</th><th>Year</th><th>Month</th></tr></thead><tbody><tr><td>2012-10-01</td><td>81</td><td>2</td><td>6</td><td>1</td><td>17179894748</td><td>1</td><td>102.37</td><td>74.73</td><td>74.73</td><td>2012</td><td>10</td></tr><tr><td>2012-10-08</td><td>81</td><td>2</td><td>6</td><td>1</td><td>25769831779</td><td>1</td><td>102.37</td><td>74.73</td><td>74.73</td><td>2012</td><td>10</td></tr><tr><td>2012-10-31</td><td>81</td><td>2</td><td>6</td><td>1</td><td>17179895037</td><td>1</td><td>102.37</td><td>74.73</td><td>74.73</td><td>2012</td><td>10</td></tr><tr><td>2012-10-10</td><td>81</td><td>2</td><td>6</td><td>1</td><td>24358</td><td>1</td><td>102.37</td><td>74.73</td><td>74.73</td><td>2012</td><td>10</td></tr><tr><td>2012-10-28</td><td>81</td><td>2</td><td>6</td><td>1</td><td>25068</td><td>1</td><td>102.37</td><td>74.73</td><td>74.73</td><td>2012</td><td>10</td></tr><tr><td>2012-10-19</td><td>81</td><td>2</td><td>6</td><td>1</td><td>25769830618</td><td>1</td><td>102.37</td><td>74.73</td><td>74.73</td><td>2012</td><td>10</td></tr><tr><td>2012-10-14</td><td>81</td><td>2</td><td>6</td><td>1</td><td>17179895723</td><td>1</td><td>102.37</td><td>74.73</td><td>74.73</td><td>2012</td><td>10</td></tr><tr><td>2012-10-22</td><td>81</td><td>2</td><td>6</td><td>1</td><td>34359764255</td><td>1</td><td>102.37</td><td>74.73</td><td>74.73</td><td>2012</td><td>10</td></tr><tr><td>2012-10-23</td><td>81</td><td>2</td><td>6</td><td>1</td><td>34359762699</td><td>1</td><td>102.37</td><td>74.73</td><td>74.73</td><td>2012</td><td>10</td></tr><tr><td>2012-10-19</td><td>81</td><td>2</td><td>6</td><td>1</td><td>51539631609</td><td>1</td><td>102.37</td><td>74.73</td><td>74.73</td><td>2012</td><td>10</td></tr></tbody></table></div>"
      ]
     },
     "metadata": {
      "application/vnd.databricks.v1+output": {
       "addedWidgets": {},
       "aggData": [],
       "aggError": "",
       "aggOverflow": false,
       "aggSchema": [],
       "aggSeriesLimitReached": false,
       "aggType": "",
       "arguments": {},
       "columnCustomDisplayInfos": {},
       "data": [
        [
         "2012-10-01",
         81,
         2,
         6,
         1,
         17179894748,
         1,
         "102.37",
         "74.73",
         "74.73",
         2012,
         10
        ],
        [
         "2012-10-08",
         81,
         2,
         6,
         1,
         25769831779,
         1,
         "102.37",
         "74.73",
         "74.73",
         2012,
         10
        ],
        [
         "2012-10-31",
         81,
         2,
         6,
         1,
         17179895037,
         1,
         "102.37",
         "74.73",
         "74.73",
         2012,
         10
        ],
        [
         "2012-10-10",
         81,
         2,
         6,
         1,
         24358,
         1,
         "102.37",
         "74.73",
         "74.73",
         2012,
         10
        ],
        [
         "2012-10-28",
         81,
         2,
         6,
         1,
         25068,
         1,
         "102.37",
         "74.73",
         "74.73",
         2012,
         10
        ],
        [
         "2012-10-19",
         81,
         2,
         6,
         1,
         25769830618,
         1,
         "102.37",
         "74.73",
         "74.73",
         2012,
         10
        ],
        [
         "2012-10-14",
         81,
         2,
         6,
         1,
         17179895723,
         1,
         "102.37",
         "74.73",
         "74.73",
         2012,
         10
        ],
        [
         "2012-10-22",
         81,
         2,
         6,
         1,
         34359764255,
         1,
         "102.37",
         "74.73",
         "74.73",
         2012,
         10
        ],
        [
         "2012-10-23",
         81,
         2,
         6,
         1,
         34359762699,
         1,
         "102.37",
         "74.73",
         "74.73",
         2012,
         10
        ],
        [
         "2012-10-19",
         81,
         2,
         6,
         1,
         51539631609,
         1,
         "102.37",
         "74.73",
         "74.73",
         2012,
         10
        ]
       ],
       "datasetInfos": [],
       "dbfsResultPath": null,
       "isJsonSchema": true,
       "metadata": {},
       "overflow": false,
       "plotOptions": {
        "customPlotOptions": {},
        "displayType": "table",
        "pivotAggregation": null,
        "pivotColumns": null,
        "xColumns": null,
        "yColumns": null
       },
       "removedWidgets": [],
       "schema": [
        {
         "metadata": "{}",
         "name": "SalesDate",
         "type": "\"date\""
        },
        {
         "metadata": "{}",
         "name": "sk_product",
         "type": "\"long\""
        },
        {
         "metadata": "{}",
         "name": "sk_category",
         "type": "\"long\""
        },
        {
         "metadata": "{}",
         "name": "sk_segment",
         "type": "\"long\""
        },
        {
         "metadata": "{}",
         "name": "sk_manufacturer",
         "type": "\"long\""
        },
        {
         "metadata": "{}",
         "name": "sk_client",
         "type": "\"long\""
        },
        {
         "metadata": "{}",
         "name": "Units",
         "type": "\"long\""
        },
        {
         "metadata": "{}",
         "name": "UnitPrice",
         "type": "\"string\""
        },
        {
         "metadata": "{}",
         "name": "UnitCost",
         "type": "\"string\""
        },
        {
         "metadata": "{}",
         "name": "SalesTotal",
         "type": "\"string\""
        },
        {
         "metadata": "{}",
         "name": "Year",
         "type": "\"long\""
        },
        {
         "metadata": "{}",
         "name": "Month",
         "type": "\"long\""
        }
       ],
       "type": "table"
      }
     },
     "output_type": "display_data"
    }
   ],
   "source": [
    "# Using predicate pushdown doing filters when reading data\n",
    "df_fact_sales_filtered = spark.read.table('sales_case.gold_fact_sales').filter(\"year = 2012 AND Month = 10\")\n",
    "display(df_fact_sales_filtered.take(10))"
   ]
  },
  {
   "cell_type": "markdown",
   "metadata": {
    "application/vnd.databricks.v1+cell": {
     "cellMetadata": {},
     "inputWidgets": {},
     "nuid": "7f32fdfa-2531-4d4d-9247-753d392978ff",
     "showTitle": false,
     "tableResultSettingsMap": {},
     "title": ""
    }
   },
   "source": [
    "Broadcast Join\n",
    "\n",
    "1. Broadcast Join:\n",
    "\n",
    "The broadcast() function is applied to dimension tables (dim_produto_df and dim_cliente_df). This replicates the dimension tables to all nodes, allowing joins to be performed locally on each node, without the need for communication between nodes, which improves performance in distributed clusters.\n",
    "\n",
    "2. Join with Broadcast:\n",
    "\n",
    "Joins are made between the original key columns (IDProduto, IDCliente) and the dimension tables to obtain the surrogate keys (SK_Produto, SK_Cliente).\n",
    "\n",
    "3. Partitioning:\n",
    "\n",
    "We add Year and Month columns to optimize the storage of the fact table and improve performance in temporal queries. The table is partitioned by these columns.\n",
    "\n",
    "Advantages of Broadcast Join:\n",
    "\n",
    "Reduces data movement during the join operation, as small dimensions are replicated to all nodes.\n",
    "Increases performance when the dimension tables are significantly smaller than the fact table, which is common in data warehouse architectures.\n",
    "\n",
    "Disadvantages of Broadcast Join:\n",
    "\n",
    "Memory Limitation: The smaller DataFrame must fit in memory on all nodes. If the DataFrame is too large, it can cause memory shortage errors."
   ]
  },
  {
   "cell_type": "code",
   "execution_count": 0,
   "metadata": {
    "application/vnd.databricks.v1+cell": {
     "cellMetadata": {
      "byteLimit": 2048000,
      "rowLimit": 10000
     },
     "inputWidgets": {},
     "nuid": "de4fc35c-eb99-485c-89ff-4d30340a0899",
     "showTitle": false,
     "tableResultSettingsMap": {},
     "title": ""
    }
   },
   "outputs": [
    {
     "output_type": "display_data",
     "data": {
      "text/html": [
       "<style scoped>\n",
       "  .table-result-container {\n",
       "    max-height: 300px;\n",
       "    overflow: auto;\n",
       "  }\n",
       "  table, th, td {\n",
       "    border: 1px solid black;\n",
       "    border-collapse: collapse;\n",
       "  }\n",
       "  th, td {\n",
       "    padding: 5px;\n",
       "  }\n",
       "  th {\n",
       "    text-align: left;\n",
       "  }\n",
       "</style><div class='table-result-container'><table class='table-result'><thead style='background-color: white'><tr><th>Category</th><th>year</th><th>SalesTotal</th></tr></thead><tbody><tr><td>Urban</td><td>2011</td><td>6462865.989999663</td></tr><tr><td>Accessory</td><td>2011</td><td>636777.2600000366</td></tr><tr><td>Mix</td><td>2011</td><td>577400.910000008</td></tr><tr><td>Youth</td><td>2011</td><td>56238.13000000067</td></tr><tr><td>Rural</td><td>2011</td><td>1556.88</td></tr><tr><td>Urban</td><td>2012</td><td>6947654.179999314</td></tr><tr><td>Accessory</td><td>2012</td><td>746667.1100000343</td></tr><tr><td>Mix</td><td>2012</td><td>486981.05000000895</td></tr><tr><td>Youth</td><td>2012</td><td>140185.2000000025</td></tr><tr><td>Rural</td><td>2012</td><td>119.76</td></tr></tbody></table></div>"
      ]
     },
     "metadata": {
      "application/vnd.databricks.v1+output": {
       "addedWidgets": {},
       "aggData": [],
       "aggError": "",
       "aggOverflow": false,
       "aggSchema": [],
       "aggSeriesLimitReached": false,
       "aggType": "",
       "arguments": {},
       "columnCustomDisplayInfos": {},
       "data": [
        [
         "Urban",
         2011,
         6462865.989999663
        ],
        [
         "Accessory",
         2011,
         636777.2600000366
        ],
        [
         "Mix",
         2011,
         577400.910000008
        ],
        [
         "Youth",
         2011,
         56238.13000000067
        ],
        [
         "Rural",
         2011,
         1556.88
        ],
        [
         "Urban",
         2012,
         6947654.179999314
        ],
        [
         "Accessory",
         2012,
         746667.1100000343
        ],
        [
         "Mix",
         2012,
         486981.05000000895
        ],
        [
         "Youth",
         2012,
         140185.2000000025
        ],
        [
         "Rural",
         2012,
         119.76
        ]
       ],
       "datasetInfos": [],
       "dbfsResultPath": null,
       "isJsonSchema": true,
       "metadata": {},
       "overflow": false,
       "plotOptions": {
        "customPlotOptions": {},
        "displayType": "table",
        "pivotAggregation": null,
        "pivotColumns": null,
        "xColumns": null,
        "yColumns": null
       },
       "removedWidgets": [],
       "schema": [
        {
         "metadata": "{}",
         "name": "Category",
         "type": "\"string\""
        },
        {
         "metadata": "{}",
         "name": "year",
         "type": "\"long\""
        },
        {
         "metadata": "{}",
         "name": "SalesTotal",
         "type": "\"double\""
        }
       ],
       "type": "table"
      }
     },
     "output_type": "display_data"
    }
   ],
   "source": [
    "df_fact_sales = spark.read.table('sales_case.gold_fact_sales')\n",
    "df_dim_category = spark.read.table('sales_case.gold_dim_category')\n",
    "\n",
    "# display(df_fact_sales.take(10))\n",
    "# display(df_dim_category.take(10))\n",
    "\n",
    "# Using broadcast on category DF\n",
    "df_dim_category = broadcast(df_dim_category)\n",
    "\n",
    "# Joing dfs\n",
    "joined_df = df_fact_sales.join(df_dim_category, df_fact_sales.sk_category == df_dim_category.sk_category)\n",
    "\n",
    "# Grouping by category and year doing a sum of sales total\n",
    "final_result_df = joined_df.groupBy(\"Category\", \"year\")\\\n",
    "        .agg(sum(\"SalesTotal\").alias(\"SalesTotal\"))\\\n",
    "        .orderBy(\"year\",desc(\"SalesTotal\"))\n",
    "\n",
    "\n",
    "display(final_result_df.take(10))"
   ]
  },
  {
   "cell_type": "markdown",
   "metadata": {
    "application/vnd.databricks.v1+cell": {
     "cellMetadata": {},
     "inputWidgets": {},
     "nuid": "e1e76c7a-1ae2-49f4-9ce7-5637d1681bcf",
     "showTitle": false,
     "tableResultSettingsMap": {},
     "title": ""
    }
   },
   "source": [
    "### Cleaning DF from Memory to optmmize"
   ]
  },
  {
   "cell_type": "code",
   "execution_count": 0,
   "metadata": {
    "application/vnd.databricks.v1+cell": {
     "cellMetadata": {},
     "inputWidgets": {},
     "nuid": "a2db5032-aaf6-4aaf-81c0-cab411e74673",
     "showTitle": false,
     "tableResultSettingsMap": {},
     "title": ""
    }
   },
   "outputs": [],
   "source": [
    "import gc\n",
    "gc.collect()\n",
    "\n",
    "df_fact_sales.unpersist()\n",
    "df_dim_category.unpersist()\n",
    "final_result_df.unpersist()"
   ]
  }
 ],
 "metadata": {
  "application/vnd.databricks.v1+notebook": {
   "computePreferences": null,
   "dashboards": [],
   "environmentMetadata": null,
   "language": "python",
   "notebookMetadata": {
    "pythonIndentUnit": 4
   },
   "notebookName": "005 Optimized Queries",
   "widgets": {}
  }
 },
 "nbformat": 4,
 "nbformat_minor": 0
}
