{
 "cells": [
  {
   "cell_type": "markdown",
   "metadata": {
    "application/vnd.databricks.v1+cell": {
     "cellMetadata": {},
     "inputWidgets": {},
     "nuid": "b8f6ebb2-bd1f-472b-9df9-3315acf55566",
     "showTitle": false,
     "tableResultSettingsMap": {},
     "title": ""
    }
   },
   "source": [
    "## Gold Layer (Delta) Using Dimension and Facts"
   ]
  },
  {
   "cell_type": "code",
   "execution_count": 0,
   "metadata": {
    "application/vnd.databricks.v1+cell": {
     "cellMetadata": {
      "byteLimit": 2048000,
      "rowLimit": 10000
     },
     "inputWidgets": {},
     "nuid": "0c2e2d86-a68d-4444-b4e7-b8cdfc90cf82",
     "showTitle": false,
     "tableResultSettingsMap": {},
     "title": ""
    }
   },
   "outputs": [],
   "source": [
    "%run ./Utils"
   ]
  },
  {
   "cell_type": "code",
   "execution_count": 0,
   "metadata": {
    "application/vnd.databricks.v1+cell": {
     "cellMetadata": {
      "byteLimit": 2048000,
      "rowLimit": 10000
     },
     "inputWidgets": {},
     "nuid": "46d2489c-4e45-405d-ae47-54e9b7d36ece",
     "showTitle": false,
     "tableResultSettingsMap": {},
     "title": ""
    }
   },
   "outputs": [],
   "source": [
    "from pyspark.sql.functions import format_number\n",
    "from pyspark.sql.functions import *\n",
    "from pyspark.sql.types import *\n",
    "from pyspark.sql.functions import monotonically_increasing_id"
   ]
  },
  {
   "cell_type": "code",
   "execution_count": 0,
   "metadata": {
    "application/vnd.databricks.v1+cell": {
     "cellMetadata": {
      "byteLimit": 2048000,
      "rowLimit": 10000
     },
     "inputWidgets": {},
     "nuid": "a6398c78-3c20-4556-879c-1a7d68216bcd",
     "showTitle": false,
     "tableResultSettingsMap": {},
     "title": ""
    }
   },
   "outputs": [],
   "source": [
    "# Var in this notebook\n",
    "Silver_path = \"sales_case.silver_sales_table\"\n",
    "\n",
    "#Define the table name and database to save\n",
    "database_name = 'sales_case'\n",
    "\n",
    "# Check if the table Gold exists\n",
    "Dim_product_exists = spark.sql(f\"SHOW TABLES IN {database_name} LIKE 'gold_dim_product'\").count() > 0\n",
    "Dim_category_exists = spark.sql(f\"SHOW TABLES IN {database_name} LIKE 'gold_dim_category'\").count() > 0\n",
    "Dim_segment_exists = spark.sql(f\"SHOW TABLES IN {database_name} LIKE 'gold_dim_segment'\").count() > 0\n",
    "Dim_manufacturer_exists = spark.sql(f\"SHOW TABLES IN {database_name} LIKE 'gold_dim_manufacturer'\").count() > 0\n",
    "Dim_region_exists = spark.sql(f\"SHOW TABLES IN {database_name} LIKE 'gold_dim_region'\").count() > 0\n",
    "Dim_client_exists = spark.sql(f\"SHOW TABLES IN {database_name} LIKE 'gold_dim_client'\").count() > 0\n",
    "Fact_sales_exists = spark.sql(f\"SHOW TABLES IN {database_name} LIKE 'gold_fact_sales'\").count() > 0"
   ]
  },
  {
   "cell_type": "markdown",
   "metadata": {
    "application/vnd.databricks.v1+cell": {
     "cellMetadata": {},
     "inputWidgets": {},
     "nuid": "f11773cb-554d-4c0c-910e-5e8361cc4fbe",
     "showTitle": false,
     "tableResultSettingsMap": {},
     "title": ""
    }
   },
   "source": [
    "#### Reading data from Silver table"
   ]
  },
  {
   "cell_type": "code",
   "execution_count": 0,
   "metadata": {
    "application/vnd.databricks.v1+cell": {
     "cellMetadata": {
      "byteLimit": 2048000,
      "rowLimit": 10000
     },
     "inputWidgets": {},
     "nuid": "168a4bf3-63be-47d6-b41d-425d50a7aea3",
     "showTitle": false,
     "tableResultSettingsMap": {},
     "title": ""
    }
   },
   "outputs": [
    {
     "output_type": "display_data",
     "data": {
      "text/html": [
       "<style scoped>\n",
       "  .table-result-container {\n",
       "    max-height: 300px;\n",
       "    overflow: auto;\n",
       "  }\n",
       "  table, th, td {\n",
       "    border: 1px solid black;\n",
       "    border-collapse: collapse;\n",
       "  }\n",
       "  th, td {\n",
       "    padding: 5px;\n",
       "  }\n",
       "  th {\n",
       "    text-align: left;\n",
       "  }\n",
       "</style><div class='table-result-container'><table class='table-result'><thead style='background-color: white'><tr><th>ProductID</th><th>Date</th><th>ClientID</th><th>Units</th><th>Product</th><th>Category</th><th>Segment</th><th>ManufacturerID</th><th>Manufacturer</th><th>UnitCost</th><th>UnitPrice</th><th>PostalCode</th><th>City</th><th>State</th><th>Region</th><th>District</th><th>Country</th><th>filename</th><th>Email</th><th>Name</th><th>SalesTotal</th><th>Year</th><th>Month</th></tr></thead><tbody><tr><td>506</td><td>2011-01-02</td><td>159938</td><td>1</td><td>Maximus UM-11</td><td>Urban</td><td>Moderation</td><td>7</td><td>VanArsdel</td><td>90.83</td><td>124.42</td><td>55041</td><td>Lake City</td><td>MN</td><td>Central</td><td>District #28</td><td>USA</td><td>dados_2011.csv</td><td>pascale.ferguson@xyza.com</td><td>Pascale  Ferguson</td><td>90.83</td><td>2011</td><td>1</td></tr><tr><td>506</td><td>2011-01-27</td><td>158876</td><td>1</td><td>Maximus UM-11</td><td>Urban</td><td>Moderation</td><td>7</td><td>VanArsdel</td><td>90.83</td><td>124.42</td><td>55316</td><td>Champlin</td><td>MN</td><td>Central</td><td>District #28</td><td>USA</td><td>dados_2011.csv</td><td>regina.villarreal@xyza.com</td><td>Regina  Villarreal</td><td>90.83</td><td>2011</td><td>1</td></tr><tr><td>506</td><td>2011-01-28</td><td>100427</td><td>1</td><td>Maximus UM-11</td><td>Urban</td><td>Moderation</td><td>7</td><td>VanArsdel</td><td>90.83</td><td>124.42</td><td>56401</td><td>Brainerd</td><td>MN</td><td>Central</td><td>District #28</td><td>USA</td><td>dados_2011.csv</td><td>ciara.alvarado@xyza.com</td><td>Ciara  Alvarado</td><td>90.83</td><td>2011</td><td>1</td></tr><tr><td>506</td><td>2011-01-30</td><td>219021</td><td>1</td><td>Maximus UM-11</td><td>Urban</td><td>Moderation</td><td>7</td><td>VanArsdel</td><td>90.83</td><td>124.42</td><td>55709</td><td>Bovey</td><td>MN</td><td>Central</td><td>District #28</td><td>USA</td><td>dados_2011.csv</td><td>yoko.english@xyza.com</td><td>Yoko  English</td><td>90.83</td><td>2011</td><td>1</td></tr><tr><td>506</td><td>2011-01-29</td><td>280795</td><td>1</td><td>Maximus UM-11</td><td>Urban</td><td>Moderation</td><td>7</td><td>VanArsdel</td><td>90.83</td><td>124.42</td><td>55816</td><td>Duluth</td><td>MN</td><td>Central</td><td>District #28</td><td>USA</td><td>dados_2011.csv</td><td>eve.hamilton@xyza.com</td><td>Eve  Hamilton</td><td>90.83</td><td>2011</td><td>1</td></tr><tr><td>506</td><td>2011-01-30</td><td>30565</td><td>1</td><td>Maximus UM-11</td><td>Urban</td><td>Moderation</td><td>7</td><td>VanArsdel</td><td>90.83</td><td>124.42</td><td>56001</td><td>Mankato</td><td>MN</td><td>Central</td><td>District #28</td><td>USA</td><td>dados_2011.csv</td><td>hoyt.ashley@xyza.com</td><td>Hoyt  Ashley</td><td>90.83</td><td>2011</td><td>1</td></tr><tr><td>506</td><td>2011-01-27</td><td>168503</td><td>1</td><td>Maximus UM-11</td><td>Urban</td><td>Moderation</td><td>7</td><td>VanArsdel</td><td>90.83</td><td>124.42</td><td>55117</td><td>Saint Paul</td><td>MN</td><td>Central</td><td>District #28</td><td>USA</td><td>dados_2011.csv</td><td>morgan.smith@xyza.com</td><td>Morgan  Smith</td><td>90.83</td><td>2011</td><td>1</td></tr><tr><td>506</td><td>2011-01-27</td><td>162455</td><td>1</td><td>Maximus UM-11</td><td>Urban</td><td>Moderation</td><td>7</td><td>VanArsdel</td><td>90.83</td><td>124.42</td><td>55127</td><td>Saint Paul</td><td>MN</td><td>Central</td><td>District #28</td><td>USA</td><td>dados_2011.csv</td><td>talon.hudson@xyza.com</td><td>Talon  Hudson</td><td>90.83</td><td>2011</td><td>1</td></tr><tr><td>506</td><td>2011-01-22</td><td>119705</td><td>1</td><td>Maximus UM-11</td><td>Urban</td><td>Moderation</td><td>7</td><td>VanArsdel</td><td>90.83</td><td>124.42</td><td>55109</td><td>Saint Paul</td><td>MN</td><td>Central</td><td>District #28</td><td>USA</td><td>dados_2011.csv</td><td>aphrodite.simmons@xyza.com</td><td>Aphrodite  Simmons</td><td>90.83</td><td>2011</td><td>1</td></tr><tr><td>506</td><td>2011-01-29</td><td>162456</td><td>1</td><td>Maximus UM-11</td><td>Urban</td><td>Moderation</td><td>7</td><td>VanArsdel</td><td>90.83</td><td>124.42</td><td>55127</td><td>Saint Paul</td><td>MN</td><td>Central</td><td>District #28</td><td>USA</td><td>dados_2011.csv</td><td>kibo.monroe@xyza.com</td><td>Kibo  Monroe</td><td>90.83</td><td>2011</td><td>1</td></tr></tbody></table></div>"
      ]
     },
     "metadata": {
      "application/vnd.databricks.v1+output": {
       "addedWidgets": {},
       "aggData": [],
       "aggError": "",
       "aggOverflow": false,
       "aggSchema": [],
       "aggSeriesLimitReached": false,
       "aggType": "",
       "arguments": {},
       "columnCustomDisplayInfos": {},
       "data": [
        [
         506,
         "2011-01-02",
         159938,
         1,
         "Maximus UM-11",
         "Urban",
         "Moderation",
         7,
         "VanArsdel",
         "90.83",
         "124.42",
         "55041",
         "Lake City",
         "MN",
         "Central",
         "District #28",
         "USA",
         "dados_2011.csv",
         "pascale.ferguson@xyza.com",
         "Pascale  Ferguson",
         "90.83",
         2011,
         1
        ],
        [
         506,
         "2011-01-27",
         158876,
         1,
         "Maximus UM-11",
         "Urban",
         "Moderation",
         7,
         "VanArsdel",
         "90.83",
         "124.42",
         "55316",
         "Champlin",
         "MN",
         "Central",
         "District #28",
         "USA",
         "dados_2011.csv",
         "regina.villarreal@xyza.com",
         "Regina  Villarreal",
         "90.83",
         2011,
         1
        ],
        [
         506,
         "2011-01-28",
         100427,
         1,
         "Maximus UM-11",
         "Urban",
         "Moderation",
         7,
         "VanArsdel",
         "90.83",
         "124.42",
         "56401",
         "Brainerd",
         "MN",
         "Central",
         "District #28",
         "USA",
         "dados_2011.csv",
         "ciara.alvarado@xyza.com",
         "Ciara  Alvarado",
         "90.83",
         2011,
         1
        ],
        [
         506,
         "2011-01-30",
         219021,
         1,
         "Maximus UM-11",
         "Urban",
         "Moderation",
         7,
         "VanArsdel",
         "90.83",
         "124.42",
         "55709",
         "Bovey",
         "MN",
         "Central",
         "District #28",
         "USA",
         "dados_2011.csv",
         "yoko.english@xyza.com",
         "Yoko  English",
         "90.83",
         2011,
         1
        ],
        [
         506,
         "2011-01-29",
         280795,
         1,
         "Maximus UM-11",
         "Urban",
         "Moderation",
         7,
         "VanArsdel",
         "90.83",
         "124.42",
         "55816",
         "Duluth",
         "MN",
         "Central",
         "District #28",
         "USA",
         "dados_2011.csv",
         "eve.hamilton@xyza.com",
         "Eve  Hamilton",
         "90.83",
         2011,
         1
        ],
        [
         506,
         "2011-01-30",
         30565,
         1,
         "Maximus UM-11",
         "Urban",
         "Moderation",
         7,
         "VanArsdel",
         "90.83",
         "124.42",
         "56001",
         "Mankato",
         "MN",
         "Central",
         "District #28",
         "USA",
         "dados_2011.csv",
         "hoyt.ashley@xyza.com",
         "Hoyt  Ashley",
         "90.83",
         2011,
         1
        ],
        [
         506,
         "2011-01-27",
         168503,
         1,
         "Maximus UM-11",
         "Urban",
         "Moderation",
         7,
         "VanArsdel",
         "90.83",
         "124.42",
         "55117",
         "Saint Paul",
         "MN",
         "Central",
         "District #28",
         "USA",
         "dados_2011.csv",
         "morgan.smith@xyza.com",
         "Morgan  Smith",
         "90.83",
         2011,
         1
        ],
        [
         506,
         "2011-01-27",
         162455,
         1,
         "Maximus UM-11",
         "Urban",
         "Moderation",
         7,
         "VanArsdel",
         "90.83",
         "124.42",
         "55127",
         "Saint Paul",
         "MN",
         "Central",
         "District #28",
         "USA",
         "dados_2011.csv",
         "talon.hudson@xyza.com",
         "Talon  Hudson",
         "90.83",
         2011,
         1
        ],
        [
         506,
         "2011-01-22",
         119705,
         1,
         "Maximus UM-11",
         "Urban",
         "Moderation",
         7,
         "VanArsdel",
         "90.83",
         "124.42",
         "55109",
         "Saint Paul",
         "MN",
         "Central",
         "District #28",
         "USA",
         "dados_2011.csv",
         "aphrodite.simmons@xyza.com",
         "Aphrodite  Simmons",
         "90.83",
         2011,
         1
        ],
        [
         506,
         "2011-01-29",
         162456,
         1,
         "Maximus UM-11",
         "Urban",
         "Moderation",
         7,
         "VanArsdel",
         "90.83",
         "124.42",
         "55127",
         "Saint Paul",
         "MN",
         "Central",
         "District #28",
         "USA",
         "dados_2011.csv",
         "kibo.monroe@xyza.com",
         "Kibo  Monroe",
         "90.83",
         2011,
         1
        ]
       ],
       "datasetInfos": [],
       "dbfsResultPath": null,
       "isJsonSchema": true,
       "metadata": {},
       "overflow": false,
       "plotOptions": {
        "customPlotOptions": {},
        "displayType": "table",
        "pivotAggregation": null,
        "pivotColumns": null,
        "xColumns": null,
        "yColumns": null
       },
       "removedWidgets": [],
       "schema": [
        {
         "metadata": "{}",
         "name": "ProductID",
         "type": "\"long\""
        },
        {
         "metadata": "{}",
         "name": "Date",
         "type": "\"date\""
        },
        {
         "metadata": "{}",
         "name": "ClientID",
         "type": "\"long\""
        },
        {
         "metadata": "{}",
         "name": "Units",
         "type": "\"long\""
        },
        {
         "metadata": "{}",
         "name": "Product",
         "type": "\"string\""
        },
        {
         "metadata": "{}",
         "name": "Category",
         "type": "\"string\""
        },
        {
         "metadata": "{}",
         "name": "Segment",
         "type": "\"string\""
        },
        {
         "metadata": "{}",
         "name": "ManufacturerID",
         "type": "\"long\""
        },
        {
         "metadata": "{}",
         "name": "Manufacturer",
         "type": "\"string\""
        },
        {
         "metadata": "{}",
         "name": "UnitCost",
         "type": "\"string\""
        },
        {
         "metadata": "{}",
         "name": "UnitPrice",
         "type": "\"string\""
        },
        {
         "metadata": "{}",
         "name": "PostalCode",
         "type": "\"string\""
        },
        {
         "metadata": "{}",
         "name": "City",
         "type": "\"string\""
        },
        {
         "metadata": "{}",
         "name": "State",
         "type": "\"string\""
        },
        {
         "metadata": "{}",
         "name": "Region",
         "type": "\"string\""
        },
        {
         "metadata": "{}",
         "name": "District",
         "type": "\"string\""
        },
        {
         "metadata": "{}",
         "name": "Country",
         "type": "\"string\""
        },
        {
         "metadata": "{}",
         "name": "filename",
         "type": "\"string\""
        },
        {
         "metadata": "{}",
         "name": "Email",
         "type": "\"string\""
        },
        {
         "metadata": "{}",
         "name": "Name",
         "type": "\"string\""
        },
        {
         "metadata": "{}",
         "name": "SalesTotal",
         "type": "\"string\""
        },
        {
         "metadata": "{}",
         "name": "Year",
         "type": "\"long\""
        },
        {
         "metadata": "{}",
         "name": "Month",
         "type": "\"long\""
        }
       ],
       "type": "table"
      }
     },
     "output_type": "display_data"
    }
   ],
   "source": [
    "# Reading from a Paquet table\n",
    "df_silver = spark.read.table(Silver_path)\n",
    "\n",
    "display(df_silver.take(10))"
   ]
  },
  {
   "cell_type": "markdown",
   "metadata": {
    "application/vnd.databricks.v1+cell": {
     "cellMetadata": {},
     "inputWidgets": {},
     "nuid": "ae2901bb-159e-4c49-a35a-5794d4147069",
     "showTitle": false,
     "tableResultSettingsMap": {},
     "title": ""
    }
   },
   "source": [
    "#### Creating Product Dimension"
   ]
  },
  {
   "cell_type": "code",
   "execution_count": 0,
   "metadata": {
    "application/vnd.databricks.v1+cell": {
     "cellMetadata": {
      "byteLimit": 2048000,
      "rowLimit": 10000
     },
     "inputWidgets": {},
     "nuid": "2cd61be0-b1b8-4087-bbce-48a15691d94a",
     "showTitle": false,
     "tableResultSettingsMap": {},
     "title": ""
    }
   },
   "outputs": [
    {
     "output_type": "display_data",
     "data": {
      "text/html": [
       "<style scoped>\n",
       "  .table-result-container {\n",
       "    max-height: 300px;\n",
       "    overflow: auto;\n",
       "  }\n",
       "  table, th, td {\n",
       "    border: 1px solid black;\n",
       "    border-collapse: collapse;\n",
       "  }\n",
       "  th, td {\n",
       "    padding: 5px;\n",
       "  }\n",
       "  th {\n",
       "    text-align: left;\n",
       "  }\n",
       "</style><div class='table-result-container'><table class='table-result'><thead style='background-color: white'><tr><th>ProductID</th><th>Product</th><th>Category</th><th>sk_product</th></tr></thead><tbody><tr><td>609</td><td>Maximus UC-74</td><td>Urban</td><td>1</td></tr><tr><td>686</td><td>Maximus UC-51</td><td>Urban</td><td>2</td></tr><tr><td>662</td><td>Maximus UC-27</td><td>Urban</td><td>3</td></tr><tr><td>577</td><td>Maximus UC-42</td><td>Urban</td><td>4</td></tr><tr><td>578</td><td>Maximus UC-43</td><td>Urban</td><td>5</td></tr><tr><td>690</td><td>Maximus UC-55</td><td>Urban</td><td>6</td></tr><tr><td>579</td><td>Maximus UC-44</td><td>Urban</td><td>7</td></tr><tr><td>689</td><td>Maximus UC-54</td><td>Urban</td><td>8</td></tr><tr><td>685</td><td>Maximus UC-50</td><td>Urban</td><td>9</td></tr><tr><td>636</td><td>Maximus UC-01</td><td>Urban</td><td>10</td></tr></tbody></table></div>"
      ]
     },
     "metadata": {
      "application/vnd.databricks.v1+output": {
       "addedWidgets": {},
       "aggData": [],
       "aggError": "",
       "aggOverflow": false,
       "aggSchema": [],
       "aggSeriesLimitReached": false,
       "aggType": "",
       "arguments": {},
       "columnCustomDisplayInfos": {},
       "data": [
        [
         609,
         "Maximus UC-74",
         "Urban",
         1
        ],
        [
         686,
         "Maximus UC-51",
         "Urban",
         2
        ],
        [
         662,
         "Maximus UC-27",
         "Urban",
         3
        ],
        [
         577,
         "Maximus UC-42",
         "Urban",
         4
        ],
        [
         578,
         "Maximus UC-43",
         "Urban",
         5
        ],
        [
         690,
         "Maximus UC-55",
         "Urban",
         6
        ],
        [
         579,
         "Maximus UC-44",
         "Urban",
         7
        ],
        [
         689,
         "Maximus UC-54",
         "Urban",
         8
        ],
        [
         685,
         "Maximus UC-50",
         "Urban",
         9
        ],
        [
         636,
         "Maximus UC-01",
         "Urban",
         10
        ]
       ],
       "datasetInfos": [],
       "dbfsResultPath": null,
       "isJsonSchema": true,
       "metadata": {},
       "overflow": false,
       "plotOptions": {
        "customPlotOptions": {},
        "displayType": "table",
        "pivotAggregation": null,
        "pivotColumns": null,
        "xColumns": null,
        "yColumns": null
       },
       "removedWidgets": [],
       "schema": [
        {
         "metadata": "{}",
         "name": "ProductID",
         "type": "\"long\""
        },
        {
         "metadata": "{}",
         "name": "Product",
         "type": "\"string\""
        },
        {
         "metadata": "{}",
         "name": "Category",
         "type": "\"string\""
        },
        {
         "metadata": "{}",
         "name": "sk_product",
         "type": "\"long\""
        }
       ],
       "type": "table"
      }
     },
     "output_type": "display_data"
    }
   ],
   "source": [
    "tb_target = \"gold_dim_product\"\n",
    "\n",
    "# Extracting distinct products to dim products\n",
    "dim_product_df = df_silver.select(\"ProductID\", \"Product\", \"Category\").dropDuplicates()\n",
    "\n",
    "# Adding our surrogate key\n",
    "dim_product_df = dim_product_df.withColumn(\"sk_product\", monotonically_increasing_id()+1)\n",
    "\n",
    "# Saving DimProduct in Delta Format\n",
    "if Dim_product_exists:\n",
    "  dim_product_df.writeStream \\\n",
    "    .outputMode(\"append\") \\\n",
    "    .format(\"delta\") \\\n",
    "    .option(\"checkpointLocation\", f\"/mnt/{database_name}/_checkpoint_{tb_target}\") \\\n",
    "    .table(f\"{database_name}.{tb_target}\")\n",
    "\n",
    "else:\n",
    "  dim_product_df.write.option(\"maxRecordsPerFile\", 50000) \\\n",
    "    .mode(\"overwrite\") \\\n",
    "    .format(\"delta\") \\\n",
    "    .option(\"checkpointLocation\", f\"/mnt/{database_name}/_checkpoint_{tb_target}\") \\\n",
    "    .saveAsTable(f\"{database_name}.{tb_target}\")\n",
    "\n",
    "display(dim_product_df.take(10))\n",
    "#dim_product_df.count()"
   ]
  },
  {
   "cell_type": "markdown",
   "metadata": {
    "application/vnd.databricks.v1+cell": {
     "cellMetadata": {},
     "inputWidgets": {},
     "nuid": "bba96d39-f6e9-4971-8b77-3c9475761626",
     "showTitle": false,
     "tableResultSettingsMap": {},
     "title": ""
    }
   },
   "source": [
    "#### Creating Category Dimension"
   ]
  },
  {
   "cell_type": "code",
   "execution_count": 0,
   "metadata": {
    "application/vnd.databricks.v1+cell": {
     "cellMetadata": {
      "byteLimit": 2048000,
      "rowLimit": 10000
     },
     "inputWidgets": {},
     "nuid": "76509140-b502-48ba-9f5e-24844a45ea34",
     "showTitle": false,
     "tableResultSettingsMap": {},
     "title": ""
    }
   },
   "outputs": [
    {
     "output_type": "display_data",
     "data": {
      "text/html": [
       "<style scoped>\n",
       "  .table-result-container {\n",
       "    max-height: 300px;\n",
       "    overflow: auto;\n",
       "  }\n",
       "  table, th, td {\n",
       "    border: 1px solid black;\n",
       "    border-collapse: collapse;\n",
       "  }\n",
       "  th, td {\n",
       "    padding: 5px;\n",
       "  }\n",
       "  th {\n",
       "    text-align: left;\n",
       "  }\n",
       "</style><div class='table-result-container'><table class='table-result'><thead style='background-color: white'><tr><th>Category</th><th>sk_category</th></tr></thead><tbody><tr><td>Mix</td><td>1</td></tr><tr><td>Urban</td><td>2</td></tr><tr><td>Youth</td><td>3</td></tr><tr><td>Accessory</td><td>4</td></tr><tr><td>Rural</td><td>5</td></tr></tbody></table></div>"
      ]
     },
     "metadata": {
      "application/vnd.databricks.v1+output": {
       "addedWidgets": {},
       "aggData": [],
       "aggError": "",
       "aggOverflow": false,
       "aggSchema": [],
       "aggSeriesLimitReached": false,
       "aggType": "",
       "arguments": {},
       "columnCustomDisplayInfos": {},
       "data": [
        [
         "Mix",
         1
        ],
        [
         "Urban",
         2
        ],
        [
         "Youth",
         3
        ],
        [
         "Accessory",
         4
        ],
        [
         "Rural",
         5
        ]
       ],
       "datasetInfos": [],
       "dbfsResultPath": null,
       "isJsonSchema": true,
       "metadata": {},
       "overflow": false,
       "plotOptions": {
        "customPlotOptions": {},
        "displayType": "table",
        "pivotAggregation": null,
        "pivotColumns": null,
        "xColumns": null,
        "yColumns": null
       },
       "removedWidgets": [],
       "schema": [
        {
         "metadata": "{}",
         "name": "Category",
         "type": "\"string\""
        },
        {
         "metadata": "{}",
         "name": "sk_category",
         "type": "\"long\""
        }
       ],
       "type": "table"
      }
     },
     "output_type": "display_data"
    }
   ],
   "source": [
    "tb_target = \"gold_dim_category\"\n",
    "\n",
    "# Extract distinct Categories\n",
    "dim_category_df = df_silver.select(\"Category\").dropDuplicates()\n",
    "\n",
    "# Adding our surrogate key\n",
    "dim_category_df = dim_category_df.withColumn(\"sk_category\", monotonically_increasing_id()+1)\n",
    "\n",
    "# Saving dimcategory in Delta Format\n",
    "if Dim_category_exists:\n",
    "  dim_category_df.writeStream \\\n",
    "    .outputMode(\"append\") \\\n",
    "    .format(\"delta\") \\\n",
    "    .option(\"checkpointLocation\", f\"/mnt/{database_name}/_checkpoint_{tb_target}\") \\\n",
    "    .table(f\"{database_name}.{tb_target}\")\n",
    "\n",
    "else:\n",
    "  dim_category_df.write.option(\"maxRecordsPerFile\", 50000) \\\n",
    "    .mode(\"overwrite\") \\\n",
    "    .format(\"delta\") \\\n",
    "    .option(\"checkpointLocation\", f\"/mnt/{database_name}/_checkpoint_{tb_target}\") \\\n",
    "    .saveAsTable(f\"{database_name}.{tb_target}\")\n",
    "\n",
    "display(dim_category_df.take(10))\n",
    "#dim_category_df.count()"
   ]
  },
  {
   "cell_type": "markdown",
   "metadata": {
    "application/vnd.databricks.v1+cell": {
     "cellMetadata": {},
     "inputWidgets": {},
     "nuid": "1842462d-3602-45ab-889b-55c8e53d24c1",
     "showTitle": false,
     "tableResultSettingsMap": {},
     "title": ""
    }
   },
   "source": [
    "#### Creating Segment Dimension"
   ]
  },
  {
   "cell_type": "code",
   "execution_count": 0,
   "metadata": {
    "application/vnd.databricks.v1+cell": {
     "cellMetadata": {
      "byteLimit": 2048000,
      "rowLimit": 10000
     },
     "inputWidgets": {},
     "nuid": "5140696a-4139-4159-8a3a-055d38ece6b3",
     "showTitle": false,
     "tableResultSettingsMap": {},
     "title": ""
    }
   },
   "outputs": [
    {
     "output_type": "display_data",
     "data": {
      "text/html": [
       "<style scoped>\n",
       "  .table-result-container {\n",
       "    max-height: 300px;\n",
       "    overflow: auto;\n",
       "  }\n",
       "  table, th, td {\n",
       "    border: 1px solid black;\n",
       "    border-collapse: collapse;\n",
       "  }\n",
       "  th, td {\n",
       "    padding: 5px;\n",
       "  }\n",
       "  th {\n",
       "    text-align: left;\n",
       "  }\n",
       "</style><div class='table-result-container'><table class='table-result'><thead style='background-color: white'><tr><th>Segment</th><th>sk_segment</th></tr></thead><tbody><tr><td>All Season</td><td>1</td></tr><tr><td>Extreme</td><td>2</td></tr><tr><td>Productivity</td><td>3</td></tr><tr><td>Regular</td><td>4</td></tr><tr><td>Convenience</td><td>5</td></tr><tr><td>Moderation</td><td>6</td></tr><tr><td>Youth</td><td>7</td></tr><tr><td>Accessory</td><td>8</td></tr><tr><td>Select</td><td>9</td></tr></tbody></table></div>"
      ]
     },
     "metadata": {
      "application/vnd.databricks.v1+output": {
       "addedWidgets": {},
       "aggData": [],
       "aggError": "",
       "aggOverflow": false,
       "aggSchema": [],
       "aggSeriesLimitReached": false,
       "aggType": "",
       "arguments": {},
       "columnCustomDisplayInfos": {},
       "data": [
        [
         "All Season",
         1
        ],
        [
         "Extreme",
         2
        ],
        [
         "Productivity",
         3
        ],
        [
         "Regular",
         4
        ],
        [
         "Convenience",
         5
        ],
        [
         "Moderation",
         6
        ],
        [
         "Youth",
         7
        ],
        [
         "Accessory",
         8
        ],
        [
         "Select",
         9
        ]
       ],
       "datasetInfos": [],
       "dbfsResultPath": null,
       "isJsonSchema": true,
       "metadata": {},
       "overflow": false,
       "plotOptions": {
        "customPlotOptions": {},
        "displayType": "table",
        "pivotAggregation": null,
        "pivotColumns": null,
        "xColumns": null,
        "yColumns": null
       },
       "removedWidgets": [],
       "schema": [
        {
         "metadata": "{}",
         "name": "Segment",
         "type": "\"string\""
        },
        {
         "metadata": "{}",
         "name": "sk_segment",
         "type": "\"long\""
        }
       ],
       "type": "table"
      }
     },
     "output_type": "display_data"
    }
   ],
   "source": [
    "tb_target = \"gold_dim_segment\"\n",
    "\n",
    "# Extract distinct Segments \n",
    "dim_segment_df = df_silver.select(\"Segment\").dropDuplicates()\n",
    "\n",
    "# Adding surrogate key\n",
    "dim_segment_df = dim_segment_df.withColumn(\"sk_segment\", monotonically_increasing_id()+1)\n",
    "\n",
    "# Saving in Delta Format\n",
    "if Dim_segment_exists:\n",
    "  dim_segment_df.writeStream \\\n",
    "    .outputMode(\"append\") \\\n",
    "    .format(\"delta\") \\\n",
    "    .option(\"checkpointLocation\", f\"/mnt/{database_name}/_checkpoint_{tb_target}\") \\\n",
    "    .table(f\"{database_name}.{tb_target}\")\n",
    "\n",
    "else:\n",
    "  dim_segment_df.write.option(\"maxRecordsPerFile\", 50000) \\\n",
    "    .mode(\"overwrite\") \\\n",
    "    .format(\"delta\") \\\n",
    "    .option(\"checkpointLocation\", f\"/mnt/{database_name}/_checkpoint_{tb_target}\") \\\n",
    "    .saveAsTable(f\"{database_name}.{tb_target}\")\n",
    "\n",
    "display(dim_segment_df.take(10))\n",
    "#dim_category_df.count()\n"
   ]
  },
  {
   "cell_type": "markdown",
   "metadata": {
    "application/vnd.databricks.v1+cell": {
     "cellMetadata": {},
     "inputWidgets": {},
     "nuid": "df8cf69d-e3fa-45f9-a2da-c9c07258e526",
     "showTitle": false,
     "tableResultSettingsMap": {},
     "title": ""
    }
   },
   "source": [
    "#### Creating Manufacturer Dimension"
   ]
  },
  {
   "cell_type": "code",
   "execution_count": 0,
   "metadata": {
    "application/vnd.databricks.v1+cell": {
     "cellMetadata": {
      "byteLimit": 2048000,
      "rowLimit": 10000
     },
     "inputWidgets": {},
     "nuid": "ebd8ae90-4dba-4cd1-a7e2-8ba19cd49657",
     "showTitle": false,
     "tableResultSettingsMap": {},
     "title": ""
    }
   },
   "outputs": [
    {
     "output_type": "display_data",
     "data": {
      "text/html": [
       "<style scoped>\n",
       "  .table-result-container {\n",
       "    max-height: 300px;\n",
       "    overflow: auto;\n",
       "  }\n",
       "  table, th, td {\n",
       "    border: 1px solid black;\n",
       "    border-collapse: collapse;\n",
       "  }\n",
       "  th, td {\n",
       "    padding: 5px;\n",
       "  }\n",
       "  th {\n",
       "    text-align: left;\n",
       "  }\n",
       "</style><div class='table-result-container'><table class='table-result'><thead style='background-color: white'><tr><th>ManufacturerID</th><th>Manufacturer</th><th>sk_manufacturer</th></tr></thead><tbody><tr><td>7</td><td>VanArsdel</td><td>1</td></tr></tbody></table></div>"
      ]
     },
     "metadata": {
      "application/vnd.databricks.v1+output": {
       "addedWidgets": {},
       "aggData": [],
       "aggError": "",
       "aggOverflow": false,
       "aggSchema": [],
       "aggSeriesLimitReached": false,
       "aggType": "",
       "arguments": {},
       "columnCustomDisplayInfos": {},
       "data": [
        [
         7,
         "VanArsdel",
         1
        ]
       ],
       "datasetInfos": [],
       "dbfsResultPath": null,
       "isJsonSchema": true,
       "metadata": {},
       "overflow": false,
       "plotOptions": {
        "customPlotOptions": {},
        "displayType": "table",
        "pivotAggregation": null,
        "pivotColumns": null,
        "xColumns": null,
        "yColumns": null
       },
       "removedWidgets": [],
       "schema": [
        {
         "metadata": "{}",
         "name": "ManufacturerID",
         "type": "\"long\""
        },
        {
         "metadata": "{}",
         "name": "Manufacturer",
         "type": "\"string\""
        },
        {
         "metadata": "{}",
         "name": "sk_manufacturer",
         "type": "\"long\""
        }
       ],
       "type": "table"
      }
     },
     "output_type": "display_data"
    }
   ],
   "source": [
    "tb_target = \"gold_dim_manufacturer\"\n",
    "\n",
    "# Extract distinct manufacturer\n",
    "dim_manufacturer_df = df_silver.select(\"ManufacturerID\", \"Manufacturer\").dropDuplicates()\n",
    "\n",
    "# Adding surrogate key\n",
    "dim_manufacturer_df = dim_manufacturer_df.withColumn(\"sk_manufacturer\", monotonically_increasing_id()+1)\n",
    "\n",
    "# Saving DimProduct in Delta Format\n",
    "if Dim_manufacturer_exists:\n",
    "  dim_manufacturer_df.writeStream \\\n",
    "    .outputMode(\"append\") \\\n",
    "    .format(\"delta\") \\\n",
    "    .option(\"checkpointLocation\", f\"/mnt/{database_name}/_checkpoint_{tb_target}\") \\\n",
    "    .table(f\"{database_name}.{tb_target}\")\n",
    "\n",
    "else:\n",
    "  dim_manufacturer_df.write.option(\"maxRecordsPerFile\", 50000) \\\n",
    "    .mode(\"overwrite\") \\\n",
    "    .format(\"delta\") \\\n",
    "    .option(\"checkpointLocation\", f\"/mnt/{database_name}/_checkpoint_{tb_target}\") \\\n",
    "    .saveAsTable(f\"{database_name}.{tb_target}\")\n",
    "\n",
    "display(dim_manufacturer_df.take(10))\n",
    "#dim_manufacturer.count()"
   ]
  },
  {
   "cell_type": "markdown",
   "metadata": {
    "application/vnd.databricks.v1+cell": {
     "cellMetadata": {},
     "inputWidgets": {},
     "nuid": "dd5c9c48-3c05-4cfa-b858-0d98b843a440",
     "showTitle": false,
     "tableResultSettingsMap": {},
     "title": ""
    }
   },
   "source": [
    "#### Creating Region Dimension"
   ]
  },
  {
   "cell_type": "code",
   "execution_count": 0,
   "metadata": {
    "application/vnd.databricks.v1+cell": {
     "cellMetadata": {
      "byteLimit": 2048000,
      "rowLimit": 10000
     },
     "inputWidgets": {},
     "nuid": "d9cb6c3f-6543-441f-a304-c86ffb60ef5f",
     "showTitle": false,
     "tableResultSettingsMap": {},
     "title": ""
    }
   },
   "outputs": [
    {
     "output_type": "display_data",
     "data": {
      "text/html": [
       "<style scoped>\n",
       "  .table-result-container {\n",
       "    max-height: 300px;\n",
       "    overflow: auto;\n",
       "  }\n",
       "  table, th, td {\n",
       "    border: 1px solid black;\n",
       "    border-collapse: collapse;\n",
       "  }\n",
       "  th, td {\n",
       "    padding: 5px;\n",
       "  }\n",
       "  th {\n",
       "    text-align: left;\n",
       "  }\n",
       "</style><div class='table-result-container'><table class='table-result'><thead style='background-color: white'><tr><th>City</th><th>State</th><th>Region</th><th>District</th><th>Country</th><th>PostalCode</th><th>sk_region</th></tr></thead><tbody><tr><td>Marseilles</td><td>IL</td><td>Central</td><td>District #27</td><td>USA</td><td>61341</td><td>1</td></tr><tr><td>Rhome</td><td>TX</td><td>Central</td><td>District #22</td><td>USA</td><td>76078</td><td>2</td></tr><tr><td>Quakertown</td><td>PA</td><td>East</td><td>District #04</td><td>USA</td><td>18951</td><td>3</td></tr><tr><td>Troy</td><td>OH</td><td>East</td><td>District #16</td><td>USA</td><td>45373</td><td>4</td></tr><tr><td>Lima</td><td>OH</td><td>East</td><td>District #16</td><td>USA</td><td>45806</td><td>5</td></tr><tr><td>Wildwood</td><td>GA</td><td>East</td><td>District #19</td><td>USA</td><td>30757</td><td>6</td></tr><tr><td>Tulsa</td><td>OK</td><td>Central</td><td>District #21</td><td>USA</td><td>74105</td><td>7</td></tr><tr><td>Rolla</td><td>MO</td><td>Central</td><td>District #21</td><td>USA</td><td>65401</td><td>8</td></tr><tr><td>Painesville</td><td>OH</td><td>East</td><td>District #14</td><td>USA</td><td>44077</td><td>9</td></tr><tr><td>Summerville</td><td>GA</td><td>East</td><td>District #09</td><td>USA</td><td>30747</td><td>10</td></tr></tbody></table></div>"
      ]
     },
     "metadata": {
      "application/vnd.databricks.v1+output": {
       "addedWidgets": {},
       "aggData": [],
       "aggError": "",
       "aggOverflow": false,
       "aggSchema": [],
       "aggSeriesLimitReached": false,
       "aggType": "",
       "arguments": {},
       "columnCustomDisplayInfos": {},
       "data": [
        [
         "Marseilles",
         "IL",
         "Central",
         "District #27",
         "USA",
         "61341",
         1
        ],
        [
         "Rhome",
         "TX",
         "Central",
         "District #22",
         "USA",
         "76078",
         2
        ],
        [
         "Quakertown",
         "PA",
         "East",
         "District #04",
         "USA",
         "18951",
         3
        ],
        [
         "Troy",
         "OH",
         "East",
         "District #16",
         "USA",
         "45373",
         4
        ],
        [
         "Lima",
         "OH",
         "East",
         "District #16",
         "USA",
         "45806",
         5
        ],
        [
         "Wildwood",
         "GA",
         "East",
         "District #19",
         "USA",
         "30757",
         6
        ],
        [
         "Tulsa",
         "OK",
         "Central",
         "District #21",
         "USA",
         "74105",
         7
        ],
        [
         "Rolla",
         "MO",
         "Central",
         "District #21",
         "USA",
         "65401",
         8
        ],
        [
         "Painesville",
         "OH",
         "East",
         "District #14",
         "USA",
         "44077",
         9
        ],
        [
         "Summerville",
         "GA",
         "East",
         "District #09",
         "USA",
         "30747",
         10
        ]
       ],
       "datasetInfos": [],
       "dbfsResultPath": null,
       "isJsonSchema": true,
       "metadata": {},
       "overflow": false,
       "plotOptions": {
        "customPlotOptions": {},
        "displayType": "table",
        "pivotAggregation": null,
        "pivotColumns": null,
        "xColumns": null,
        "yColumns": null
       },
       "removedWidgets": [],
       "schema": [
        {
         "metadata": "{}",
         "name": "City",
         "type": "\"string\""
        },
        {
         "metadata": "{}",
         "name": "State",
         "type": "\"string\""
        },
        {
         "metadata": "{}",
         "name": "Region",
         "type": "\"string\""
        },
        {
         "metadata": "{}",
         "name": "District",
         "type": "\"string\""
        },
        {
         "metadata": "{}",
         "name": "Country",
         "type": "\"string\""
        },
        {
         "metadata": "{}",
         "name": "PostalCode",
         "type": "\"string\""
        },
        {
         "metadata": "{}",
         "name": "sk_region",
         "type": "\"long\""
        }
       ],
       "type": "table"
      }
     },
     "output_type": "display_data"
    }
   ],
   "source": [
    "tb_target = \"gold_dim_region\"\n",
    "\n",
    "# Extrart distinct regions\n",
    "dim_region_df = df_silver.select(\"City\", \"State\", \"Region\", \"District\", \"Country\", \"PostalCode\").dropDuplicates()\n",
    "\n",
    "# Adding surrogate key\n",
    "dim_region_df = dim_region_df.withColumn(\"sk_region\", monotonically_increasing_id()+1)\n",
    "\n",
    "\n",
    "# Saving DimProduct in Delta Format\n",
    "if Dim_region_exists:\n",
    "  dim_region_df.writeStream \\\n",
    "    .outputMode(\"append\") \\\n",
    "    .format(\"delta\") \\\n",
    "    .option(\"checkpointLocation\", f\"/mnt/{database_name}/_checkpoint_{tb_target}\") \\\n",
    "    .table(f\"{database_name}.{tb_target}\")\n",
    "\n",
    "else:\n",
    "  dim_region_df.write.option(\"maxRecordsPerFile\", 50000) \\\n",
    "    .mode(\"overwrite\") \\\n",
    "    .format(\"delta\") \\\n",
    "    .option(\"checkpointLocation\", f\"/mnt/{database_name}/_checkpoint_{tb_target}\") \\\n",
    "    .saveAsTable(f\"{database_name}.{tb_target}\")\n",
    "\n",
    "display(dim_region_df.take(10))\n",
    "#dim_region_df.count()"
   ]
  },
  {
   "cell_type": "markdown",
   "metadata": {
    "application/vnd.databricks.v1+cell": {
     "cellMetadata": {},
     "inputWidgets": {},
     "nuid": "30e39d75-c09d-4088-ac72-f5fe5a9332d7",
     "showTitle": false,
     "tableResultSettingsMap": {},
     "title": ""
    }
   },
   "source": [
    "#### Creating Client Dimension"
   ]
  },
  {
   "cell_type": "code",
   "execution_count": 0,
   "metadata": {
    "application/vnd.databricks.v1+cell": {
     "cellMetadata": {
      "byteLimit": 2048000,
      "rowLimit": 10000
     },
     "inputWidgets": {},
     "nuid": "cf439c04-ea5c-421c-9c76-e51123c47a79",
     "showTitle": false,
     "tableResultSettingsMap": {},
     "title": ""
    }
   },
   "outputs": [
    {
     "output_type": "display_data",
     "data": {
      "text/html": [
       "<style scoped>\n",
       "  .table-result-container {\n",
       "    max-height: 300px;\n",
       "    overflow: auto;\n",
       "  }\n",
       "  table, th, td {\n",
       "    border: 1px solid black;\n",
       "    border-collapse: collapse;\n",
       "  }\n",
       "  th, td {\n",
       "    padding: 5px;\n",
       "  }\n",
       "  th {\n",
       "    text-align: left;\n",
       "  }\n",
       "</style><div class='table-result-container'><table class='table-result'><thead style='background-color: white'><tr><th>ClientID</th><th>Name</th><th>Email</th><th>sk_region</th><th>sk_client</th></tr></thead><tbody><tr><td>93119</td><td>Amber  Norton</td><td>amber.norton@xyza.com</td><td>2292</td><td>1</td></tr><tr><td>234644</td><td>Jermaine  Lyons</td><td>jermaine.lyons@xyza.com</td><td>2970</td><td>2</td></tr><tr><td>200772</td><td>Maxwell  Ruiz</td><td>maxwell.ruiz@xyza.com</td><td>8589934596</td><td>3</td></tr><tr><td>64317</td><td>Jacob  Farmer</td><td>jacob.farmer@xyza.com</td><td>8589937789</td><td>4</td></tr><tr><td>244401</td><td>Whoopi  Bowers</td><td>whoopi.bowers@xyza.com</td><td>17179870143</td><td>5</td></tr><tr><td>253093</td><td>Glenna  Madden</td><td>glenna.madden@xyza.com</td><td>17179871075</td><td>6</td></tr><tr><td>50918</td><td>Brennan  Larsen</td><td>brennan.larsen@xyza.com</td><td>17179873160</td><td>7</td></tr><tr><td>176404</td><td>Megan  Mccoy</td><td>megan.mccoy@xyza.com</td><td>25769803884</td><td>8</td></tr><tr><td>205008</td><td>Hilel  Long</td><td>hilel.long@xyza.com</td><td>25769806939</td><td>9</td></tr><tr><td>222641</td><td>Anne  Beasley</td><td>anne.beasley@xyza.com</td><td>25769808520</td><td>10</td></tr></tbody></table></div>"
      ]
     },
     "metadata": {
      "application/vnd.databricks.v1+output": {
       "addedWidgets": {},
       "aggData": [],
       "aggError": "",
       "aggOverflow": false,
       "aggSchema": [],
       "aggSeriesLimitReached": false,
       "aggType": "",
       "arguments": {},
       "columnCustomDisplayInfos": {},
       "data": [
        [
         93119,
         "Amber  Norton",
         "amber.norton@xyza.com",
         2292,
         1
        ],
        [
         234644,
         "Jermaine  Lyons",
         "jermaine.lyons@xyza.com",
         2970,
         2
        ],
        [
         200772,
         "Maxwell  Ruiz",
         "maxwell.ruiz@xyza.com",
         8589934596,
         3
        ],
        [
         64317,
         "Jacob  Farmer",
         "jacob.farmer@xyza.com",
         8589937789,
         4
        ],
        [
         244401,
         "Whoopi  Bowers",
         "whoopi.bowers@xyza.com",
         17179870143,
         5
        ],
        [
         253093,
         "Glenna  Madden",
         "glenna.madden@xyza.com",
         17179871075,
         6
        ],
        [
         50918,
         "Brennan  Larsen",
         "brennan.larsen@xyza.com",
         17179873160,
         7
        ],
        [
         176404,
         "Megan  Mccoy",
         "megan.mccoy@xyza.com",
         25769803884,
         8
        ],
        [
         205008,
         "Hilel  Long",
         "hilel.long@xyza.com",
         25769806939,
         9
        ],
        [
         222641,
         "Anne  Beasley",
         "anne.beasley@xyza.com",
         25769808520,
         10
        ]
       ],
       "datasetInfos": [],
       "dbfsResultPath": null,
       "isJsonSchema": true,
       "metadata": {},
       "overflow": false,
       "plotOptions": {
        "customPlotOptions": {},
        "displayType": "table",
        "pivotAggregation": null,
        "pivotColumns": null,
        "xColumns": null,
        "yColumns": null
       },
       "removedWidgets": [],
       "schema": [
        {
         "metadata": "{}",
         "name": "ClientID",
         "type": "\"long\""
        },
        {
         "metadata": "{}",
         "name": "Name",
         "type": "\"string\""
        },
        {
         "metadata": "{}",
         "name": "Email",
         "type": "\"string\""
        },
        {
         "metadata": "{}",
         "name": "sk_region",
         "type": "\"long\""
        },
        {
         "metadata": "{}",
         "name": "sk_client",
         "type": "\"long\""
        }
       ],
       "type": "table"
      }
     },
     "output_type": "display_data"
    }
   ],
   "source": [
    "tb_target = \"gold_dim_client\"\n",
    "\n",
    "# Step 1 - Extract distinct clients\n",
    "dim_client_df = df_silver.select(\"ClientID\", \"Name\", \"Email\", \"City\", \"State\", \"Region\", \"District\", \"Country\", \"PostalCode\").dropDuplicates()\n",
    "\n",
    "# Step 2 - Doing some Join to get SK_Region\n",
    "dim_client_with_sk_df = dim_client_df.alias(\"client\") \\\n",
    "    .join(dim_region_df.alias(\"region\"), \n",
    "          (col(\"client.City\") == col(\"region.City\")) &\n",
    "          (col(\"client.State\") == col(\"region.State\")) &\n",
    "          (col(\"client.Region\") == col(\"region.Region\")) &\n",
    "          (col(\"client.District\") == col(\"region.District\")) &\n",
    "          (col(\"client.Country\") == col(\"region.Country\")) &\n",
    "          (col(\"client.PostalCode\") == col(\"region.PostalCode\")), \n",
    "          \"left\") \\\n",
    "    .select(\"client.ClientID\", \"client.Name\", \"client.Email\", \"region.sk_region\")\n",
    "\n",
    "# Step 3 - # Adding surrogate key\n",
    "dim_client_with_sk_df = dim_client_with_sk_df.withColumn(\"sk_client\", monotonically_increasing_id()+1)\n",
    "\n",
    "# Step 4 - Getting Specific columns\n",
    "dim_client_with_sk_df = dim_client_with_sk_df.select(\"ClientID\", \"Name\",\"Email\", \"sk_region\", \"sk_client\")\n",
    "\n",
    "# Step 5 -Writing DimClient Delta Format\n",
    "if Dim_client_exists:\n",
    "  dim_client_with_sk_df.writeStream \\\n",
    "    .outputMode(\"append\") \\\n",
    "    .format(\"delta\") \\\n",
    "    .option(\"checkpointLocation\", f\"/mnt/{database_name}/_checkpoint_{tb_target}\") \\\n",
    "    .table(f\"{database_name}.{tb_target}\")\n",
    "\n",
    "else:\n",
    "  dim_client_with_sk_df.write.option(\"maxRecordsPerFile\", 50000) \\\n",
    "    .mode(\"overwrite\") \\\n",
    "    .format(\"delta\") \\\n",
    "    .option(\"checkpointLocation\", f\"/mnt/{database_name}/_checkpoint_{tb_target}\") \\\n",
    "    .saveAsTable(f\"{database_name}.{tb_target}\")\n",
    "\n",
    "display(dim_client_with_sk_df.take(10))\n",
    "#dim_region_df.count()"
   ]
  },
  {
   "cell_type": "markdown",
   "metadata": {
    "application/vnd.databricks.v1+cell": {
     "cellMetadata": {},
     "inputWidgets": {},
     "nuid": "1894f40d-60d7-46e9-bd54-69fe71351f2a",
     "showTitle": false,
     "tableResultSettingsMap": {},
     "title": ""
    }
   },
   "source": [
    "#### Creating Sales Fact"
   ]
  },
  {
   "cell_type": "code",
   "execution_count": 0,
   "metadata": {
    "application/vnd.databricks.v1+cell": {
     "cellMetadata": {
      "byteLimit": 2048000,
      "rowLimit": 10000
     },
     "inputWidgets": {},
     "nuid": "37b8b3eb-b651-4f33-a31c-7003a1285f04",
     "showTitle": false,
     "tableResultSettingsMap": {},
     "title": ""
    }
   },
   "outputs": [
    {
     "output_type": "display_data",
     "data": {
      "text/html": [
       "<style scoped>\n",
       "  .table-result-container {\n",
       "    max-height: 300px;\n",
       "    overflow: auto;\n",
       "  }\n",
       "  table, th, td {\n",
       "    border: 1px solid black;\n",
       "    border-collapse: collapse;\n",
       "  }\n",
       "  th, td {\n",
       "    padding: 5px;\n",
       "  }\n",
       "  th {\n",
       "    text-align: left;\n",
       "  }\n",
       "</style><div class='table-result-container'><table class='table-result'><thead style='background-color: white'><tr><th>SalesDate</th><th>sk_product</th><th>sk_category</th><th>sk_segment</th><th>sk_manufacturer</th><th>sk_client</th><th>Units</th><th>UnitPrice</th><th>UnitCost</th><th>SalesTotal</th></tr></thead><tbody><tr><td>2011-04-27</td><td>77</td><td>2</td><td>6</td><td>1</td><td>60129543011</td><td>1</td><td>124.42</td><td>90.83</td><td>90.83</td></tr><tr><td>2011-04-27</td><td>77</td><td>2</td><td>6</td><td>1</td><td>17179876051</td><td>1</td><td>124.42</td><td>90.83</td><td>90.83</td></tr><tr><td>2011-04-06</td><td>77</td><td>2</td><td>6</td><td>1</td><td>60129542145</td><td>1</td><td>124.42</td><td>90.83</td><td>90.83</td></tr><tr><td>2011-04-10</td><td>77</td><td>2</td><td>6</td><td>1</td><td>34359738369</td><td>1</td><td>124.42</td><td>90.83</td><td>90.83</td></tr><tr><td>2011-04-10</td><td>77</td><td>2</td><td>6</td><td>1</td><td>1</td><td>1</td><td>124.42</td><td>90.83</td><td>90.83</td></tr><tr><td>2011-04-22</td><td>77</td><td>2</td><td>6</td><td>1</td><td>34359744263</td><td>1</td><td>124.42</td><td>90.83</td><td>90.83</td></tr><tr><td>2011-04-20</td><td>77</td><td>2</td><td>6</td><td>1</td><td>6833</td><td>1</td><td>124.42</td><td>90.83</td><td>90.83</td></tr><tr><td>2011-04-17</td><td>77</td><td>2</td><td>6</td><td>1</td><td>17179871351</td><td>1</td><td>124.42</td><td>90.83</td><td>90.83</td></tr><tr><td>2011-04-19</td><td>77</td><td>2</td><td>6</td><td>1</td><td>25769813106</td><td>1</td><td>124.42</td><td>90.83</td><td>90.83</td></tr><tr><td>2011-04-08</td><td>77</td><td>2</td><td>6</td><td>1</td><td>60129553167</td><td>1</td><td>124.42</td><td>90.83</td><td>90.83</td></tr></tbody></table></div>"
      ]
     },
     "metadata": {
      "application/vnd.databricks.v1+output": {
       "addedWidgets": {},
       "aggData": [],
       "aggError": "",
       "aggOverflow": false,
       "aggSchema": [],
       "aggSeriesLimitReached": false,
       "aggType": "",
       "arguments": {},
       "columnCustomDisplayInfos": {},
       "data": [
        [
         "2011-04-27",
         77,
         2,
         6,
         1,
         60129543011,
         1,
         "124.42",
         "90.83",
         "90.83"
        ],
        [
         "2011-04-27",
         77,
         2,
         6,
         1,
         17179876051,
         1,
         "124.42",
         "90.83",
         "90.83"
        ],
        [
         "2011-04-06",
         77,
         2,
         6,
         1,
         60129542145,
         1,
         "124.42",
         "90.83",
         "90.83"
        ],
        [
         "2011-04-10",
         77,
         2,
         6,
         1,
         34359738369,
         1,
         "124.42",
         "90.83",
         "90.83"
        ],
        [
         "2011-04-10",
         77,
         2,
         6,
         1,
         1,
         1,
         "124.42",
         "90.83",
         "90.83"
        ],
        [
         "2011-04-22",
         77,
         2,
         6,
         1,
         34359744263,
         1,
         "124.42",
         "90.83",
         "90.83"
        ],
        [
         "2011-04-20",
         77,
         2,
         6,
         1,
         6833,
         1,
         "124.42",
         "90.83",
         "90.83"
        ],
        [
         "2011-04-17",
         77,
         2,
         6,
         1,
         17179871351,
         1,
         "124.42",
         "90.83",
         "90.83"
        ],
        [
         "2011-04-19",
         77,
         2,
         6,
         1,
         25769813106,
         1,
         "124.42",
         "90.83",
         "90.83"
        ],
        [
         "2011-04-08",
         77,
         2,
         6,
         1,
         60129553167,
         1,
         "124.42",
         "90.83",
         "90.83"
        ]
       ],
       "datasetInfos": [],
       "dbfsResultPath": null,
       "isJsonSchema": true,
       "metadata": {},
       "overflow": false,
       "plotOptions": {
        "customPlotOptions": {},
        "displayType": "table",
        "pivotAggregation": null,
        "pivotColumns": null,
        "xColumns": null,
        "yColumns": null
       },
       "removedWidgets": [],
       "schema": [
        {
         "metadata": "{}",
         "name": "SalesDate",
         "type": "\"date\""
        },
        {
         "metadata": "{}",
         "name": "sk_product",
         "type": "\"long\""
        },
        {
         "metadata": "{}",
         "name": "sk_category",
         "type": "\"long\""
        },
        {
         "metadata": "{}",
         "name": "sk_segment",
         "type": "\"long\""
        },
        {
         "metadata": "{}",
         "name": "sk_manufacturer",
         "type": "\"long\""
        },
        {
         "metadata": "{}",
         "name": "sk_client",
         "type": "\"long\""
        },
        {
         "metadata": "{}",
         "name": "Units",
         "type": "\"long\""
        },
        {
         "metadata": "{}",
         "name": "UnitPrice",
         "type": "\"string\""
        },
        {
         "metadata": "{}",
         "name": "UnitCost",
         "type": "\"string\""
        },
        {
         "metadata": "{}",
         "name": "SalesTotal",
         "type": "\"string\""
        }
       ],
       "type": "table"
      }
     },
     "output_type": "display_data"
    }
   ],
   "source": [
    "# Using Broadcast to optimize processing small DF making a copy inside any node.\n",
    "# Broadcasting that smaller DataFrame to all nodes in the cluster can be more efficient than the traditional shuffle-based join.\n",
    "from pyspark.sql.functions import broadcast, year, month\n",
    "\n",
    "tb_target = \"gold_fact_sales\"\n",
    "\n",
    "# Join data from Silver Table with Dimension tables to get surrogate keys\n",
    "salesfact_df = df_silver.alias(\"s\") \\\n",
    "    .join(broadcast(dim_product_df.select(\"ProductID\", \"sk_product\").alias(\"dprod\")), \"ProductID\") \\\n",
    "    .join(broadcast(dim_category_df.select(\"Category\", \"sk_category\").alias(\"dcat\")), \"Category\") \\\n",
    "    .join(broadcast(dim_segment_df.select(\"Segment\", \"sk_segment\").alias(\"dseg\")), \"Segment\") \\\n",
    "    .join(broadcast(dim_manufacturer_df.select(\"Manufacturer\", \"sk_manufacturer\").alias(\"dfab\")), \"Manufacturer\") \\\n",
    "    .join(broadcast(dim_client_with_sk_df.select(\"ClientID\", \"sk_client\").alias(\"dcli\")), \"ClientID\") \\\n",
    "    .select(\n",
    "        col(\"s.Date\").alias(\"SalesDate\"),\n",
    "        \"sk_product\",\n",
    "        \"sk_category\",\n",
    "        \"sk_segment\",\n",
    "        \"sk_manufacturer\",\n",
    "        \"sk_client\",\n",
    "        \"Units\",\n",
    "        col(\"s.UnitPrice\"),\n",
    "        col(\"s.UnitCost\"),\n",
    "        col(\"s.SalesTotal\")\n",
    "    )\n",
    "\n",
    "# Writing Delta Format\n",
    "if Fact_sales_exists:\n",
    "  salesfact_df.writeStream \\\n",
    "    .outputMode(\"append\") \\\n",
    "    .withColumn(\"Year\", year(\"SalesDate\")) \\\n",
    "    .withColumn(\"Month\", month(\"SalesDate\")) \\\n",
    "    .partitionBy(\"Year\", \"Month\")\\\n",
    "    .format(\"delta\") \\\n",
    "    .option(\"checkpointLocation\", f\"/mnt/{database_name}/_checkpoint_{tb_target}\") \\\n",
    "    .table(f\"{database_name}.{tb_target}\")\n",
    "\n",
    "else:\n",
    "  salesfact_df \\\n",
    "    .withColumn(\"Year\", year(\"SalesDate\")) \\\n",
    "    .withColumn(\"Month\", month(\"SalesDate\")) \\\n",
    "    .write.option(\"maxRecordsPerFile\", 1000000) \\\n",
    "    .partitionBy(\"Year\", \"Month\")\\\n",
    "    .mode(\"overwrite\") \\\n",
    "    .format(\"delta\") \\\n",
    "    .option(\"checkpointLocation\", f\"/mnt/{database_name}/_checkpoint_{tb_target}\") \\\n",
    "    .saveAsTable(f\"{database_name}.{tb_target}\")\n",
    "\n",
    "display(salesfact_df.take(10))\n",
    "#salesfact_df.count()"
   ]
  },
  {
   "cell_type": "code",
   "execution_count": 0,
   "metadata": {
    "application/vnd.databricks.v1+cell": {
     "cellMetadata": {
      "byteLimit": 2048000,
      "rowLimit": 10000
     },
     "inputWidgets": {},
     "nuid": "7ffc706d-6bda-4722-869d-01f33e9012ad",
     "showTitle": false,
     "tableResultSettingsMap": {},
     "title": ""
    }
   },
   "outputs": [
    {
     "output_type": "display_data",
     "data": {
      "text/html": [
       "<style scoped>\n",
       "  .table-result-container {\n",
       "    max-height: 300px;\n",
       "    overflow: auto;\n",
       "  }\n",
       "  table, th, td {\n",
       "    border: 1px solid black;\n",
       "    border-collapse: collapse;\n",
       "  }\n",
       "  th, td {\n",
       "    padding: 5px;\n",
       "  }\n",
       "  th {\n",
       "    text-align: left;\n",
       "  }\n",
       "</style><div class='table-result-container'><table class='table-result'><thead style='background-color: white'><tr><th>path</th><th>name</th><th>size</th><th>modificationTime</th></tr></thead><tbody><tr><td>dbfs:/user/hive/warehouse/sales_case.db/gold_fact_sales/Year=2011/</td><td>Year=2011/</td><td>0</td><td>0</td></tr><tr><td>dbfs:/user/hive/warehouse/sales_case.db/gold_fact_sales/Year=2012/</td><td>Year=2012/</td><td>0</td><td>0</td></tr><tr><td>dbfs:/user/hive/warehouse/sales_case.db/gold_fact_sales/Year=2013/</td><td>Year=2013/</td><td>0</td><td>0</td></tr><tr><td>dbfs:/user/hive/warehouse/sales_case.db/gold_fact_sales/_delta_log/</td><td>_delta_log/</td><td>0</td><td>0</td></tr></tbody></table></div>"
      ]
     },
     "metadata": {
      "application/vnd.databricks.v1+output": {
       "addedWidgets": {},
       "aggData": [],
       "aggError": "",
       "aggOverflow": false,
       "aggSchema": [],
       "aggSeriesLimitReached": false,
       "aggType": "",
       "arguments": {},
       "columnCustomDisplayInfos": {},
       "data": [
        [
         "dbfs:/user/hive/warehouse/sales_case.db/gold_fact_sales/Year=2011/",
         "Year=2011/",
         0,
         0
        ],
        [
         "dbfs:/user/hive/warehouse/sales_case.db/gold_fact_sales/Year=2012/",
         "Year=2012/",
         0,
         0
        ],
        [
         "dbfs:/user/hive/warehouse/sales_case.db/gold_fact_sales/Year=2013/",
         "Year=2013/",
         0,
         0
        ],
        [
         "dbfs:/user/hive/warehouse/sales_case.db/gold_fact_sales/_delta_log/",
         "_delta_log/",
         0,
         0
        ]
       ],
       "datasetInfos": [],
       "dbfsResultPath": null,
       "isJsonSchema": true,
       "metadata": {},
       "overflow": false,
       "plotOptions": {
        "customPlotOptions": {},
        "displayType": "table",
        "pivotAggregation": null,
        "pivotColumns": null,
        "xColumns": null,
        "yColumns": null
       },
       "removedWidgets": [],
       "schema": [
        {
         "metadata": "{}",
         "name": "path",
         "type": "\"string\""
        },
        {
         "metadata": "{}",
         "name": "name",
         "type": "\"string\""
        },
        {
         "metadata": "{}",
         "name": "size",
         "type": "\"long\""
        },
        {
         "metadata": "{}",
         "name": "modificationTime",
         "type": "\"long\""
        }
       ],
       "type": "table"
      }
     },
     "output_type": "display_data"
    }
   ],
   "source": [
    "# Checking our delta table information\n",
    "display(dbutils.fs.ls(\"dbfs:/user/hive/warehouse/sales_case.db/gold_fact_sales\"))"
   ]
  },
  {
   "cell_type": "code",
   "execution_count": 0,
   "metadata": {
    "application/vnd.databricks.v1+cell": {
     "cellMetadata": {
      "byteLimit": 2048000,
      "rowLimit": 10000
     },
     "inputWidgets": {},
     "nuid": "61baccce-8c8c-447c-92b5-c37639fdb41b",
     "showTitle": false,
     "tableResultSettingsMap": {},
     "title": ""
    }
   },
   "outputs": [
    {
     "output_type": "display_data",
     "data": {
      "text/html": [
       "<style scoped>\n",
       "  .table-result-container {\n",
       "    max-height: 300px;\n",
       "    overflow: auto;\n",
       "  }\n",
       "  table, th, td {\n",
       "    border: 1px solid black;\n",
       "    border-collapse: collapse;\n",
       "  }\n",
       "  th, td {\n",
       "    padding: 5px;\n",
       "  }\n",
       "  th {\n",
       "    text-align: left;\n",
       "  }\n",
       "</style><div class='table-result-container'><table class='table-result'><thead style='background-color: white'><tr><th>path</th><th>name</th><th>size</th><th>modificationTime</th></tr></thead><tbody><tr><td>dbfs:/user/hive/warehouse/sales_case.db/gold_fact_sales/Year=2011/Month=1/</td><td>Month=1/</td><td>0</td><td>0</td></tr><tr><td>dbfs:/user/hive/warehouse/sales_case.db/gold_fact_sales/Year=2011/Month=10/</td><td>Month=10/</td><td>0</td><td>0</td></tr><tr><td>dbfs:/user/hive/warehouse/sales_case.db/gold_fact_sales/Year=2011/Month=11/</td><td>Month=11/</td><td>0</td><td>0</td></tr><tr><td>dbfs:/user/hive/warehouse/sales_case.db/gold_fact_sales/Year=2011/Month=12/</td><td>Month=12/</td><td>0</td><td>0</td></tr><tr><td>dbfs:/user/hive/warehouse/sales_case.db/gold_fact_sales/Year=2011/Month=2/</td><td>Month=2/</td><td>0</td><td>0</td></tr><tr><td>dbfs:/user/hive/warehouse/sales_case.db/gold_fact_sales/Year=2011/Month=3/</td><td>Month=3/</td><td>0</td><td>0</td></tr><tr><td>dbfs:/user/hive/warehouse/sales_case.db/gold_fact_sales/Year=2011/Month=4/</td><td>Month=4/</td><td>0</td><td>0</td></tr><tr><td>dbfs:/user/hive/warehouse/sales_case.db/gold_fact_sales/Year=2011/Month=5/</td><td>Month=5/</td><td>0</td><td>0</td></tr><tr><td>dbfs:/user/hive/warehouse/sales_case.db/gold_fact_sales/Year=2011/Month=6/</td><td>Month=6/</td><td>0</td><td>0</td></tr><tr><td>dbfs:/user/hive/warehouse/sales_case.db/gold_fact_sales/Year=2011/Month=7/</td><td>Month=7/</td><td>0</td><td>0</td></tr><tr><td>dbfs:/user/hive/warehouse/sales_case.db/gold_fact_sales/Year=2011/Month=8/</td><td>Month=8/</td><td>0</td><td>0</td></tr><tr><td>dbfs:/user/hive/warehouse/sales_case.db/gold_fact_sales/Year=2011/Month=9/</td><td>Month=9/</td><td>0</td><td>0</td></tr></tbody></table></div>"
      ]
     },
     "metadata": {
      "application/vnd.databricks.v1+output": {
       "addedWidgets": {},
       "aggData": [],
       "aggError": "",
       "aggOverflow": false,
       "aggSchema": [],
       "aggSeriesLimitReached": false,
       "aggType": "",
       "arguments": {},
       "columnCustomDisplayInfos": {},
       "data": [
        [
         "dbfs:/user/hive/warehouse/sales_case.db/gold_fact_sales/Year=2011/Month=1/",
         "Month=1/",
         0,
         0
        ],
        [
         "dbfs:/user/hive/warehouse/sales_case.db/gold_fact_sales/Year=2011/Month=10/",
         "Month=10/",
         0,
         0
        ],
        [
         "dbfs:/user/hive/warehouse/sales_case.db/gold_fact_sales/Year=2011/Month=11/",
         "Month=11/",
         0,
         0
        ],
        [
         "dbfs:/user/hive/warehouse/sales_case.db/gold_fact_sales/Year=2011/Month=12/",
         "Month=12/",
         0,
         0
        ],
        [
         "dbfs:/user/hive/warehouse/sales_case.db/gold_fact_sales/Year=2011/Month=2/",
         "Month=2/",
         0,
         0
        ],
        [
         "dbfs:/user/hive/warehouse/sales_case.db/gold_fact_sales/Year=2011/Month=3/",
         "Month=3/",
         0,
         0
        ],
        [
         "dbfs:/user/hive/warehouse/sales_case.db/gold_fact_sales/Year=2011/Month=4/",
         "Month=4/",
         0,
         0
        ],
        [
         "dbfs:/user/hive/warehouse/sales_case.db/gold_fact_sales/Year=2011/Month=5/",
         "Month=5/",
         0,
         0
        ],
        [
         "dbfs:/user/hive/warehouse/sales_case.db/gold_fact_sales/Year=2011/Month=6/",
         "Month=6/",
         0,
         0
        ],
        [
         "dbfs:/user/hive/warehouse/sales_case.db/gold_fact_sales/Year=2011/Month=7/",
         "Month=7/",
         0,
         0
        ],
        [
         "dbfs:/user/hive/warehouse/sales_case.db/gold_fact_sales/Year=2011/Month=8/",
         "Month=8/",
         0,
         0
        ],
        [
         "dbfs:/user/hive/warehouse/sales_case.db/gold_fact_sales/Year=2011/Month=9/",
         "Month=9/",
         0,
         0
        ]
       ],
       "datasetInfos": [],
       "dbfsResultPath": null,
       "isJsonSchema": true,
       "metadata": {},
       "overflow": false,
       "plotOptions": {
        "customPlotOptions": {},
        "displayType": "table",
        "pivotAggregation": null,
        "pivotColumns": null,
        "xColumns": null,
        "yColumns": null
       },
       "removedWidgets": [],
       "schema": [
        {
         "metadata": "{}",
         "name": "path",
         "type": "\"string\""
        },
        {
         "metadata": "{}",
         "name": "name",
         "type": "\"string\""
        },
        {
         "metadata": "{}",
         "name": "size",
         "type": "\"long\""
        },
        {
         "metadata": "{}",
         "name": "modificationTime",
         "type": "\"long\""
        }
       ],
       "type": "table"
      }
     },
     "output_type": "display_data"
    }
   ],
   "source": [
    "display(dbutils.fs.ls(\"dbfs:/user/hive/warehouse/sales_case.db/gold_fact_sales/Year=2011\"))"
   ]
  },
  {
   "cell_type": "code",
   "execution_count": 0,
   "metadata": {
    "application/vnd.databricks.v1+cell": {
     "cellMetadata": {
      "byteLimit": 2048000,
      "rowLimit": 10000
     },
     "inputWidgets": {},
     "nuid": "e559c804-dffc-41bd-a697-012789153ec8",
     "showTitle": false,
     "tableResultSettingsMap": {},
     "title": ""
    }
   },
   "outputs": [
    {
     "output_type": "display_data",
     "data": {
      "text/html": [
       "<style scoped>\n",
       "  .table-result-container {\n",
       "    max-height: 300px;\n",
       "    overflow: auto;\n",
       "  }\n",
       "  table, th, td {\n",
       "    border: 1px solid black;\n",
       "    border-collapse: collapse;\n",
       "  }\n",
       "  th, td {\n",
       "    padding: 5px;\n",
       "  }\n",
       "  th {\n",
       "    text-align: left;\n",
       "  }\n",
       "</style><div class='table-result-container'><table class='table-result'><thead style='background-color: white'><tr><th>database</th><th>tableName</th><th>isTemporary</th></tr></thead><tbody><tr><td>sales_case</td><td>bronze_sales_table</td><td>false</td></tr><tr><td>sales_case</td><td>gold_dim_category</td><td>false</td></tr><tr><td>sales_case</td><td>gold_dim_client</td><td>false</td></tr><tr><td>sales_case</td><td>gold_dim_manufacturer</td><td>false</td></tr><tr><td>sales_case</td><td>gold_dim_product</td><td>false</td></tr><tr><td>sales_case</td><td>gold_dim_region</td><td>false</td></tr><tr><td>sales_case</td><td>gold_dim_segment</td><td>false</td></tr><tr><td>sales_case</td><td>gold_fact_sales</td><td>false</td></tr><tr><td>sales_case</td><td>silver_sales_table</td><td>false</td></tr></tbody></table></div>"
      ]
     },
     "metadata": {
      "application/vnd.databricks.v1+output": {
       "addedWidgets": {},
       "aggData": [],
       "aggError": "",
       "aggOverflow": false,
       "aggSchema": [],
       "aggSeriesLimitReached": false,
       "aggType": "",
       "arguments": {},
       "columnCustomDisplayInfos": {},
       "data": [
        [
         "sales_case",
         "bronze_sales_table",
         false
        ],
        [
         "sales_case",
         "gold_dim_category",
         false
        ],
        [
         "sales_case",
         "gold_dim_client",
         false
        ],
        [
         "sales_case",
         "gold_dim_manufacturer",
         false
        ],
        [
         "sales_case",
         "gold_dim_product",
         false
        ],
        [
         "sales_case",
         "gold_dim_region",
         false
        ],
        [
         "sales_case",
         "gold_dim_segment",
         false
        ],
        [
         "sales_case",
         "gold_fact_sales",
         false
        ],
        [
         "sales_case",
         "silver_sales_table",
         false
        ]
       ],
       "datasetInfos": [],
       "dbfsResultPath": null,
       "isJsonSchema": true,
       "metadata": {},
       "overflow": false,
       "plotOptions": {
        "customPlotOptions": {},
        "displayType": "table",
        "pivotAggregation": null,
        "pivotColumns": null,
        "xColumns": null,
        "yColumns": null
       },
       "removedWidgets": [],
       "schema": [
        {
         "metadata": "{}",
         "name": "database",
         "type": "\"string\""
        },
        {
         "metadata": "{}",
         "name": "tableName",
         "type": "\"string\""
        },
        {
         "metadata": "{}",
         "name": "isTemporary",
         "type": "\"boolean\""
        }
       ],
       "type": "table"
      }
     },
     "output_type": "display_data"
    }
   ],
   "source": [
    "#Listing all tables in Sales_case schema\n",
    "display(spark.sql(\"SHOW TABLES IN sales_case\"))"
   ]
  },
  {
   "cell_type": "markdown",
   "metadata": {
    "application/vnd.databricks.v1+cell": {
     "cellMetadata": {},
     "inputWidgets": {},
     "nuid": "66a780d9-b338-4aac-a411-e2ffd2f4f7b5",
     "showTitle": false,
     "tableResultSettingsMap": {},
     "title": ""
    }
   },
   "source": [
    "### Cleaning DF from Memory to optmmize"
   ]
  },
  {
   "cell_type": "code",
   "execution_count": 0,
   "metadata": {
    "application/vnd.databricks.v1+cell": {
     "cellMetadata": {},
     "inputWidgets": {},
     "nuid": "88c9f694-0925-4d0a-be20-f8a56ceafe3b",
     "showTitle": false,
     "tableResultSettingsMap": {},
     "title": ""
    }
   },
   "outputs": [],
   "source": [
    "import gc\n",
    "gc.collect()\n",
    "\n",
    "df_silver.unpersist()\n",
    "\n",
    "dim_product_df.unpersist()\n",
    "dim_category_df.unpersist()\n",
    "dim_segment_df.unpersist()\n",
    "dim_manufacturer_df.unpersist()\n",
    "dim_region_df.unpersist()\n",
    "dim_client_with_sk_df.unpersist()\n",
    "salesfact_df.unpersist()"
   ]
  }
 ],
 "metadata": {
  "application/vnd.databricks.v1+notebook": {
   "computePreferences": null,
   "dashboards": [],
   "environmentMetadata": null,
   "language": "python",
   "notebookMetadata": {
    "mostRecentlyExecutedCommandWithImplicitDF": {
     "commandId": -1,
     "dataframes": [
      "_sqldf"
     ]
    },
    "pythonIndentUnit": 4
   },
   "notebookName": "004 Load Gold Delta",
   "widgets": {}
  }
 },
 "nbformat": 4,
 "nbformat_minor": 0
}
