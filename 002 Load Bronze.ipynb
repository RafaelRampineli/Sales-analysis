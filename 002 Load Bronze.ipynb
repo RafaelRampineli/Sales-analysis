{
 "cells": [
  {
   "cell_type": "code",
   "execution_count": 0,
   "metadata": {
    "application/vnd.databricks.v1+cell": {
     "cellMetadata": {
      "byteLimit": 2048000,
      "rowLimit": 10000
     },
     "inputWidgets": {},
     "nuid": "b8904523-6ee0-44a1-b48d-c96ff33bdce1",
     "showTitle": false,
     "tableResultSettingsMap": {},
     "title": ""
    }
   },
   "outputs": [],
   "source": [
    "%run ./Utils"
   ]
  },
  {
   "cell_type": "code",
   "execution_count": 0,
   "metadata": {
    "application/vnd.databricks.v1+cell": {
     "cellMetadata": {
      "byteLimit": 2048000,
      "rowLimit": 10000
     },
     "inputWidgets": {},
     "nuid": "8a9418f7-cdf3-44fd-848e-1cde382c2a97",
     "showTitle": false,
     "tableResultSettingsMap": {},
     "title": ""
    }
   },
   "outputs": [],
   "source": [
    "from pyspark.sql.functions import *\n",
    "from pyspark.sql.types import *"
   ]
  },
  {
   "cell_type": "markdown",
   "metadata": {
    "application/vnd.databricks.v1+cell": {
     "cellMetadata": {
      "byteLimit": 2048000,
      "rowLimit": 10000
     },
     "inputWidgets": {},
     "nuid": "14e168d7-e53d-4d8f-a5f3-6e97309c68db",
     "showTitle": false,
     "tableResultSettingsMap": {},
     "title": ""
    }
   },
   "source": [
    "##1. Bronze Layer: Raw Data Ingestion\n",
    "\n",
    "The Bronze layer stores raw data in delta format, without transformations. Here, we will simply write the raw data as Parquet.\n",
    "\n",
    "Reads raw data from a CSV file in the landing zone and writes this data in Parquet format to the Bronze layer table."
   ]
  },
  {
   "cell_type": "markdown",
   "metadata": {
    "application/vnd.databricks.v1+cell": {
     "cellMetadata": {
      "byteLimit": 2048000,
      "rowLimit": 10000
     },
     "inputWidgets": {},
     "nuid": "bb267a36-de49-4703-8324-3f69ae10433b",
     "showTitle": false,
     "tableResultSettingsMap": {},
     "title": ""
    }
   },
   "source": [
    "#### Reading Data in LandingZone DBFS\n",
    "\n",
    "Checking if table exists, i exists, process data using read/write streaming, else process data using read/write"
   ]
  },
  {
   "cell_type": "code",
   "execution_count": 0,
   "metadata": {
    "application/vnd.databricks.v1+cell": {
     "cellMetadata": {
      "byteLimit": 2048000,
      "rowLimit": 10000
     },
     "inputWidgets": {},
     "nuid": "5d6144dc-27b6-47b2-9d5b-c2b12bc97dfd",
     "showTitle": false,
     "tableResultSettingsMap": {},
     "title": ""
    }
   },
   "outputs": [
    {
     "output_type": "stream",
     "name": "stdout",
     "output_type": "stream",
     "text": [
      "Out[25]: False"
     ]
    }
   ],
   "source": [
    "#Define the table name and database\n",
    "database_name = 'sales_case'\n",
    "table_name = 'bronze_sales_table'\n",
    "\n",
    "# Check if the table exists\n",
    "table_exists = spark.sql(f\"SHOW TABLES IN {database_name} LIKE '{table_name}'\").count() > 0\n",
    "table_exists"
   ]
  },
  {
   "cell_type": "code",
   "execution_count": 0,
   "metadata": {
    "application/vnd.databricks.v1+cell": {
     "cellMetadata": {
      "byteLimit": 2048000,
      "rowLimit": 10000
     },
     "inputWidgets": {},
     "nuid": "18dd4e9d-39e3-4115-bf93-7db439834990",
     "showTitle": false,
     "tableResultSettingsMap": {},
     "title": ""
    }
   },
   "outputs": [
    {
     "output_type": "display_data",
     "data": {
      "text/html": [
       "<style scoped>\n",
       "  .table-result-container {\n",
       "    max-height: 300px;\n",
       "    overflow: auto;\n",
       "  }\n",
       "  table, th, td {\n",
       "    border: 1px solid black;\n",
       "    border-collapse: collapse;\n",
       "  }\n",
       "  th, td {\n",
       "    padding: 5px;\n",
       "  }\n",
       "  th {\n",
       "    text-align: left;\n",
       "  }\n",
       "</style><div class='table-result-container'><table class='table-result'><thead style='background-color: white'><tr><th>ProductID</th><th>Date</th><th>ClientID</th><th>CampaignID</th><th>Units</th><th>Product</th><th>Category</th><th>Segment</th><th>ManufacturerID</th><th>Manufacturer</th><th>UnitCost</th><th>UnitPrice</th><th>PostalCode</th><th>EmailName</th><th>City</th><th>State</th><th>Region</th><th>District</th><th>Country</th><th>filename</th></tr></thead><tbody><tr><td>449</td><td>2011-09-21</td><td>113077</td><td>21</td><td>1</td><td>Maximus UM-54</td><td>Urban</td><td>Moderation</td><td>7</td><td>VanArsdel</td><td>74.7299175</td><td>102.36975</td><td>33180</td><td>(Lysandra.Castaneda@xyza.com): Castaneda, Lysandra</td><td>Miami, FL, USA</td><td>FL</td><td>East</td><td>District #10</td><td>USA</td><td>dados_2011.csv</td></tr><tr><td>449</td><td>2011-10-10</td><td>234410</td><td>18</td><td>1</td><td>Maximus UM-54</td><td>Urban</td><td>Moderation</td><td>7</td><td>VanArsdel</td><td>74.7299175</td><td>102.36975</td><td>33158</td><td>(Dorothy.Rodriquez@xyza.com): Rodriquez, Dorothy</td><td>Miami, FL, USA</td><td>FL</td><td>East</td><td>District #10</td><td>USA</td><td>dados_2011.csv</td></tr><tr><td>449</td><td>2011-10-07</td><td>58091</td><td>20</td><td>1</td><td>Maximus UM-54</td><td>Urban</td><td>Moderation</td><td>7</td><td>VanArsdel</td><td>74.7299175</td><td>102.36975</td><td>33186</td><td>(Beau.Sutton@xyza.com): Sutton, Beau</td><td>Miami, FL, USA</td><td>FL</td><td>East</td><td>District #10</td><td>USA</td><td>dados_2011.csv</td></tr><tr><td>449</td><td>2011-10-08</td><td>114284</td><td>20</td><td>1</td><td>Maximus UM-54</td><td>Urban</td><td>Moderation</td><td>7</td><td>VanArsdel</td><td>74.7299175</td><td>102.36975</td><td>33165</td><td>(Boris.Leonard@xyza.com): Leonard, Boris</td><td>Miami, FL, USA</td><td>FL</td><td>East</td><td>District #10</td><td>USA</td><td>dados_2011.csv</td></tr><tr><td>449</td><td>2011-10-30</td><td>205070</td><td>18</td><td>1</td><td>Maximus UM-54</td><td>Urban</td><td>Moderation</td><td>7</td><td>VanArsdel</td><td>74.7299175</td><td>102.36975</td><td>33179</td><td>(Rafael.Fox@xyza.com): Fox, Rafael</td><td>Miami, FL, USA</td><td>FL</td><td>East</td><td>District #10</td><td>USA</td><td>dados_2011.csv</td></tr><tr><td>449</td><td>2011-11-22</td><td>139458</td><td>16</td><td>1</td><td>Maximus UM-54</td><td>Urban</td><td>Moderation</td><td>7</td><td>VanArsdel</td><td>74.7299175</td><td>102.36975</td><td>33143</td><td>(Martena.Guy@xyza.com): Guy, Martena</td><td>Miami, FL, USA</td><td>FL</td><td>East</td><td>District #10</td><td>USA</td><td>dados_2011.csv</td></tr><tr><td>449</td><td>2011-11-08</td><td>151912</td><td>16</td><td>1</td><td>Maximus UM-54</td><td>Urban</td><td>Moderation</td><td>7</td><td>VanArsdel</td><td>74.7299175</td><td>102.36975</td><td>33155</td><td>(Ina.Winters@xyza.com): Winters, Ina</td><td>Miami, FL, USA</td><td>FL</td><td>East</td><td>District #10</td><td>USA</td><td>dados_2011.csv</td></tr><tr><td>449</td><td>2011-08-17</td><td>176229</td><td>1</td><td>1</td><td>Maximus UM-54</td><td>Urban</td><td>Moderation</td><td>7</td><td>VanArsdel</td><td>74.7299175</td><td>102.36975</td><td>33189</td><td>(Kelly.Nicholson@xyza.com): Nicholson, Kelly</td><td>Miami, FL, USA</td><td>FL</td><td>East</td><td>District #10</td><td>USA</td><td>dados_2011.csv</td></tr><tr><td>449</td><td>2011-08-10</td><td>76694</td><td>3</td><td>1</td><td>Maximus UM-54</td><td>Urban</td><td>Moderation</td><td>7</td><td>VanArsdel</td><td>74.7299175</td><td>102.36975</td><td>33176</td><td>(Mufutau.Morton@xyza.com): Morton, Mufutau</td><td>Miami, FL, USA</td><td>FL</td><td>East</td><td>District #10</td><td>USA</td><td>dados_2011.csv</td></tr><tr><td>449</td><td>2011-09-23</td><td>146382</td><td>5</td><td>1</td><td>Maximus UM-54</td><td>Urban</td><td>Moderation</td><td>7</td><td>VanArsdel</td><td>74.7299175</td><td>102.36975</td><td>33175</td><td>(Courtney.Marshall@xyza.com): Marshall, Courtney</td><td>Miami, FL, USA</td><td>FL</td><td>East</td><td>District #10</td><td>USA</td><td>dados_2011.csv</td></tr></tbody></table></div>"
      ]
     },
     "metadata": {
      "application/vnd.databricks.v1+output": {
       "addedWidgets": {},
       "aggData": [],
       "aggError": "",
       "aggOverflow": false,
       "aggSchema": [],
       "aggSeriesLimitReached": false,
       "aggType": "",
       "arguments": {},
       "columnCustomDisplayInfos": {},
       "data": [
        [
         449,
         "2011-09-21",
         113077,
         21,
         1,
         "Maximus UM-54",
         "Urban",
         "Moderation",
         7,
         "VanArsdel",
         74.7299175,
         102.36975,
         "33180",
         "(Lysandra.Castaneda@xyza.com): Castaneda, Lysandra",
         "Miami, FL, USA",
         "FL",
         "East",
         "District #10",
         "USA",
         "dados_2011.csv"
        ],
        [
         449,
         "2011-10-10",
         234410,
         18,
         1,
         "Maximus UM-54",
         "Urban",
         "Moderation",
         7,
         "VanArsdel",
         74.7299175,
         102.36975,
         "33158",
         "(Dorothy.Rodriquez@xyza.com): Rodriquez, Dorothy",
         "Miami, FL, USA",
         "FL",
         "East",
         "District #10",
         "USA",
         "dados_2011.csv"
        ],
        [
         449,
         "2011-10-07",
         58091,
         20,
         1,
         "Maximus UM-54",
         "Urban",
         "Moderation",
         7,
         "VanArsdel",
         74.7299175,
         102.36975,
         "33186",
         "(Beau.Sutton@xyza.com): Sutton, Beau",
         "Miami, FL, USA",
         "FL",
         "East",
         "District #10",
         "USA",
         "dados_2011.csv"
        ],
        [
         449,
         "2011-10-08",
         114284,
         20,
         1,
         "Maximus UM-54",
         "Urban",
         "Moderation",
         7,
         "VanArsdel",
         74.7299175,
         102.36975,
         "33165",
         "(Boris.Leonard@xyza.com): Leonard, Boris",
         "Miami, FL, USA",
         "FL",
         "East",
         "District #10",
         "USA",
         "dados_2011.csv"
        ],
        [
         449,
         "2011-10-30",
         205070,
         18,
         1,
         "Maximus UM-54",
         "Urban",
         "Moderation",
         7,
         "VanArsdel",
         74.7299175,
         102.36975,
         "33179",
         "(Rafael.Fox@xyza.com): Fox, Rafael",
         "Miami, FL, USA",
         "FL",
         "East",
         "District #10",
         "USA",
         "dados_2011.csv"
        ],
        [
         449,
         "2011-11-22",
         139458,
         16,
         1,
         "Maximus UM-54",
         "Urban",
         "Moderation",
         7,
         "VanArsdel",
         74.7299175,
         102.36975,
         "33143",
         "(Martena.Guy@xyza.com): Guy, Martena",
         "Miami, FL, USA",
         "FL",
         "East",
         "District #10",
         "USA",
         "dados_2011.csv"
        ],
        [
         449,
         "2011-11-08",
         151912,
         16,
         1,
         "Maximus UM-54",
         "Urban",
         "Moderation",
         7,
         "VanArsdel",
         74.7299175,
         102.36975,
         "33155",
         "(Ina.Winters@xyza.com): Winters, Ina",
         "Miami, FL, USA",
         "FL",
         "East",
         "District #10",
         "USA",
         "dados_2011.csv"
        ],
        [
         449,
         "2011-08-17",
         176229,
         1,
         1,
         "Maximus UM-54",
         "Urban",
         "Moderation",
         7,
         "VanArsdel",
         74.7299175,
         102.36975,
         "33189",
         "(Kelly.Nicholson@xyza.com): Nicholson, Kelly",
         "Miami, FL, USA",
         "FL",
         "East",
         "District #10",
         "USA",
         "dados_2011.csv"
        ],
        [
         449,
         "2011-08-10",
         76694,
         3,
         1,
         "Maximus UM-54",
         "Urban",
         "Moderation",
         7,
         "VanArsdel",
         74.7299175,
         102.36975,
         "33176",
         "(Mufutau.Morton@xyza.com): Morton, Mufutau",
         "Miami, FL, USA",
         "FL",
         "East",
         "District #10",
         "USA",
         "dados_2011.csv"
        ],
        [
         449,
         "2011-09-23",
         146382,
         5,
         1,
         "Maximus UM-54",
         "Urban",
         "Moderation",
         7,
         "VanArsdel",
         74.7299175,
         102.36975,
         "33175",
         "(Courtney.Marshall@xyza.com): Marshall, Courtney",
         "Miami, FL, USA",
         "FL",
         "East",
         "District #10",
         "USA",
         "dados_2011.csv"
        ]
       ],
       "datasetInfos": [],
       "dbfsResultPath": null,
       "isJsonSchema": true,
       "metadata": {},
       "overflow": false,
       "plotOptions": {
        "customPlotOptions": {},
        "displayType": "table",
        "pivotAggregation": null,
        "pivotColumns": null,
        "xColumns": null,
        "yColumns": null
       },
       "removedWidgets": [],
       "schema": [
        {
         "metadata": "{}",
         "name": "ProductID",
         "type": "\"long\""
        },
        {
         "metadata": "{}",
         "name": "Date",
         "type": "\"date\""
        },
        {
         "metadata": "{}",
         "name": "ClientID",
         "type": "\"long\""
        },
        {
         "metadata": "{}",
         "name": "CampaignID",
         "type": "\"long\""
        },
        {
         "metadata": "{}",
         "name": "Units",
         "type": "\"long\""
        },
        {
         "metadata": "{}",
         "name": "Product",
         "type": "\"string\""
        },
        {
         "metadata": "{}",
         "name": "Category",
         "type": "\"string\""
        },
        {
         "metadata": "{}",
         "name": "Segment",
         "type": "\"string\""
        },
        {
         "metadata": "{}",
         "name": "ManufacturerID",
         "type": "\"long\""
        },
        {
         "metadata": "{}",
         "name": "Manufacturer",
         "type": "\"string\""
        },
        {
         "metadata": "{}",
         "name": "UnitCost",
         "type": "\"double\""
        },
        {
         "metadata": "{}",
         "name": "UnitPrice",
         "type": "\"double\""
        },
        {
         "metadata": "{}",
         "name": "PostalCode",
         "type": "\"string\""
        },
        {
         "metadata": "{}",
         "name": "EmailName",
         "type": "\"string\""
        },
        {
         "metadata": "{}",
         "name": "City",
         "type": "\"string\""
        },
        {
         "metadata": "{}",
         "name": "State",
         "type": "\"string\""
        },
        {
         "metadata": "{}",
         "name": "Region",
         "type": "\"string\""
        },
        {
         "metadata": "{}",
         "name": "District",
         "type": "\"string\""
        },
        {
         "metadata": "{}",
         "name": "Country",
         "type": "\"string\""
        },
        {
         "metadata": "{}",
         "name": "filename",
         "type": "\"string\""
        }
       ],
       "type": "table"
      }
     },
     "output_type": "display_data"
    }
   ],
   "source": [
    "# IF exists, process using SparkStreaming\n",
    "if table_exists:\n",
    "    # Reading Spark \n",
    "    # Schemas(\"LandingZone\") and GetLandingZoneDirectory() are imported from %run Utils NB\n",
    "    df = spark.readStream \\\n",
    "        .format(\"csv\") \\\n",
    "        .schema(Schemas(\"LandingZone\")) \\\n",
    "        .option(\"header\", \"true\") \\\n",
    "        .option(\"inferSchema\", \"true\") \\\n",
    "        .load(GetLandingZoneDirectory()) \\\n",
    "        .withColumn(\"filename\", regexp_extract(input_file_name(), \"([^/]+)$\", 0))\n",
    "else:\n",
    "    # Schemas(\"LandingZone\") and GetLandingZoneDirectory() are imported from %run Utils NB\n",
    "    df = spark.read \\\n",
    "        .format(\"csv\") \\\n",
    "        .schema(Schemas(\"LandingZone\")) \\\n",
    "        .option(\"header\", \"true\") \\\n",
    "        .option(\"inferSchema\", \"true\") \\\n",
    "        .load(GetLandingZoneDirectory()) \\\n",
    "        .withColumn(\"filename\", regexp_extract(input_file_name(), \"([^/]+)$\", 0))\n",
    "    \n",
    "    display(df.take(10))    "
   ]
  },
  {
   "cell_type": "markdown",
   "metadata": {
    "application/vnd.databricks.v1+cell": {
     "cellMetadata": {
      "byteLimit": 2048000,
      "rowLimit": 10000
     },
     "inputWidgets": {},
     "nuid": "ca27873b-0e53-4b03-b1a0-2e9493c1e0f3",
     "showTitle": false,
     "tableResultSettingsMap": {},
     "title": ""
    }
   },
   "source": [
    "### Saving on Bronze Table"
   ]
  },
  {
   "cell_type": "code",
   "execution_count": 0,
   "metadata": {
    "application/vnd.databricks.v1+cell": {
     "cellMetadata": {
      "byteLimit": 2048000,
      "rowLimit": 10000
     },
     "inputWidgets": {},
     "nuid": "e64fda6c-3cc6-4f68-a1e0-914be698294a",
     "showTitle": false,
     "tableResultSettingsMap": {},
     "title": ""
    }
   },
   "outputs": [],
   "source": [
    "if table_exists:\n",
    "  df.writeStream \\\n",
    "    .outputMode(\"append\") \\\n",
    "    .format(\"parquet\") \\\n",
    "    .option(\"checkpointLocation\", f\"/mnt/{database_name}/_checkpoint_{table_name}\") \\\n",
    "    .table(f\"{database_name}.{table_name}\")\n",
    "    #.start()\n",
    "\n",
    "    #query.awaitTermination()  # This will wait for the query to process data\n",
    "    #query.stop()  # Stop the query when ready\n",
    "else:\n",
    "  df.write \\\n",
    "    .mode(\"overwrite\") \\\n",
    "    .format(\"parquet\") \\\n",
    "    .option(\"checkpointLocation\", f\"/mnt/{database_name}/_checkpoint_{table_name}\") \\\n",
    "    .saveAsTable(f\"{database_name}.{table_name}\")\n"
   ]
  },
  {
   "cell_type": "code",
   "execution_count": 0,
   "metadata": {
    "application/vnd.databricks.v1+cell": {
     "cellMetadata": {
      "byteLimit": 2048000,
      "implicitDf": true,
      "rowLimit": 10000
     },
     "inputWidgets": {},
     "nuid": "20526b04-2f50-4abf-9625-e3f12ff0d9c5",
     "showTitle": false,
     "tableResultSettingsMap": {},
     "title": ""
    }
   },
   "outputs": [
    {
     "output_type": "stream",
     "name": "stdout",
     "output_type": "stream",
     "text": [
      "Out[36]: True"
     ]
    }
   ],
   "source": [
    "#dbutils.fs.rm(\"/user/hive/warehouse/sales_case.db/bronze_sales_table\", recurse=True)"
   ]
  },
  {
   "cell_type": "code",
   "execution_count": 0,
   "metadata": {
    "application/vnd.databricks.v1+cell": {
     "cellMetadata": {
      "byteLimit": 2048000,
      "implicitDf": true,
      "rowLimit": 10000
     },
     "inputWidgets": {},
     "nuid": "745f7e2a-379b-451b-bbc4-b0d1d5fe705c",
     "showTitle": false,
     "tableResultSettingsMap": {},
     "title": ""
    }
   },
   "outputs": [
    {
     "output_type": "display_data",
     "data": {
      "text/html": [
       "<style scoped>\n",
       "  .table-result-container {\n",
       "    max-height: 300px;\n",
       "    overflow: auto;\n",
       "  }\n",
       "  table, th, td {\n",
       "    border: 1px solid black;\n",
       "    border-collapse: collapse;\n",
       "  }\n",
       "  th, td {\n",
       "    padding: 5px;\n",
       "  }\n",
       "  th {\n",
       "    text-align: left;\n",
       "  }\n",
       "</style><div class='table-result-container'><table class='table-result'><thead style='background-color: white'><tr><th>col_name</th><th>data_type</th><th>comment</th></tr></thead><tbody><tr><td>ProductID</td><td>int</td><td>null</td></tr><tr><td>Date</td><td>date</td><td>null</td></tr><tr><td>ClientID</td><td>int</td><td>null</td></tr><tr><td>CampaignID</td><td>int</td><td>null</td></tr><tr><td>Units</td><td>int</td><td>null</td></tr><tr><td>Product</td><td>string</td><td>null</td></tr><tr><td>Category</td><td>string</td><td>null</td></tr><tr><td>Segment</td><td>string</td><td>null</td></tr><tr><td>ManufacturerID</td><td>int</td><td>null</td></tr><tr><td>Manufacturer</td><td>string</td><td>null</td></tr><tr><td>UnitCost</td><td>double</td><td>null</td></tr><tr><td>UnitPrice</td><td>double</td><td>null</td></tr><tr><td>PostalCode</td><td>string</td><td>null</td></tr><tr><td>EmailName</td><td>string</td><td>null</td></tr><tr><td>City</td><td>string</td><td>null</td></tr><tr><td>State</td><td>string</td><td>null</td></tr><tr><td>Region</td><td>string</td><td>null</td></tr><tr><td>District</td><td>string</td><td>null</td></tr><tr><td>Country</td><td>string</td><td>null</td></tr><tr><td>filename</td><td>string</td><td>null</td></tr><tr><td></td><td></td><td></td></tr><tr><td># Detailed Table Information</td><td></td><td></td></tr><tr><td>Catalog</td><td>spark_catalog</td><td></td></tr><tr><td>Database</td><td>sales_case</td><td></td></tr><tr><td>Table</td><td>bronze_sales_table</td><td></td></tr><tr><td>Owner</td><td>root</td><td></td></tr><tr><td>Created Time</td><td>Sun Mar 09 20:57:39 UTC 2025</td><td></td></tr><tr><td>Last Access</td><td>UNKNOWN</td><td></td></tr><tr><td>Created By</td><td>Spark 3.3.2</td><td></td></tr><tr><td>Type</td><td>MANAGED</td><td></td></tr><tr><td>Provider</td><td>parquet</td><td></td></tr><tr><td>Statistics</td><td>11890561 bytes</td><td></td></tr><tr><td>Location</td><td>dbfs:/user/hive/warehouse/sales_case.db/bronze_sales_table</td><td></td></tr><tr><td>Serde Library</td><td>org.apache.hadoop.hive.serde2.lazy.LazySimpleSerDe</td><td></td></tr><tr><td>InputFormat</td><td>org.apache.hadoop.mapred.SequenceFileInputFormat</td><td></td></tr><tr><td>OutputFormat</td><td>org.apache.hadoop.hive.ql.io.HiveSequenceFileOutputFormat</td><td></td></tr><tr><td>Storage Properties</td><td>[checkpointLocation=/mnt/sales_case/_checkpoint_bronze_sales_table]</td><td></td></tr></tbody></table></div>"
      ]
     },
     "metadata": {
      "application/vnd.databricks.v1+output": {
       "addedWidgets": {},
       "aggData": [],
       "aggError": "",
       "aggOverflow": false,
       "aggSchema": [],
       "aggSeriesLimitReached": false,
       "aggType": "",
       "arguments": {},
       "columnCustomDisplayInfos": {},
       "data": [
        [
         "ProductID",
         "int",
         null
        ],
        [
         "Date",
         "date",
         null
        ],
        [
         "ClientID",
         "int",
         null
        ],
        [
         "CampaignID",
         "int",
         null
        ],
        [
         "Units",
         "int",
         null
        ],
        [
         "Product",
         "string",
         null
        ],
        [
         "Category",
         "string",
         null
        ],
        [
         "Segment",
         "string",
         null
        ],
        [
         "ManufacturerID",
         "int",
         null
        ],
        [
         "Manufacturer",
         "string",
         null
        ],
        [
         "UnitCost",
         "double",
         null
        ],
        [
         "UnitPrice",
         "double",
         null
        ],
        [
         "PostalCode",
         "string",
         null
        ],
        [
         "EmailName",
         "string",
         null
        ],
        [
         "City",
         "string",
         null
        ],
        [
         "State",
         "string",
         null
        ],
        [
         "Region",
         "string",
         null
        ],
        [
         "District",
         "string",
         null
        ],
        [
         "Country",
         "string",
         null
        ],
        [
         "filename",
         "string",
         null
        ],
        [
         "",
         "",
         ""
        ],
        [
         "# Detailed Table Information",
         "",
         ""
        ],
        [
         "Catalog",
         "spark_catalog",
         ""
        ],
        [
         "Database",
         "sales_case",
         ""
        ],
        [
         "Table",
         "bronze_sales_table",
         ""
        ],
        [
         "Owner",
         "root",
         ""
        ],
        [
         "Created Time",
         "Sun Mar 09 20:57:39 UTC 2025",
         ""
        ],
        [
         "Last Access",
         "UNKNOWN",
         ""
        ],
        [
         "Created By",
         "Spark 3.3.2",
         ""
        ],
        [
         "Type",
         "MANAGED",
         ""
        ],
        [
         "Provider",
         "parquet",
         ""
        ],
        [
         "Statistics",
         "11890561 bytes",
         ""
        ],
        [
         "Location",
         "dbfs:/user/hive/warehouse/sales_case.db/bronze_sales_table",
         ""
        ],
        [
         "Serde Library",
         "org.apache.hadoop.hive.serde2.lazy.LazySimpleSerDe",
         ""
        ],
        [
         "InputFormat",
         "org.apache.hadoop.mapred.SequenceFileInputFormat",
         ""
        ],
        [
         "OutputFormat",
         "org.apache.hadoop.hive.ql.io.HiveSequenceFileOutputFormat",
         ""
        ],
        [
         "Storage Properties",
         "[checkpointLocation=/mnt/sales_case/_checkpoint_bronze_sales_table]",
         ""
        ]
       ],
       "datasetInfos": [],
       "dbfsResultPath": null,
       "isJsonSchema": true,
       "metadata": {},
       "overflow": false,
       "plotOptions": {
        "customPlotOptions": {},
        "displayType": "table",
        "pivotAggregation": null,
        "pivotColumns": null,
        "xColumns": null,
        "yColumns": null
       },
       "removedWidgets": [],
       "schema": [
        {
         "metadata": "{\"comment\":\"name of the column\"}",
         "name": "col_name",
         "type": "\"string\""
        },
        {
         "metadata": "{\"comment\":\"data type of the column\"}",
         "name": "data_type",
         "type": "\"string\""
        },
        {
         "metadata": "{\"comment\":\"comment of the column\"}",
         "name": "comment",
         "type": "\"string\""
        }
       ],
       "type": "table"
      }
     },
     "output_type": "display_data"
    }
   ],
   "source": [
    "%sql\n",
    "describe table extended sales_case.bronze_sales_table"
   ]
  },
  {
   "cell_type": "code",
   "execution_count": 0,
   "metadata": {
    "application/vnd.databricks.v1+cell": {
     "cellMetadata": {
      "byteLimit": 2048000,
      "rowLimit": 10000
     },
     "inputWidgets": {},
     "nuid": "d1056027-37cf-46eb-8cd4-526c74c44514",
     "showTitle": false,
     "tableResultSettingsMap": {},
     "title": ""
    }
   },
   "outputs": [
    {
     "output_type": "display_data",
     "data": {
      "text/html": [
       "<style scoped>\n",
       "  .table-result-container {\n",
       "    max-height: 300px;\n",
       "    overflow: auto;\n",
       "  }\n",
       "  table, th, td {\n",
       "    border: 1px solid black;\n",
       "    border-collapse: collapse;\n",
       "  }\n",
       "  th, td {\n",
       "    padding: 5px;\n",
       "  }\n",
       "  th {\n",
       "    text-align: left;\n",
       "  }\n",
       "</style><div class='table-result-container'><table class='table-result'><thead style='background-color: white'><tr><th>ProductID</th><th>Date</th><th>ClientID</th><th>CampaignID</th><th>Units</th><th>Product</th><th>Category</th><th>Segment</th><th>ManufacturerID</th><th>Manufacturer</th><th>UnitCost</th><th>UnitPrice</th><th>PostalCode</th><th>EmailName</th><th>City</th><th>State</th><th>Region</th><th>District</th><th>Country</th><th>filename</th></tr></thead><tbody><tr><td>506</td><td>2011-11-11</td><td>234187</td><td>16</td><td>1</td><td>Maximus UM-11</td><td>Urban</td><td>Moderation</td><td>7</td><td>VanArsdel</td><td>90.8264175</td><td>124.41975</td><td>55932</td><td>(Magee.Flowers@xyza.com): Flowers, Magee</td><td>Elgin, MN, USA</td><td>MN</td><td>Central</td><td>District #28</td><td>USA</td><td>dados_2011.csv</td></tr><tr><td>506</td><td>2011-05-24</td><td>249135</td><td>16</td><td>1</td><td>Maximus UM-11</td><td>Urban</td><td>Moderation</td><td>7</td><td>VanArsdel</td><td>90.8264175</td><td>124.41975</td><td>55357</td><td>(Adrian.Pacheco@xyza.com): Pacheco, Adrian</td><td>Loretto, MN, USA</td><td>MN</td><td>Central</td><td>District #28</td><td>USA</td><td>dados_2011.csv</td></tr><tr><td>506</td><td>2011-05-21</td><td>124543</td><td>16</td><td>1</td><td>Maximus UM-11</td><td>Urban</td><td>Moderation</td><td>7</td><td>VanArsdel</td><td>90.8264175</td><td>124.41975</td><td>55066</td><td>(Ashely.Mcgowan@xyza.com): Mcgowan, Ashely</td><td>Red Wing, MN, USA</td><td>MN</td><td>Central</td><td>District #28</td><td>USA</td><td>dados_2011.csv</td></tr><tr><td>506</td><td>2011-05-21</td><td>152994</td><td>16</td><td>1</td><td>Maximus UM-11</td><td>Urban</td><td>Moderation</td><td>7</td><td>VanArsdel</td><td>90.8264175</td><td>124.41975</td><td>56082</td><td>(Abel.Cardenas@xyza.com): Cardenas, Abel</td><td>Saint Peter, MN, USA</td><td>MN</td><td>Central</td><td>District #28</td><td>USA</td><td>dados_2011.csv</td></tr><tr><td>506</td><td>2011-05-22</td><td>205534</td><td>15</td><td>1</td><td>Maximus UM-11</td><td>Urban</td><td>Moderation</td><td>7</td><td>VanArsdel</td><td>90.8264175</td><td>124.41975</td><td>55070</td><td>(Hall.Booth@xyza.com): Booth, Hall</td><td>Saint Francis, MN, USA</td><td>MN</td><td>Central</td><td>District #28</td><td>USA</td><td>dados_2011.csv</td></tr><tr><td>506</td><td>2011-06-03</td><td>133314</td><td>17</td><td>1</td><td>Maximus UM-11</td><td>Urban</td><td>Moderation</td><td>7</td><td>VanArsdel</td><td>90.8264175</td><td>124.41975</td><td>55792</td><td>(Macon.Austin@xyza.com): Austin, Macon</td><td>Virginia, MN, USA</td><td>MN</td><td>Central</td><td>District #28</td><td>USA</td><td>dados_2011.csv</td></tr><tr><td>506</td><td>2011-05-18</td><td>273553</td><td>13</td><td>1</td><td>Maximus UM-11</td><td>Urban</td><td>Moderation</td><td>7</td><td>VanArsdel</td><td>90.8264175</td><td>124.41975</td><td>56628</td><td>(Liberty.Solis@xyza.com): Solis, Liberty</td><td>Bigfork, MN, USA</td><td>MN</td><td>Central</td><td>District #28</td><td>USA</td><td>dados_2011.csv</td></tr><tr><td>506</td><td>2011-05-29</td><td>19629</td><td>18</td><td>1</td><td>Maximus UM-11</td><td>Urban</td><td>Moderation</td><td>7</td><td>VanArsdel</td><td>90.8264175</td><td>124.41975</td><td>55021</td><td>(Isaiah.Witt@xyza.com): Witt, Isaiah</td><td>Faribault, MN, USA</td><td>MN</td><td>Central</td><td>District #28</td><td>USA</td><td>dados_2011.csv</td></tr><tr><td>506</td><td>2011-04-27</td><td>222396</td><td>17</td><td>1</td><td>Maximus UM-11</td><td>Urban</td><td>Moderation</td><td>7</td><td>VanArsdel</td><td>90.8264175</td><td>124.41975</td><td>56329</td><td>(Hedda.Oneill@xyza.com): Oneill, Hedda</td><td>Foley, MN, USA</td><td>MN</td><td>Central</td><td>District #28</td><td>USA</td><td>dados_2011.csv</td></tr><tr><td>506</td><td>2011-10-16</td><td>106354</td><td>16</td><td>1</td><td>Maximus UM-11</td><td>Urban</td><td>Moderation</td><td>7</td><td>VanArsdel</td><td>90.8264175</td><td>124.41975</td><td>55337</td><td>(Marshall.Myers@xyza.com): Myers, Marshall</td><td>Burnsville, MN, USA</td><td>MN</td><td>Central</td><td>District #28</td><td>USA</td><td>dados_2011.csv</td></tr></tbody></table></div>"
      ]
     },
     "metadata": {
      "application/vnd.databricks.v1+output": {
       "addedWidgets": {},
       "aggData": [],
       "aggError": "",
       "aggOverflow": false,
       "aggSchema": [],
       "aggSeriesLimitReached": false,
       "aggType": "",
       "arguments": {},
       "columnCustomDisplayInfos": {},
       "data": [
        [
         506,
         "2011-11-11",
         234187,
         16,
         1,
         "Maximus UM-11",
         "Urban",
         "Moderation",
         7,
         "VanArsdel",
         90.8264175,
         124.41975,
         "55932",
         "(Magee.Flowers@xyza.com): Flowers, Magee",
         "Elgin, MN, USA",
         "MN",
         "Central",
         "District #28",
         "USA",
         "dados_2011.csv"
        ],
        [
         506,
         "2011-05-24",
         249135,
         16,
         1,
         "Maximus UM-11",
         "Urban",
         "Moderation",
         7,
         "VanArsdel",
         90.8264175,
         124.41975,
         "55357",
         "(Adrian.Pacheco@xyza.com): Pacheco, Adrian",
         "Loretto, MN, USA",
         "MN",
         "Central",
         "District #28",
         "USA",
         "dados_2011.csv"
        ],
        [
         506,
         "2011-05-21",
         124543,
         16,
         1,
         "Maximus UM-11",
         "Urban",
         "Moderation",
         7,
         "VanArsdel",
         90.8264175,
         124.41975,
         "55066",
         "(Ashely.Mcgowan@xyza.com): Mcgowan, Ashely",
         "Red Wing, MN, USA",
         "MN",
         "Central",
         "District #28",
         "USA",
         "dados_2011.csv"
        ],
        [
         506,
         "2011-05-21",
         152994,
         16,
         1,
         "Maximus UM-11",
         "Urban",
         "Moderation",
         7,
         "VanArsdel",
         90.8264175,
         124.41975,
         "56082",
         "(Abel.Cardenas@xyza.com): Cardenas, Abel",
         "Saint Peter, MN, USA",
         "MN",
         "Central",
         "District #28",
         "USA",
         "dados_2011.csv"
        ],
        [
         506,
         "2011-05-22",
         205534,
         15,
         1,
         "Maximus UM-11",
         "Urban",
         "Moderation",
         7,
         "VanArsdel",
         90.8264175,
         124.41975,
         "55070",
         "(Hall.Booth@xyza.com): Booth, Hall",
         "Saint Francis, MN, USA",
         "MN",
         "Central",
         "District #28",
         "USA",
         "dados_2011.csv"
        ],
        [
         506,
         "2011-06-03",
         133314,
         17,
         1,
         "Maximus UM-11",
         "Urban",
         "Moderation",
         7,
         "VanArsdel",
         90.8264175,
         124.41975,
         "55792",
         "(Macon.Austin@xyza.com): Austin, Macon",
         "Virginia, MN, USA",
         "MN",
         "Central",
         "District #28",
         "USA",
         "dados_2011.csv"
        ],
        [
         506,
         "2011-05-18",
         273553,
         13,
         1,
         "Maximus UM-11",
         "Urban",
         "Moderation",
         7,
         "VanArsdel",
         90.8264175,
         124.41975,
         "56628",
         "(Liberty.Solis@xyza.com): Solis, Liberty",
         "Bigfork, MN, USA",
         "MN",
         "Central",
         "District #28",
         "USA",
         "dados_2011.csv"
        ],
        [
         506,
         "2011-05-29",
         19629,
         18,
         1,
         "Maximus UM-11",
         "Urban",
         "Moderation",
         7,
         "VanArsdel",
         90.8264175,
         124.41975,
         "55021",
         "(Isaiah.Witt@xyza.com): Witt, Isaiah",
         "Faribault, MN, USA",
         "MN",
         "Central",
         "District #28",
         "USA",
         "dados_2011.csv"
        ],
        [
         506,
         "2011-04-27",
         222396,
         17,
         1,
         "Maximus UM-11",
         "Urban",
         "Moderation",
         7,
         "VanArsdel",
         90.8264175,
         124.41975,
         "56329",
         "(Hedda.Oneill@xyza.com): Oneill, Hedda",
         "Foley, MN, USA",
         "MN",
         "Central",
         "District #28",
         "USA",
         "dados_2011.csv"
        ],
        [
         506,
         "2011-10-16",
         106354,
         16,
         1,
         "Maximus UM-11",
         "Urban",
         "Moderation",
         7,
         "VanArsdel",
         90.8264175,
         124.41975,
         "55337",
         "(Marshall.Myers@xyza.com): Myers, Marshall",
         "Burnsville, MN, USA",
         "MN",
         "Central",
         "District #28",
         "USA",
         "dados_2011.csv"
        ]
       ],
       "datasetInfos": [],
       "dbfsResultPath": null,
       "isJsonSchema": true,
       "metadata": {},
       "overflow": false,
       "plotOptions": {
        "customPlotOptions": {},
        "displayType": "table",
        "pivotAggregation": null,
        "pivotColumns": null,
        "xColumns": null,
        "yColumns": null
       },
       "removedWidgets": [],
       "schema": [
        {
         "metadata": "{}",
         "name": "ProductID",
         "type": "\"long\""
        },
        {
         "metadata": "{}",
         "name": "Date",
         "type": "\"date\""
        },
        {
         "metadata": "{}",
         "name": "ClientID",
         "type": "\"long\""
        },
        {
         "metadata": "{}",
         "name": "CampaignID",
         "type": "\"long\""
        },
        {
         "metadata": "{}",
         "name": "Units",
         "type": "\"long\""
        },
        {
         "metadata": "{}",
         "name": "Product",
         "type": "\"string\""
        },
        {
         "metadata": "{}",
         "name": "Category",
         "type": "\"string\""
        },
        {
         "metadata": "{}",
         "name": "Segment",
         "type": "\"string\""
        },
        {
         "metadata": "{}",
         "name": "ManufacturerID",
         "type": "\"long\""
        },
        {
         "metadata": "{}",
         "name": "Manufacturer",
         "type": "\"string\""
        },
        {
         "metadata": "{}",
         "name": "UnitCost",
         "type": "\"double\""
        },
        {
         "metadata": "{}",
         "name": "UnitPrice",
         "type": "\"double\""
        },
        {
         "metadata": "{}",
         "name": "PostalCode",
         "type": "\"string\""
        },
        {
         "metadata": "{}",
         "name": "EmailName",
         "type": "\"string\""
        },
        {
         "metadata": "{}",
         "name": "City",
         "type": "\"string\""
        },
        {
         "metadata": "{}",
         "name": "State",
         "type": "\"string\""
        },
        {
         "metadata": "{}",
         "name": "Region",
         "type": "\"string\""
        },
        {
         "metadata": "{}",
         "name": "District",
         "type": "\"string\""
        },
        {
         "metadata": "{}",
         "name": "Country",
         "type": "\"string\""
        },
        {
         "metadata": "{}",
         "name": "filename",
         "type": "\"string\""
        }
       ],
       "type": "table"
      }
     },
     "output_type": "display_data"
    }
   ],
   "source": [
    "display(spark.read.table(f\"{database_name}.{table_name}\").take(10))"
   ]
  },
  {
   "cell_type": "markdown",
   "metadata": {
    "application/vnd.databricks.v1+cell": {
     "cellMetadata": {},
     "inputWidgets": {},
     "nuid": "4d03eea3-f574-44d5-9add-9d8149d849a4",
     "showTitle": false,
     "tableResultSettingsMap": {},
     "title": ""
    }
   },
   "source": [
    "### Cleaning DF from Memory to optmmize"
   ]
  },
  {
   "cell_type": "code",
   "execution_count": 0,
   "metadata": {
    "application/vnd.databricks.v1+cell": {
     "cellMetadata": {
      "byteLimit": 2048000,
      "rowLimit": 10000
     },
     "inputWidgets": {},
     "nuid": "56976f39-1c8d-4a91-b591-835ca8e01f46",
     "showTitle": false,
     "tableResultSettingsMap": {},
     "title": ""
    }
   },
   "outputs": [
    {
     "output_type": "stream",
     "name": "stdout",
     "output_type": "stream",
     "text": [
      "Out[40]: DataFrame[ProductID: int, Date: date, ClientID: int, CampaignID: int, Units: int, Product: string, Category: string, Segment: string, ManufacturerID: int, Manufacturer: string, UnitCost: double, UnitPrice: double, PostalCode: string, EmailName: string, City: string, State: string, Region: string, District: string, Country: string, filename: string]"
     ]
    }
   ],
   "source": [
    "import gc\n",
    "gc.collect()\n",
    "\n",
    "df.unpersist()"
   ]
  }
 ],
 "metadata": {
  "application/vnd.databricks.v1+notebook": {
   "computePreferences": null,
   "dashboards": [],
   "environmentMetadata": null,
   "language": "python",
   "notebookMetadata": {
    "mostRecentlyExecutedCommandWithImplicitDF": {
     "commandId": 1907015232691471,
     "dataframes": [
      "_sqldf"
     ]
    },
    "pythonIndentUnit": 4
   },
   "notebookName": "002 Load Bronze",
   "widgets": {}
  }
 },
 "nbformat": 4,
 "nbformat_minor": 0
}
