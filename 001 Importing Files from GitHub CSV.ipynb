{
 "cells": [
  {
   "cell_type": "code",
   "execution_count": 0,
   "metadata": {
    "application/vnd.databricks.v1+cell": {
     "cellMetadata": {
      "byteLimit": 2048000,
      "rowLimit": 10000
     },
     "inputWidgets": {},
     "nuid": "e032e6d5-37ed-4f90-8e0b-fe581af0c7ae",
     "showTitle": false,
     "tableResultSettingsMap": {},
     "title": ""
    }
   },
   "outputs": [],
   "source": [
    "%run ./Utils"
   ]
  },
  {
   "cell_type": "markdown",
   "metadata": {
    "application/vnd.databricks.v1+cell": {
     "cellMetadata": {
      "byteLimit": 2048000,
      "rowLimit": 10000
     },
     "inputWidgets": {},
     "nuid": "3b81d6d3-6f7a-4b06-9fe4-44644424e7a5",
     "showTitle": false,
     "tableResultSettingsMap": {},
     "title": ""
    }
   },
   "source": [
    "### Gettting a lis of files existing in github to manipulate them"
   ]
  },
  {
   "cell_type": "code",
   "execution_count": 0,
   "metadata": {
    "application/vnd.databricks.v1+cell": {
     "cellMetadata": {
      "byteLimit": 2048000,
      "rowLimit": 10000
     },
     "inputWidgets": {},
     "nuid": "b0cc1af2-5fa3-4798-bffe-38bc5c1714c1",
     "showTitle": false,
     "tableResultSettingsMap": {},
     "title": ""
    }
   },
   "outputs": [
    {
     "output_type": "stream",
     "name": "stdout",
     "output_type": "stream",
     "text": [
      "Files and directories in the 'Source' folder:\n['dados_2011.csv', 'dados_2012.csv', 'dados_2013.csv']\n"
     ]
    }
   ],
   "source": [
    "import requests\n",
    "\n",
    "# GitHub repository API URL for the 'Source' folder\n",
    "repo_url = \"https://api.github.com/repos/RafaelRampineli/Sales-analysis/contents/Source\"\n",
    "\n",
    "# Send GET request to GitHub API\n",
    "response = requests.get(repo_url)\n",
    "\n",
    "# Initialize the list to store file information\n",
    "files_list = []\n",
    "\n",
    "# Check if the request was successful\n",
    "if response.status_code == 200:\n",
    "    # Parse JSON response\n",
    "    data = response.json()\n",
    "\n",
    "    # Loop through the items and print their names and types\n",
    "    print(\"Files and directories in the 'Source' folder:\")\n",
    "    for item in data:\n",
    "        files_list.append(item['name'])  # Append file name to files_list\n",
    "    \n",
    "    # Print out the list of files\n",
    "    print(files_list)\n",
    "else:\n",
    "    print(f\"Failed to fetch data. HTTP Status code: {response.status_code}\")\n"
   ]
  },
  {
   "cell_type": "markdown",
   "metadata": {
    "application/vnd.databricks.v1+cell": {
     "cellMetadata": {
      "byteLimit": 2048000,
      "rowLimit": 10000
     },
     "inputWidgets": {},
     "nuid": "76f74ba6-f9ac-481d-bc38-697d5fe590c0",
     "showTitle": false,
     "tableResultSettingsMap": {},
     "title": ""
    }
   },
   "source": [
    "###Importing csv files from Github to DBFS Landingzone\n",
    "\n",
    "Step-by-step to import from github and save on Databricks.\n"
   ]
  },
  {
   "cell_type": "code",
   "execution_count": 0,
   "metadata": {
    "application/vnd.databricks.v1+cell": {
     "cellMetadata": {
      "byteLimit": 2048000,
      "rowLimit": 10000
     },
     "inputWidgets": {},
     "nuid": "91f04f85-1f1f-4204-b1f6-9180ed13cb6d",
     "showTitle": false,
     "tableResultSettingsMap": {},
     "title": ""
    }
   },
   "outputs": [
    {
     "output_type": "stream",
     "name": "stdout",
     "output_type": "stream",
     "text": [
      "File dados_2011.csv downloaded and saved at: /mnt/lhdw/landingzone/raw/salesdados_2011.csv\nFile dados_2012.csv downloaded and saved at: /mnt/lhdw/landingzone/raw/salesdados_2012.csv\nFile dados_2013.csv downloaded and saved at: /mnt/lhdw/landingzone/raw/salesdados_2013.csv\n"
     ]
    }
   ],
   "source": [
    "import urllib.request\n",
    "\n",
    "# Base URL for GitHub CSV files (assuming the file names are part of the URL)\n",
    "base_url = 'https://github.com/RafaelRampineli/Sales-analysis/raw/main/Source/'\n",
    "\n",
    "# Temp Directory at Databricks cluster instance\n",
    "temp_path = '/tmp/'\n",
    "\n",
    "# DBFS path where files will be saved\n",
    "# lz_path_in are from Utils notebook\n",
    "dbfs_base_path = GetLandingZoneDirectory() \n",
    "\n",
    "# Loop through the list of files\n",
    "for file in files_list:\n",
    "    # Construct the full URL for each CSV file\n",
    "    url = f'{base_url}{file}'\n",
    "\n",
    "    # Temp path where the file will be downloaded\n",
    "    temp_file_path = f'{temp_path}{file}'\n",
    "\n",
    "    # Final target path on DBFS\n",
    "    dbfs_file_path = f'{dbfs_base_path}{file}'\n",
    "\n",
    "    # Download the CSV file from GitHub URL to the temp directory on the cluster\n",
    "    urllib.request.urlretrieve(url, temp_file_path)\n",
    "\n",
    "    # Move the downloaded file from temp directory to DBFS\n",
    "    dbutils.fs.cp(f'file:{temp_file_path}', f'dbfs:{dbfs_file_path}')\n",
    "\n",
    "    # Print confirmation message for each file\n",
    "    print(f\"File {file} downloaded and saved at: {dbfs_file_path}\")\n",
    "\n"
   ]
  },
  {
   "cell_type": "markdown",
   "metadata": {
    "application/vnd.databricks.v1+cell": {
     "cellMetadata": {
      "byteLimit": 2048000,
      "rowLimit": 10000
     },
     "inputWidgets": {},
     "nuid": "cf3fc368-a113-40be-8cc6-e924808a77fe",
     "showTitle": false,
     "tableResultSettingsMap": {},
     "title": ""
    }
   },
   "source": [
    "##Checking File created"
   ]
  },
  {
   "cell_type": "code",
   "execution_count": 0,
   "metadata": {
    "application/vnd.databricks.v1+cell": {
     "cellMetadata": {
      "byteLimit": 2048000,
      "rowLimit": 10000
     },
     "inputWidgets": {},
     "nuid": "f5054c26-dbc4-4a1e-8d69-51321f1594ea",
     "showTitle": false,
     "tableResultSettingsMap": {},
     "title": ""
    }
   },
   "outputs": [
    {
     "output_type": "stream",
     "name": "stdout",
     "output_type": "stream",
     "text": [
      "Out[7]: '/mnt/lhdw/landingzone/raw/sales'"
     ]
    }
   ],
   "source": [
    "dbutils.fs.ls(GetLandingZoneDirectory())\n",
    "GetLandingZoneDirectory()\n"
   ]
  },
  {
   "cell_type": "code",
   "execution_count": 0,
   "metadata": {
    "application/vnd.databricks.v1+cell": {
     "cellMetadata": {
      "byteLimit": 2048000,
      "rowLimit": 10000
     },
     "inputWidgets": {},
     "nuid": "95138e9b-e49d-42e3-ae63-1cb28528cf5e",
     "showTitle": false,
     "tableResultSettingsMap": {},
     "title": ""
    }
   },
   "outputs": [
    {
     "output_type": "display_data",
     "data": {
      "text/html": [
       "<style scoped>\n",
       "  .table-result-container {\n",
       "    max-height: 300px;\n",
       "    overflow: auto;\n",
       "  }\n",
       "  table, th, td {\n",
       "    border: 1px solid black;\n",
       "    border-collapse: collapse;\n",
       "  }\n",
       "  th, td {\n",
       "    padding: 5px;\n",
       "  }\n",
       "  th {\n",
       "    text-align: left;\n",
       "  }\n",
       "</style><div class='table-result-container'><table class='table-result'><thead style='background-color: white'><tr><th>path</th><th>name</th><th>size</th><th>modificationTime</th></tr></thead><tbody><tr><td>dbfs:/mnt/lhdw/landingzone/raw/sales/dados_2011.csv</td><td>dados_2011.csv</td><td>21493733</td><td>1741536706000</td></tr><tr><td>dbfs:/mnt/lhdw/landingzone/raw/sales/dados_2012.csv</td><td>dados_2012.csv</td><td>22400712</td><td>1741536708000</td></tr><tr><td>dbfs:/mnt/lhdw/landingzone/raw/sales/dados_2013.csv</td><td>dados_2013.csv</td><td>23910840</td><td>1741536710000</td></tr></tbody></table></div>"
      ]
     },
     "metadata": {
      "application/vnd.databricks.v1+output": {
       "addedWidgets": {},
       "aggData": [],
       "aggError": "",
       "aggOverflow": false,
       "aggSchema": [],
       "aggSeriesLimitReached": false,
       "aggType": "",
       "arguments": {},
       "columnCustomDisplayInfos": {},
       "data": [
        [
         "dbfs:/mnt/lhdw/landingzone/raw/sales/dados_2011.csv",
         "dados_2011.csv",
         21493733,
         1741536706000
        ],
        [
         "dbfs:/mnt/lhdw/landingzone/raw/sales/dados_2012.csv",
         "dados_2012.csv",
         22400712,
         1741536708000
        ],
        [
         "dbfs:/mnt/lhdw/landingzone/raw/sales/dados_2013.csv",
         "dados_2013.csv",
         23910840,
         1741536710000
        ]
       ],
       "datasetInfos": [],
       "dbfsResultPath": null,
       "isJsonSchema": true,
       "metadata": {
        "isDbfsCommandResult": false
       },
       "overflow": false,
       "plotOptions": {
        "customPlotOptions": {},
        "displayType": "table",
        "pivotAggregation": null,
        "pivotColumns": null,
        "xColumns": null,
        "yColumns": null
       },
       "removedWidgets": [],
       "schema": [
        {
         "metadata": "{}",
         "name": "path",
         "type": "\"string\""
        },
        {
         "metadata": "{}",
         "name": "name",
         "type": "\"string\""
        },
        {
         "metadata": "{}",
         "name": "size",
         "type": "\"long\""
        },
        {
         "metadata": "{}",
         "name": "modificationTime",
         "type": "\"long\""
        }
       ],
       "type": "table"
      }
     },
     "output_type": "display_data"
    }
   ],
   "source": [
    "%fs ls /mnt/lhdw/landingzone/raw/sales/"
   ]
  }
 ],
 "metadata": {
  "application/vnd.databricks.v1+notebook": {
   "computePreferences": null,
   "dashboards": [],
   "environmentMetadata": null,
   "language": "python",
   "notebookMetadata": {
    "mostRecentlyExecutedCommandWithImplicitDF": {
     "commandId": 1231175165998840,
     "dataframes": [
      "_sqldf"
     ]
    },
    "pythonIndentUnit": 4
   },
   "notebookName": "001 Importing Files from GitHub CSV",
   "widgets": {}
  }
 },
 "nbformat": 4,
 "nbformat_minor": 0
}
