{
 "cells": [
  {
   "cell_type": "code",
   "execution_count": 0,
   "metadata": {
    "application/vnd.databricks.v1+cell": {
     "cellMetadata": {
      "byteLimit": 2048000,
      "rowLimit": 10000
     },
     "inputWidgets": {},
     "nuid": "0972e549-7c73-4131-8fc8-68642e404c45",
     "showTitle": false,
     "tableResultSettingsMap": {},
     "title": ""
    }
   },
   "outputs": [],
   "source": [
    "%run ./Utils"
   ]
  },
  {
   "cell_type": "code",
   "execution_count": 0,
   "metadata": {
    "application/vnd.databricks.v1+cell": {
     "cellMetadata": {
      "byteLimit": 2048000,
      "rowLimit": 10000
     },
     "inputWidgets": {},
     "nuid": "1492172d-2619-4d57-abc6-848eba5d5354",
     "showTitle": false,
     "tableResultSettingsMap": {},
     "title": ""
    }
   },
   "outputs": [],
   "source": [
    "from pyspark.sql.functions import format_number\n",
    "from pyspark.sql.functions import *\n",
    "from pyspark.sql.types import *"
   ]
  },
  {
   "cell_type": "markdown",
   "metadata": {
    "application/vnd.databricks.v1+cell": {
     "cellMetadata": {
      "byteLimit": 2048000,
      "rowLimit": 10000
     },
     "inputWidgets": {},
     "nuid": "3caa998b-5401-4878-b294-264ad3bf81fd",
     "showTitle": false,
     "tableResultSettingsMap": {},
     "title": ""
    }
   },
   "source": [
    "## Silver Layer: Cleaning and Transformation\n",
    "\n",
    "Apply transformations and denormalize the data in the Silver layer. Use partitioning to improve read and write performance."
   ]
  },
  {
   "cell_type": "code",
   "execution_count": 0,
   "metadata": {
    "application/vnd.databricks.v1+cell": {
     "cellMetadata": {
      "byteLimit": 2048000,
      "rowLimit": 10000
     },
     "inputWidgets": {},
     "nuid": "379b13fc-3b42-4e24-bdb1-4432404bea9a",
     "showTitle": false,
     "tableResultSettingsMap": {},
     "title": ""
    }
   },
   "outputs": [
    {
     "output_type": "stream",
     "name": "stdout",
     "output_type": "stream",
     "text": [
      "Out[9]: False"
     ]
    }
   ],
   "source": [
    "# Var in this notebook\n",
    "Bronze_path = \"sales_case.bronze_sales_table\"\n",
    "\n",
    "#Define the table name and database\n",
    "database_name = 'sales_case'\n",
    "table_name = 'silver_sales_table'\n",
    "\n",
    "# Check if the table exists\n",
    "Table_exists = spark.sql(f\"SHOW TABLES IN {database_name} LIKE '{table_name}'\").count() > 0\n",
    "Table_exists"
   ]
  },
  {
   "cell_type": "markdown",
   "metadata": {
    "application/vnd.databricks.v1+cell": {
     "cellMetadata": {
      "byteLimit": 2048000,
      "rowLimit": 10000
     },
     "inputWidgets": {},
     "nuid": "c06a0cea-1671-4aa8-9585-1f675d62c053",
     "showTitle": false,
     "tableResultSettingsMap": {},
     "title": ""
    }
   },
   "source": [
    "#### Reading data from Bronze Layer to clean and transform it on Silver Layer"
   ]
  },
  {
   "cell_type": "code",
   "execution_count": 0,
   "metadata": {
    "application/vnd.databricks.v1+cell": {
     "cellMetadata": {
      "byteLimit": 2048000,
      "rowLimit": 10000
     },
     "inputWidgets": {},
     "nuid": "f7a6dd23-e28a-47cf-8218-47efd637c883",
     "showTitle": false,
     "tableResultSettingsMap": {},
     "title": ""
    }
   },
   "outputs": [
    {
     "output_type": "display_data",
     "data": {
      "text/html": [
       "<style scoped>\n",
       "  .table-result-container {\n",
       "    max-height: 300px;\n",
       "    overflow: auto;\n",
       "  }\n",
       "  table, th, td {\n",
       "    border: 1px solid black;\n",
       "    border-collapse: collapse;\n",
       "  }\n",
       "  th, td {\n",
       "    padding: 5px;\n",
       "  }\n",
       "  th {\n",
       "    text-align: left;\n",
       "  }\n",
       "</style><div class='table-result-container'><table class='table-result'><thead style='background-color: white'><tr><th>ProductID</th><th>Date</th><th>ClientID</th><th>CampaignID</th><th>Units</th><th>Product</th><th>Category</th><th>Segment</th><th>ManufacturerID</th><th>Manufacturer</th><th>UnitCost</th><th>UnitPrice</th><th>PostalCode</th><th>EmailName</th><th>City</th><th>State</th><th>Region</th><th>District</th><th>Country</th><th>filename</th></tr></thead><tbody><tr><td>506</td><td>2011-11-11</td><td>234187</td><td>16</td><td>1</td><td>Maximus UM-11</td><td>Urban</td><td>Moderation</td><td>7</td><td>VanArsdel</td><td>90.8264175</td><td>124.41975</td><td>55932</td><td>(Magee.Flowers@xyza.com): Flowers, Magee</td><td>Elgin, MN, USA</td><td>MN</td><td>Central</td><td>District #28</td><td>USA</td><td>dados_2011.csv</td></tr><tr><td>506</td><td>2011-05-24</td><td>249135</td><td>16</td><td>1</td><td>Maximus UM-11</td><td>Urban</td><td>Moderation</td><td>7</td><td>VanArsdel</td><td>90.8264175</td><td>124.41975</td><td>55357</td><td>(Adrian.Pacheco@xyza.com): Pacheco, Adrian</td><td>Loretto, MN, USA</td><td>MN</td><td>Central</td><td>District #28</td><td>USA</td><td>dados_2011.csv</td></tr><tr><td>506</td><td>2011-05-21</td><td>124543</td><td>16</td><td>1</td><td>Maximus UM-11</td><td>Urban</td><td>Moderation</td><td>7</td><td>VanArsdel</td><td>90.8264175</td><td>124.41975</td><td>55066</td><td>(Ashely.Mcgowan@xyza.com): Mcgowan, Ashely</td><td>Red Wing, MN, USA</td><td>MN</td><td>Central</td><td>District #28</td><td>USA</td><td>dados_2011.csv</td></tr><tr><td>506</td><td>2011-05-21</td><td>152994</td><td>16</td><td>1</td><td>Maximus UM-11</td><td>Urban</td><td>Moderation</td><td>7</td><td>VanArsdel</td><td>90.8264175</td><td>124.41975</td><td>56082</td><td>(Abel.Cardenas@xyza.com): Cardenas, Abel</td><td>Saint Peter, MN, USA</td><td>MN</td><td>Central</td><td>District #28</td><td>USA</td><td>dados_2011.csv</td></tr><tr><td>506</td><td>2011-05-22</td><td>205534</td><td>15</td><td>1</td><td>Maximus UM-11</td><td>Urban</td><td>Moderation</td><td>7</td><td>VanArsdel</td><td>90.8264175</td><td>124.41975</td><td>55070</td><td>(Hall.Booth@xyza.com): Booth, Hall</td><td>Saint Francis, MN, USA</td><td>MN</td><td>Central</td><td>District #28</td><td>USA</td><td>dados_2011.csv</td></tr><tr><td>506</td><td>2011-06-03</td><td>133314</td><td>17</td><td>1</td><td>Maximus UM-11</td><td>Urban</td><td>Moderation</td><td>7</td><td>VanArsdel</td><td>90.8264175</td><td>124.41975</td><td>55792</td><td>(Macon.Austin@xyza.com): Austin, Macon</td><td>Virginia, MN, USA</td><td>MN</td><td>Central</td><td>District #28</td><td>USA</td><td>dados_2011.csv</td></tr><tr><td>506</td><td>2011-05-18</td><td>273553</td><td>13</td><td>1</td><td>Maximus UM-11</td><td>Urban</td><td>Moderation</td><td>7</td><td>VanArsdel</td><td>90.8264175</td><td>124.41975</td><td>56628</td><td>(Liberty.Solis@xyza.com): Solis, Liberty</td><td>Bigfork, MN, USA</td><td>MN</td><td>Central</td><td>District #28</td><td>USA</td><td>dados_2011.csv</td></tr><tr><td>506</td><td>2011-05-29</td><td>19629</td><td>18</td><td>1</td><td>Maximus UM-11</td><td>Urban</td><td>Moderation</td><td>7</td><td>VanArsdel</td><td>90.8264175</td><td>124.41975</td><td>55021</td><td>(Isaiah.Witt@xyza.com): Witt, Isaiah</td><td>Faribault, MN, USA</td><td>MN</td><td>Central</td><td>District #28</td><td>USA</td><td>dados_2011.csv</td></tr><tr><td>506</td><td>2011-04-27</td><td>222396</td><td>17</td><td>1</td><td>Maximus UM-11</td><td>Urban</td><td>Moderation</td><td>7</td><td>VanArsdel</td><td>90.8264175</td><td>124.41975</td><td>56329</td><td>(Hedda.Oneill@xyza.com): Oneill, Hedda</td><td>Foley, MN, USA</td><td>MN</td><td>Central</td><td>District #28</td><td>USA</td><td>dados_2011.csv</td></tr><tr><td>506</td><td>2011-10-16</td><td>106354</td><td>16</td><td>1</td><td>Maximus UM-11</td><td>Urban</td><td>Moderation</td><td>7</td><td>VanArsdel</td><td>90.8264175</td><td>124.41975</td><td>55337</td><td>(Marshall.Myers@xyza.com): Myers, Marshall</td><td>Burnsville, MN, USA</td><td>MN</td><td>Central</td><td>District #28</td><td>USA</td><td>dados_2011.csv</td></tr></tbody></table></div>"
      ]
     },
     "metadata": {
      "application/vnd.databricks.v1+output": {
       "addedWidgets": {},
       "aggData": [],
       "aggError": "",
       "aggOverflow": false,
       "aggSchema": [],
       "aggSeriesLimitReached": false,
       "aggType": "",
       "arguments": {},
       "columnCustomDisplayInfos": {},
       "data": [
        [
         506,
         "2011-11-11",
         234187,
         16,
         1,
         "Maximus UM-11",
         "Urban",
         "Moderation",
         7,
         "VanArsdel",
         90.8264175,
         124.41975,
         "55932",
         "(Magee.Flowers@xyza.com): Flowers, Magee",
         "Elgin, MN, USA",
         "MN",
         "Central",
         "District #28",
         "USA",
         "dados_2011.csv"
        ],
        [
         506,
         "2011-05-24",
         249135,
         16,
         1,
         "Maximus UM-11",
         "Urban",
         "Moderation",
         7,
         "VanArsdel",
         90.8264175,
         124.41975,
         "55357",
         "(Adrian.Pacheco@xyza.com): Pacheco, Adrian",
         "Loretto, MN, USA",
         "MN",
         "Central",
         "District #28",
         "USA",
         "dados_2011.csv"
        ],
        [
         506,
         "2011-05-21",
         124543,
         16,
         1,
         "Maximus UM-11",
         "Urban",
         "Moderation",
         7,
         "VanArsdel",
         90.8264175,
         124.41975,
         "55066",
         "(Ashely.Mcgowan@xyza.com): Mcgowan, Ashely",
         "Red Wing, MN, USA",
         "MN",
         "Central",
         "District #28",
         "USA",
         "dados_2011.csv"
        ],
        [
         506,
         "2011-05-21",
         152994,
         16,
         1,
         "Maximus UM-11",
         "Urban",
         "Moderation",
         7,
         "VanArsdel",
         90.8264175,
         124.41975,
         "56082",
         "(Abel.Cardenas@xyza.com): Cardenas, Abel",
         "Saint Peter, MN, USA",
         "MN",
         "Central",
         "District #28",
         "USA",
         "dados_2011.csv"
        ],
        [
         506,
         "2011-05-22",
         205534,
         15,
         1,
         "Maximus UM-11",
         "Urban",
         "Moderation",
         7,
         "VanArsdel",
         90.8264175,
         124.41975,
         "55070",
         "(Hall.Booth@xyza.com): Booth, Hall",
         "Saint Francis, MN, USA",
         "MN",
         "Central",
         "District #28",
         "USA",
         "dados_2011.csv"
        ],
        [
         506,
         "2011-06-03",
         133314,
         17,
         1,
         "Maximus UM-11",
         "Urban",
         "Moderation",
         7,
         "VanArsdel",
         90.8264175,
         124.41975,
         "55792",
         "(Macon.Austin@xyza.com): Austin, Macon",
         "Virginia, MN, USA",
         "MN",
         "Central",
         "District #28",
         "USA",
         "dados_2011.csv"
        ],
        [
         506,
         "2011-05-18",
         273553,
         13,
         1,
         "Maximus UM-11",
         "Urban",
         "Moderation",
         7,
         "VanArsdel",
         90.8264175,
         124.41975,
         "56628",
         "(Liberty.Solis@xyza.com): Solis, Liberty",
         "Bigfork, MN, USA",
         "MN",
         "Central",
         "District #28",
         "USA",
         "dados_2011.csv"
        ],
        [
         506,
         "2011-05-29",
         19629,
         18,
         1,
         "Maximus UM-11",
         "Urban",
         "Moderation",
         7,
         "VanArsdel",
         90.8264175,
         124.41975,
         "55021",
         "(Isaiah.Witt@xyza.com): Witt, Isaiah",
         "Faribault, MN, USA",
         "MN",
         "Central",
         "District #28",
         "USA",
         "dados_2011.csv"
        ],
        [
         506,
         "2011-04-27",
         222396,
         17,
         1,
         "Maximus UM-11",
         "Urban",
         "Moderation",
         7,
         "VanArsdel",
         90.8264175,
         124.41975,
         "56329",
         "(Hedda.Oneill@xyza.com): Oneill, Hedda",
         "Foley, MN, USA",
         "MN",
         "Central",
         "District #28",
         "USA",
         "dados_2011.csv"
        ],
        [
         506,
         "2011-10-16",
         106354,
         16,
         1,
         "Maximus UM-11",
         "Urban",
         "Moderation",
         7,
         "VanArsdel",
         90.8264175,
         124.41975,
         "55337",
         "(Marshall.Myers@xyza.com): Myers, Marshall",
         "Burnsville, MN, USA",
         "MN",
         "Central",
         "District #28",
         "USA",
         "dados_2011.csv"
        ]
       ],
       "datasetInfos": [],
       "dbfsResultPath": null,
       "isJsonSchema": true,
       "metadata": {},
       "overflow": false,
       "plotOptions": {
        "customPlotOptions": {},
        "displayType": "table",
        "pivotAggregation": null,
        "pivotColumns": null,
        "xColumns": null,
        "yColumns": null
       },
       "removedWidgets": [],
       "schema": [
        {
         "metadata": "{}",
         "name": "ProductID",
         "type": "\"long\""
        },
        {
         "metadata": "{}",
         "name": "Date",
         "type": "\"date\""
        },
        {
         "metadata": "{}",
         "name": "ClientID",
         "type": "\"long\""
        },
        {
         "metadata": "{}",
         "name": "CampaignID",
         "type": "\"long\""
        },
        {
         "metadata": "{}",
         "name": "Units",
         "type": "\"long\""
        },
        {
         "metadata": "{}",
         "name": "Product",
         "type": "\"string\""
        },
        {
         "metadata": "{}",
         "name": "Category",
         "type": "\"string\""
        },
        {
         "metadata": "{}",
         "name": "Segment",
         "type": "\"string\""
        },
        {
         "metadata": "{}",
         "name": "ManufacturerID",
         "type": "\"long\""
        },
        {
         "metadata": "{}",
         "name": "Manufacturer",
         "type": "\"string\""
        },
        {
         "metadata": "{}",
         "name": "UnitCost",
         "type": "\"double\""
        },
        {
         "metadata": "{}",
         "name": "UnitPrice",
         "type": "\"double\""
        },
        {
         "metadata": "{}",
         "name": "PostalCode",
         "type": "\"string\""
        },
        {
         "metadata": "{}",
         "name": "EmailName",
         "type": "\"string\""
        },
        {
         "metadata": "{}",
         "name": "City",
         "type": "\"string\""
        },
        {
         "metadata": "{}",
         "name": "State",
         "type": "\"string\""
        },
        {
         "metadata": "{}",
         "name": "Region",
         "type": "\"string\""
        },
        {
         "metadata": "{}",
         "name": "District",
         "type": "\"string\""
        },
        {
         "metadata": "{}",
         "name": "Country",
         "type": "\"string\""
        },
        {
         "metadata": "{}",
         "name": "filename",
         "type": "\"string\""
        }
       ],
       "type": "table"
      }
     },
     "output_type": "display_data"
    }
   ],
   "source": [
    "# Reading from a Delta table\n",
    "if Table_exists:\n",
    "    df_bronze = spark.readStream.table(Bronze_path)\n",
    "else:\n",
    "    df_bronze = spark.read.table(Bronze_path)\n",
    "\n",
    "display(df_bronze.take(10))"
   ]
  },
  {
   "cell_type": "markdown",
   "metadata": {
    "application/vnd.databricks.v1+cell": {
     "cellMetadata": {
      "byteLimit": 2048000,
      "rowLimit": 10000
     },
     "inputWidgets": {},
     "nuid": "02982840-980d-4659-b850-e928c7ddc083",
     "showTitle": false,
     "tableResultSettingsMap": {},
     "title": ""
    }
   },
   "source": [
    "### Data Cleaning\n",
    "Data cleaning is a crucial process to ensure data quality. This involves removing duplicate or incorrect data, standardizing data formats and values, and enriching data with additional information. Furthermore, it is important to check and correct quality issues, such as errors and inconsistencies, to ensure that the data is accurate and reliable."
   ]
  },
  {
   "cell_type": "code",
   "execution_count": 0,
   "metadata": {
    "application/vnd.databricks.v1+cell": {
     "cellMetadata": {
      "byteLimit": 2048000,
      "rowLimit": 10000
     },
     "inputWidgets": {},
     "nuid": "fc7f5a26-d696-4cac-8e19-29de03955200",
     "showTitle": false,
     "tableResultSettingsMap": {},
     "title": ""
    }
   },
   "outputs": [
    {
     "output_type": "display_data",
     "data": {
      "text/html": [
       "<style scoped>\n",
       "  .table-result-container {\n",
       "    max-height: 300px;\n",
       "    overflow: auto;\n",
       "  }\n",
       "  table, th, td {\n",
       "    border: 1px solid black;\n",
       "    border-collapse: collapse;\n",
       "  }\n",
       "  th, td {\n",
       "    padding: 5px;\n",
       "  }\n",
       "  th {\n",
       "    text-align: left;\n",
       "  }\n",
       "</style><div class='table-result-container'><table class='table-result'><thead style='background-color: white'><tr><th>ProductID</th><th>Date</th><th>ClientID</th><th>Units</th><th>Product</th><th>Category</th><th>Segment</th><th>ManufacturerID</th><th>Manufacturer</th><th>UnitCost</th><th>UnitPrice</th><th>PostalCode</th><th>City</th><th>State</th><th>Region</th><th>District</th><th>Country</th><th>filename</th><th>Email</th><th>Name</th><th>SalesTotal</th></tr></thead><tbody><tr><td>506</td><td>2011-11-11</td><td>234187</td><td>1</td><td>Maximus UM-11</td><td>Urban</td><td>Moderation</td><td>7</td><td>VanArsdel</td><td>90.83</td><td>124.42</td><td>55932</td><td>Elgin</td><td>MN</td><td>Central</td><td>District #28</td><td>USA</td><td>dados_2011.csv</td><td>magee.flowers@xyza.com</td><td>Magee  Flowers</td><td>90.83</td></tr><tr><td>506</td><td>2011-05-24</td><td>249135</td><td>1</td><td>Maximus UM-11</td><td>Urban</td><td>Moderation</td><td>7</td><td>VanArsdel</td><td>90.83</td><td>124.42</td><td>55357</td><td>Loretto</td><td>MN</td><td>Central</td><td>District #28</td><td>USA</td><td>dados_2011.csv</td><td>adrian.pacheco@xyza.com</td><td>Adrian  Pacheco</td><td>90.83</td></tr><tr><td>506</td><td>2011-05-21</td><td>124543</td><td>1</td><td>Maximus UM-11</td><td>Urban</td><td>Moderation</td><td>7</td><td>VanArsdel</td><td>90.83</td><td>124.42</td><td>55066</td><td>Red Wing</td><td>MN</td><td>Central</td><td>District #28</td><td>USA</td><td>dados_2011.csv</td><td>ashely.mcgowan@xyza.com</td><td>Ashely  Mcgowan</td><td>90.83</td></tr><tr><td>506</td><td>2011-05-21</td><td>152994</td><td>1</td><td>Maximus UM-11</td><td>Urban</td><td>Moderation</td><td>7</td><td>VanArsdel</td><td>90.83</td><td>124.42</td><td>56082</td><td>Saint Peter</td><td>MN</td><td>Central</td><td>District #28</td><td>USA</td><td>dados_2011.csv</td><td>abel.cardenas@xyza.com</td><td>Abel  Cardenas</td><td>90.83</td></tr><tr><td>506</td><td>2011-05-22</td><td>205534</td><td>1</td><td>Maximus UM-11</td><td>Urban</td><td>Moderation</td><td>7</td><td>VanArsdel</td><td>90.83</td><td>124.42</td><td>55070</td><td>Saint Francis</td><td>MN</td><td>Central</td><td>District #28</td><td>USA</td><td>dados_2011.csv</td><td>hall.booth@xyza.com</td><td>Hall  Booth</td><td>90.83</td></tr><tr><td>506</td><td>2011-06-03</td><td>133314</td><td>1</td><td>Maximus UM-11</td><td>Urban</td><td>Moderation</td><td>7</td><td>VanArsdel</td><td>90.83</td><td>124.42</td><td>55792</td><td>Virginia</td><td>MN</td><td>Central</td><td>District #28</td><td>USA</td><td>dados_2011.csv</td><td>macon.austin@xyza.com</td><td>Macon  Austin</td><td>90.83</td></tr><tr><td>506</td><td>2011-05-18</td><td>273553</td><td>1</td><td>Maximus UM-11</td><td>Urban</td><td>Moderation</td><td>7</td><td>VanArsdel</td><td>90.83</td><td>124.42</td><td>56628</td><td>Bigfork</td><td>MN</td><td>Central</td><td>District #28</td><td>USA</td><td>dados_2011.csv</td><td>liberty.solis@xyza.com</td><td>Liberty  Solis</td><td>90.83</td></tr><tr><td>506</td><td>2011-05-29</td><td>19629</td><td>1</td><td>Maximus UM-11</td><td>Urban</td><td>Moderation</td><td>7</td><td>VanArsdel</td><td>90.83</td><td>124.42</td><td>55021</td><td>Faribault</td><td>MN</td><td>Central</td><td>District #28</td><td>USA</td><td>dados_2011.csv</td><td>isaiah.witt@xyza.com</td><td>Isaiah  Witt</td><td>90.83</td></tr><tr><td>506</td><td>2011-04-27</td><td>222396</td><td>1</td><td>Maximus UM-11</td><td>Urban</td><td>Moderation</td><td>7</td><td>VanArsdel</td><td>90.83</td><td>124.42</td><td>56329</td><td>Foley</td><td>MN</td><td>Central</td><td>District #28</td><td>USA</td><td>dados_2011.csv</td><td>hedda.oneill@xyza.com</td><td>Hedda  Oneill</td><td>90.83</td></tr><tr><td>506</td><td>2011-10-16</td><td>106354</td><td>1</td><td>Maximus UM-11</td><td>Urban</td><td>Moderation</td><td>7</td><td>VanArsdel</td><td>90.83</td><td>124.42</td><td>55337</td><td>Burnsville</td><td>MN</td><td>Central</td><td>District #28</td><td>USA</td><td>dados_2011.csv</td><td>marshall.myers@xyza.com</td><td>Marshall  Myers</td><td>90.83</td></tr></tbody></table></div>"
      ]
     },
     "metadata": {
      "application/vnd.databricks.v1+output": {
       "addedWidgets": {},
       "aggData": [],
       "aggError": "",
       "aggOverflow": false,
       "aggSchema": [],
       "aggSeriesLimitReached": false,
       "aggType": "",
       "arguments": {},
       "columnCustomDisplayInfos": {},
       "data": [
        [
         506,
         "2011-11-11",
         234187,
         1,
         "Maximus UM-11",
         "Urban",
         "Moderation",
         7,
         "VanArsdel",
         "90.83",
         "124.42",
         "55932",
         "Elgin",
         "MN",
         "Central",
         "District #28",
         "USA",
         "dados_2011.csv",
         "magee.flowers@xyza.com",
         "Magee  Flowers",
         "90.83"
        ],
        [
         506,
         "2011-05-24",
         249135,
         1,
         "Maximus UM-11",
         "Urban",
         "Moderation",
         7,
         "VanArsdel",
         "90.83",
         "124.42",
         "55357",
         "Loretto",
         "MN",
         "Central",
         "District #28",
         "USA",
         "dados_2011.csv",
         "adrian.pacheco@xyza.com",
         "Adrian  Pacheco",
         "90.83"
        ],
        [
         506,
         "2011-05-21",
         124543,
         1,
         "Maximus UM-11",
         "Urban",
         "Moderation",
         7,
         "VanArsdel",
         "90.83",
         "124.42",
         "55066",
         "Red Wing",
         "MN",
         "Central",
         "District #28",
         "USA",
         "dados_2011.csv",
         "ashely.mcgowan@xyza.com",
         "Ashely  Mcgowan",
         "90.83"
        ],
        [
         506,
         "2011-05-21",
         152994,
         1,
         "Maximus UM-11",
         "Urban",
         "Moderation",
         7,
         "VanArsdel",
         "90.83",
         "124.42",
         "56082",
         "Saint Peter",
         "MN",
         "Central",
         "District #28",
         "USA",
         "dados_2011.csv",
         "abel.cardenas@xyza.com",
         "Abel  Cardenas",
         "90.83"
        ],
        [
         506,
         "2011-05-22",
         205534,
         1,
         "Maximus UM-11",
         "Urban",
         "Moderation",
         7,
         "VanArsdel",
         "90.83",
         "124.42",
         "55070",
         "Saint Francis",
         "MN",
         "Central",
         "District #28",
         "USA",
         "dados_2011.csv",
         "hall.booth@xyza.com",
         "Hall  Booth",
         "90.83"
        ],
        [
         506,
         "2011-06-03",
         133314,
         1,
         "Maximus UM-11",
         "Urban",
         "Moderation",
         7,
         "VanArsdel",
         "90.83",
         "124.42",
         "55792",
         "Virginia",
         "MN",
         "Central",
         "District #28",
         "USA",
         "dados_2011.csv",
         "macon.austin@xyza.com",
         "Macon  Austin",
         "90.83"
        ],
        [
         506,
         "2011-05-18",
         273553,
         1,
         "Maximus UM-11",
         "Urban",
         "Moderation",
         7,
         "VanArsdel",
         "90.83",
         "124.42",
         "56628",
         "Bigfork",
         "MN",
         "Central",
         "District #28",
         "USA",
         "dados_2011.csv",
         "liberty.solis@xyza.com",
         "Liberty  Solis",
         "90.83"
        ],
        [
         506,
         "2011-05-29",
         19629,
         1,
         "Maximus UM-11",
         "Urban",
         "Moderation",
         7,
         "VanArsdel",
         "90.83",
         "124.42",
         "55021",
         "Faribault",
         "MN",
         "Central",
         "District #28",
         "USA",
         "dados_2011.csv",
         "isaiah.witt@xyza.com",
         "Isaiah  Witt",
         "90.83"
        ],
        [
         506,
         "2011-04-27",
         222396,
         1,
         "Maximus UM-11",
         "Urban",
         "Moderation",
         7,
         "VanArsdel",
         "90.83",
         "124.42",
         "56329",
         "Foley",
         "MN",
         "Central",
         "District #28",
         "USA",
         "dados_2011.csv",
         "hedda.oneill@xyza.com",
         "Hedda  Oneill",
         "90.83"
        ],
        [
         506,
         "2011-10-16",
         106354,
         1,
         "Maximus UM-11",
         "Urban",
         "Moderation",
         7,
         "VanArsdel",
         "90.83",
         "124.42",
         "55337",
         "Burnsville",
         "MN",
         "Central",
         "District #28",
         "USA",
         "dados_2011.csv",
         "marshall.myers@xyza.com",
         "Marshall  Myers",
         "90.83"
        ]
       ],
       "datasetInfos": [],
       "dbfsResultPath": null,
       "isJsonSchema": true,
       "metadata": {},
       "overflow": false,
       "plotOptions": {
        "customPlotOptions": {},
        "displayType": "table",
        "pivotAggregation": null,
        "pivotColumns": null,
        "xColumns": null,
        "yColumns": null
       },
       "removedWidgets": [],
       "schema": [
        {
         "metadata": "{}",
         "name": "ProductID",
         "type": "\"long\""
        },
        {
         "metadata": "{}",
         "name": "Date",
         "type": "\"date\""
        },
        {
         "metadata": "{}",
         "name": "ClientID",
         "type": "\"long\""
        },
        {
         "metadata": "{}",
         "name": "Units",
         "type": "\"long\""
        },
        {
         "metadata": "{}",
         "name": "Product",
         "type": "\"string\""
        },
        {
         "metadata": "{}",
         "name": "Category",
         "type": "\"string\""
        },
        {
         "metadata": "{}",
         "name": "Segment",
         "type": "\"string\""
        },
        {
         "metadata": "{}",
         "name": "ManufacturerID",
         "type": "\"long\""
        },
        {
         "metadata": "{}",
         "name": "Manufacturer",
         "type": "\"string\""
        },
        {
         "metadata": "{}",
         "name": "UnitCost",
         "type": "\"string\""
        },
        {
         "metadata": "{}",
         "name": "UnitPrice",
         "type": "\"string\""
        },
        {
         "metadata": "{}",
         "name": "PostalCode",
         "type": "\"string\""
        },
        {
         "metadata": "{}",
         "name": "City",
         "type": "\"string\""
        },
        {
         "metadata": "{}",
         "name": "State",
         "type": "\"string\""
        },
        {
         "metadata": "{}",
         "name": "Region",
         "type": "\"string\""
        },
        {
         "metadata": "{}",
         "name": "District",
         "type": "\"string\""
        },
        {
         "metadata": "{}",
         "name": "Country",
         "type": "\"string\""
        },
        {
         "metadata": "{}",
         "name": "filename",
         "type": "\"string\""
        },
        {
         "metadata": "{}",
         "name": "Email",
         "type": "\"string\""
        },
        {
         "metadata": "{}",
         "name": "Name",
         "type": "\"string\""
        },
        {
         "metadata": "{}",
         "name": "SalesTotal",
         "type": "\"string\""
        }
       ],
       "type": "table"
      }
     },
     "output_type": "display_data"
    }
   ],
   "source": [
    "# Do transformations, including manipulation of email and CampaignID fields\n",
    "df_silver = df_bronze.withColumn(\"Date\", to_date(col(\"Date\"), \"yyyy-MM-dd\")) \\\n",
    "                     .withColumn(\"Email\", lower(expr(\"regexp_replace(split(EmailName, ':')[0], '[()]', '')\"))) \\\n",
    "                     .withColumn(\"Name\", expr(\"split(split(EmailName, ':')[1], ', ')\")) \\\n",
    "                     .withColumn(\"Name\", expr(\"concat(Name[1], ' ', Name[0])\")) \\\n",
    "                     .withColumn(\"City\", expr(\"split(City, ',')[0]\")) \\\n",
    "                     .withColumn(\"UnitPrice\", format_number(col(\"UnitPrice\"), 2)) \\\n",
    "                     .withColumn(\"UnitCost\", format_number(col(\"UnitCost\"), 2)) \\\n",
    "                     .withColumn(\"SalesTotal\", format_number(col(\"UnitCost\") * col(\"Units\"),2)) \\\n",
    "                     .drop(\"EmailName\")\\\n",
    "                     .drop(\"CampaignID\")\n",
    "\n",
    "display(df_silver.take(10))\n",
    "                     "
   ]
  },
  {
   "cell_type": "markdown",
   "metadata": {
    "application/vnd.databricks.v1+cell": {
     "cellMetadata": {
      "byteLimit": 2048000,
      "rowLimit": 10000
     },
     "inputWidgets": {},
     "nuid": "8cf23d72-1bec-4936-8613-9cd6b1418516",
     "showTitle": false,
     "tableResultSettingsMap": {},
     "title": ""
    }
   },
   "source": [
    "### Save Silver Transformations\n",
    "\n",
    "Partitioning by year and month to optimize date-based queries, with a recommendation for file size in Delta format."
   ]
  },
  {
   "cell_type": "code",
   "execution_count": 0,
   "metadata": {
    "application/vnd.databricks.v1+cell": {
     "cellMetadata": {
      "byteLimit": 2048000,
      "rowLimit": 10000
     },
     "inputWidgets": {},
     "nuid": "d3648e62-adc3-423d-b244-aec7bd3baa2a",
     "showTitle": false,
     "tableResultSettingsMap": {},
     "title": ""
    }
   },
   "outputs": [
    {
     "output_type": "stream",
     "name": "stdout",
     "output_type": "stream",
     "text": [
      "Out[21]: 353888"
     ]
    }
   ],
   "source": [
    "if Table_exists:\n",
    "  df_silver.writeStream \\\n",
    "    .outputMode(\"append\") \\\n",
    "    .withColumn(\"Year\", year(\"Date\")) \\\n",
    "    .withColumn(\"Month\", month(\"Date\")) \\\n",
    "    .partitionBy(\"Year\", \"Month\") \\\n",
    "    .format(\"parquet\") \\\n",
    "    .option(\"checkpointLocation\", f\"/mnt/{database_name}/_checkpoint_{table_name}\") \\\n",
    "    .table(f\"{database_name}.{table_name}\")\n",
    "\n",
    "else:\n",
    "  df_silver.withColumn(\"Year\", year(\"Date\")) \\\n",
    "    .withColumn(\"Month\", month(\"Date\")) \\\n",
    "    .write.option(\"maxRecordsPerFile\", 50000) \\\n",
    "    .partitionBy(\"Year\", \"Month\") \\\n",
    "    .mode(\"overwrite\") \\\n",
    "    .format(\"parquet\") \\\n",
    "    .option(\"checkpointLocation\", f\"/mnt/{database_name}/_checkpoint_{table_name}\") \\\n",
    "    .saveAsTable(f\"{database_name}.{table_name}\")\n",
    "\n",
    "df_silver.count()"
   ]
  },
  {
   "cell_type": "code",
   "execution_count": 0,
   "metadata": {
    "application/vnd.databricks.v1+cell": {
     "cellMetadata": {
      "byteLimit": 2048000,
      "implicitDf": true,
      "rowLimit": 10000
     },
     "inputWidgets": {},
     "nuid": "8f3cb7e8-85f3-4d5d-84d4-2138b9afdaa7",
     "showTitle": false,
     "tableResultSettingsMap": {},
     "title": ""
    }
   },
   "outputs": [
    {
     "output_type": "display_data",
     "data": {
      "text/html": [
       "<style scoped>\n",
       "  .table-result-container {\n",
       "    max-height: 300px;\n",
       "    overflow: auto;\n",
       "  }\n",
       "  table, th, td {\n",
       "    border: 1px solid black;\n",
       "    border-collapse: collapse;\n",
       "  }\n",
       "  th, td {\n",
       "    padding: 5px;\n",
       "  }\n",
       "  th {\n",
       "    text-align: left;\n",
       "  }\n",
       "</style><div class='table-result-container'><table class='table-result'><thead style='background-color: white'><tr><th>col_name</th><th>data_type</th><th>comment</th></tr></thead><tbody><tr><td>ProductID</td><td>int</td><td>null</td></tr><tr><td>Date</td><td>date</td><td>null</td></tr><tr><td>ClientID</td><td>int</td><td>null</td></tr><tr><td>Units</td><td>int</td><td>null</td></tr><tr><td>Product</td><td>string</td><td>null</td></tr><tr><td>Category</td><td>string</td><td>null</td></tr><tr><td>Segment</td><td>string</td><td>null</td></tr><tr><td>ManufacturerID</td><td>int</td><td>null</td></tr><tr><td>Manufacturer</td><td>string</td><td>null</td></tr><tr><td>UnitCost</td><td>string</td><td>null</td></tr><tr><td>UnitPrice</td><td>string</td><td>null</td></tr><tr><td>PostalCode</td><td>string</td><td>null</td></tr><tr><td>City</td><td>string</td><td>null</td></tr><tr><td>State</td><td>string</td><td>null</td></tr><tr><td>Region</td><td>string</td><td>null</td></tr><tr><td>District</td><td>string</td><td>null</td></tr><tr><td>Country</td><td>string</td><td>null</td></tr><tr><td>filename</td><td>string</td><td>null</td></tr><tr><td>Email</td><td>string</td><td>null</td></tr><tr><td>Name</td><td>string</td><td>null</td></tr><tr><td>SalesTotal</td><td>string</td><td>null</td></tr><tr><td>Year</td><td>int</td><td>null</td></tr><tr><td>Month</td><td>int</td><td>null</td></tr><tr><td># Partition Information</td><td></td><td></td></tr><tr><td># col_name</td><td>data_type</td><td>comment</td></tr><tr><td>Year</td><td>int</td><td>null</td></tr><tr><td>Month</td><td>int</td><td>null</td></tr><tr><td></td><td></td><td></td></tr><tr><td># Detailed Table Information</td><td></td><td></td></tr><tr><td>Catalog</td><td>spark_catalog</td><td></td></tr><tr><td>Database</td><td>sales_case</td><td></td></tr><tr><td>Table</td><td>silver_sales_table</td><td></td></tr><tr><td>Owner</td><td>root</td><td></td></tr><tr><td>Created Time</td><td>Sun Mar 09 21:02:26 UTC 2025</td><td></td></tr><tr><td>Last Access</td><td>UNKNOWN</td><td></td></tr><tr><td>Created By</td><td>Spark 3.3.2</td><td></td></tr><tr><td>Type</td><td>MANAGED</td><td></td></tr><tr><td>Provider</td><td>parquet</td><td></td></tr><tr><td>Location</td><td>dbfs:/user/hive/warehouse/sales_case.db/silver_sales_table</td><td></td></tr><tr><td>Serde Library</td><td>org.apache.hadoop.hive.serde2.lazy.LazySimpleSerDe</td><td></td></tr><tr><td>InputFormat</td><td>org.apache.hadoop.mapred.SequenceFileInputFormat</td><td></td></tr><tr><td>OutputFormat</td><td>org.apache.hadoop.hive.ql.io.HiveSequenceFileOutputFormat</td><td></td></tr><tr><td>Storage Properties</td><td>[checkpointLocation=/mnt/sales_case/_checkpoint_silver_sales_table, maxRecordsPerFile=50000]</td><td></td></tr><tr><td>Partition Provider</td><td>Catalog</td><td></td></tr></tbody></table></div>"
      ]
     },
     "metadata": {
      "application/vnd.databricks.v1+output": {
       "addedWidgets": {},
       "aggData": [],
       "aggError": "",
       "aggOverflow": false,
       "aggSchema": [],
       "aggSeriesLimitReached": false,
       "aggType": "",
       "arguments": {},
       "columnCustomDisplayInfos": {},
       "data": [
        [
         "ProductID",
         "int",
         null
        ],
        [
         "Date",
         "date",
         null
        ],
        [
         "ClientID",
         "int",
         null
        ],
        [
         "Units",
         "int",
         null
        ],
        [
         "Product",
         "string",
         null
        ],
        [
         "Category",
         "string",
         null
        ],
        [
         "Segment",
         "string",
         null
        ],
        [
         "ManufacturerID",
         "int",
         null
        ],
        [
         "Manufacturer",
         "string",
         null
        ],
        [
         "UnitCost",
         "string",
         null
        ],
        [
         "UnitPrice",
         "string",
         null
        ],
        [
         "PostalCode",
         "string",
         null
        ],
        [
         "City",
         "string",
         null
        ],
        [
         "State",
         "string",
         null
        ],
        [
         "Region",
         "string",
         null
        ],
        [
         "District",
         "string",
         null
        ],
        [
         "Country",
         "string",
         null
        ],
        [
         "filename",
         "string",
         null
        ],
        [
         "Email",
         "string",
         null
        ],
        [
         "Name",
         "string",
         null
        ],
        [
         "SalesTotal",
         "string",
         null
        ],
        [
         "Year",
         "int",
         null
        ],
        [
         "Month",
         "int",
         null
        ],
        [
         "# Partition Information",
         "",
         ""
        ],
        [
         "# col_name",
         "data_type",
         "comment"
        ],
        [
         "Year",
         "int",
         null
        ],
        [
         "Month",
         "int",
         null
        ],
        [
         "",
         "",
         ""
        ],
        [
         "# Detailed Table Information",
         "",
         ""
        ],
        [
         "Catalog",
         "spark_catalog",
         ""
        ],
        [
         "Database",
         "sales_case",
         ""
        ],
        [
         "Table",
         "silver_sales_table",
         ""
        ],
        [
         "Owner",
         "root",
         ""
        ],
        [
         "Created Time",
         "Sun Mar 09 21:02:26 UTC 2025",
         ""
        ],
        [
         "Last Access",
         "UNKNOWN",
         ""
        ],
        [
         "Created By",
         "Spark 3.3.2",
         ""
        ],
        [
         "Type",
         "MANAGED",
         ""
        ],
        [
         "Provider",
         "parquet",
         ""
        ],
        [
         "Location",
         "dbfs:/user/hive/warehouse/sales_case.db/silver_sales_table",
         ""
        ],
        [
         "Serde Library",
         "org.apache.hadoop.hive.serde2.lazy.LazySimpleSerDe",
         ""
        ],
        [
         "InputFormat",
         "org.apache.hadoop.mapred.SequenceFileInputFormat",
         ""
        ],
        [
         "OutputFormat",
         "org.apache.hadoop.hive.ql.io.HiveSequenceFileOutputFormat",
         ""
        ],
        [
         "Storage Properties",
         "[checkpointLocation=/mnt/sales_case/_checkpoint_silver_sales_table, maxRecordsPerFile=50000]",
         ""
        ],
        [
         "Partition Provider",
         "Catalog",
         ""
        ]
       ],
       "datasetInfos": [],
       "dbfsResultPath": null,
       "isJsonSchema": true,
       "metadata": {},
       "overflow": false,
       "plotOptions": {
        "customPlotOptions": {},
        "displayType": "table",
        "pivotAggregation": null,
        "pivotColumns": null,
        "xColumns": null,
        "yColumns": null
       },
       "removedWidgets": [],
       "schema": [
        {
         "metadata": "{\"comment\":\"name of the column\"}",
         "name": "col_name",
         "type": "\"string\""
        },
        {
         "metadata": "{\"comment\":\"data type of the column\"}",
         "name": "data_type",
         "type": "\"string\""
        },
        {
         "metadata": "{\"comment\":\"comment of the column\"}",
         "name": "comment",
         "type": "\"string\""
        }
       ],
       "type": "table"
      }
     },
     "output_type": "display_data"
    }
   ],
   "source": [
    "%sql\n",
    "describe table extended sales_case.silver_sales_table"
   ]
  },
  {
   "cell_type": "code",
   "execution_count": 0,
   "metadata": {
    "application/vnd.databricks.v1+cell": {
     "cellMetadata": {
      "byteLimit": 2048000,
      "rowLimit": 10000
     },
     "inputWidgets": {},
     "nuid": "a28d47a5-9c2c-46cc-ab27-8d60fae13297",
     "showTitle": false,
     "tableResultSettingsMap": {},
     "title": ""
    }
   },
   "outputs": [
    {
     "output_type": "display_data",
     "data": {
      "text/html": [
       "<style scoped>\n",
       "  .table-result-container {\n",
       "    max-height: 300px;\n",
       "    overflow: auto;\n",
       "  }\n",
       "  table, th, td {\n",
       "    border: 1px solid black;\n",
       "    border-collapse: collapse;\n",
       "  }\n",
       "  th, td {\n",
       "    padding: 5px;\n",
       "  }\n",
       "  th {\n",
       "    text-align: left;\n",
       "  }\n",
       "</style><div class='table-result-container'><table class='table-result'><thead style='background-color: white'><tr><th>ProductID</th><th>Date</th><th>ClientID</th><th>Units</th><th>Product</th><th>Category</th><th>Segment</th><th>ManufacturerID</th><th>Manufacturer</th><th>UnitCost</th><th>UnitPrice</th><th>PostalCode</th><th>City</th><th>State</th><th>Region</th><th>District</th><th>Country</th><th>filename</th><th>Email</th><th>Name</th><th>SalesTotal</th><th>Year</th><th>Month</th></tr></thead><tbody><tr><td>506</td><td>2011-01-02</td><td>159938</td><td>1</td><td>Maximus UM-11</td><td>Urban</td><td>Moderation</td><td>7</td><td>VanArsdel</td><td>90.83</td><td>124.42</td><td>55041</td><td>Lake City</td><td>MN</td><td>Central</td><td>District #28</td><td>USA</td><td>dados_2011.csv</td><td>pascale.ferguson@xyza.com</td><td>Pascale  Ferguson</td><td>90.83</td><td>2011</td><td>1</td></tr><tr><td>506</td><td>2011-01-27</td><td>158876</td><td>1</td><td>Maximus UM-11</td><td>Urban</td><td>Moderation</td><td>7</td><td>VanArsdel</td><td>90.83</td><td>124.42</td><td>55316</td><td>Champlin</td><td>MN</td><td>Central</td><td>District #28</td><td>USA</td><td>dados_2011.csv</td><td>regina.villarreal@xyza.com</td><td>Regina  Villarreal</td><td>90.83</td><td>2011</td><td>1</td></tr><tr><td>506</td><td>2011-01-28</td><td>100427</td><td>1</td><td>Maximus UM-11</td><td>Urban</td><td>Moderation</td><td>7</td><td>VanArsdel</td><td>90.83</td><td>124.42</td><td>56401</td><td>Brainerd</td><td>MN</td><td>Central</td><td>District #28</td><td>USA</td><td>dados_2011.csv</td><td>ciara.alvarado@xyza.com</td><td>Ciara  Alvarado</td><td>90.83</td><td>2011</td><td>1</td></tr><tr><td>506</td><td>2011-01-30</td><td>219021</td><td>1</td><td>Maximus UM-11</td><td>Urban</td><td>Moderation</td><td>7</td><td>VanArsdel</td><td>90.83</td><td>124.42</td><td>55709</td><td>Bovey</td><td>MN</td><td>Central</td><td>District #28</td><td>USA</td><td>dados_2011.csv</td><td>yoko.english@xyza.com</td><td>Yoko  English</td><td>90.83</td><td>2011</td><td>1</td></tr><tr><td>506</td><td>2011-01-29</td><td>280795</td><td>1</td><td>Maximus UM-11</td><td>Urban</td><td>Moderation</td><td>7</td><td>VanArsdel</td><td>90.83</td><td>124.42</td><td>55816</td><td>Duluth</td><td>MN</td><td>Central</td><td>District #28</td><td>USA</td><td>dados_2011.csv</td><td>eve.hamilton@xyza.com</td><td>Eve  Hamilton</td><td>90.83</td><td>2011</td><td>1</td></tr><tr><td>506</td><td>2011-01-30</td><td>30565</td><td>1</td><td>Maximus UM-11</td><td>Urban</td><td>Moderation</td><td>7</td><td>VanArsdel</td><td>90.83</td><td>124.42</td><td>56001</td><td>Mankato</td><td>MN</td><td>Central</td><td>District #28</td><td>USA</td><td>dados_2011.csv</td><td>hoyt.ashley@xyza.com</td><td>Hoyt  Ashley</td><td>90.83</td><td>2011</td><td>1</td></tr><tr><td>506</td><td>2011-01-27</td><td>168503</td><td>1</td><td>Maximus UM-11</td><td>Urban</td><td>Moderation</td><td>7</td><td>VanArsdel</td><td>90.83</td><td>124.42</td><td>55117</td><td>Saint Paul</td><td>MN</td><td>Central</td><td>District #28</td><td>USA</td><td>dados_2011.csv</td><td>morgan.smith@xyza.com</td><td>Morgan  Smith</td><td>90.83</td><td>2011</td><td>1</td></tr><tr><td>506</td><td>2011-01-27</td><td>162455</td><td>1</td><td>Maximus UM-11</td><td>Urban</td><td>Moderation</td><td>7</td><td>VanArsdel</td><td>90.83</td><td>124.42</td><td>55127</td><td>Saint Paul</td><td>MN</td><td>Central</td><td>District #28</td><td>USA</td><td>dados_2011.csv</td><td>talon.hudson@xyza.com</td><td>Talon  Hudson</td><td>90.83</td><td>2011</td><td>1</td></tr><tr><td>506</td><td>2011-01-22</td><td>119705</td><td>1</td><td>Maximus UM-11</td><td>Urban</td><td>Moderation</td><td>7</td><td>VanArsdel</td><td>90.83</td><td>124.42</td><td>55109</td><td>Saint Paul</td><td>MN</td><td>Central</td><td>District #28</td><td>USA</td><td>dados_2011.csv</td><td>aphrodite.simmons@xyza.com</td><td>Aphrodite  Simmons</td><td>90.83</td><td>2011</td><td>1</td></tr><tr><td>506</td><td>2011-01-29</td><td>162456</td><td>1</td><td>Maximus UM-11</td><td>Urban</td><td>Moderation</td><td>7</td><td>VanArsdel</td><td>90.83</td><td>124.42</td><td>55127</td><td>Saint Paul</td><td>MN</td><td>Central</td><td>District #28</td><td>USA</td><td>dados_2011.csv</td><td>kibo.monroe@xyza.com</td><td>Kibo  Monroe</td><td>90.83</td><td>2011</td><td>1</td></tr></tbody></table></div>"
      ]
     },
     "metadata": {
      "application/vnd.databricks.v1+output": {
       "addedWidgets": {},
       "aggData": [],
       "aggError": "",
       "aggOverflow": false,
       "aggSchema": [],
       "aggSeriesLimitReached": false,
       "aggType": "",
       "arguments": {},
       "columnCustomDisplayInfos": {},
       "data": [
        [
         506,
         "2011-01-02",
         159938,
         1,
         "Maximus UM-11",
         "Urban",
         "Moderation",
         7,
         "VanArsdel",
         "90.83",
         "124.42",
         "55041",
         "Lake City",
         "MN",
         "Central",
         "District #28",
         "USA",
         "dados_2011.csv",
         "pascale.ferguson@xyza.com",
         "Pascale  Ferguson",
         "90.83",
         2011,
         1
        ],
        [
         506,
         "2011-01-27",
         158876,
         1,
         "Maximus UM-11",
         "Urban",
         "Moderation",
         7,
         "VanArsdel",
         "90.83",
         "124.42",
         "55316",
         "Champlin",
         "MN",
         "Central",
         "District #28",
         "USA",
         "dados_2011.csv",
         "regina.villarreal@xyza.com",
         "Regina  Villarreal",
         "90.83",
         2011,
         1
        ],
        [
         506,
         "2011-01-28",
         100427,
         1,
         "Maximus UM-11",
         "Urban",
         "Moderation",
         7,
         "VanArsdel",
         "90.83",
         "124.42",
         "56401",
         "Brainerd",
         "MN",
         "Central",
         "District #28",
         "USA",
         "dados_2011.csv",
         "ciara.alvarado@xyza.com",
         "Ciara  Alvarado",
         "90.83",
         2011,
         1
        ],
        [
         506,
         "2011-01-30",
         219021,
         1,
         "Maximus UM-11",
         "Urban",
         "Moderation",
         7,
         "VanArsdel",
         "90.83",
         "124.42",
         "55709",
         "Bovey",
         "MN",
         "Central",
         "District #28",
         "USA",
         "dados_2011.csv",
         "yoko.english@xyza.com",
         "Yoko  English",
         "90.83",
         2011,
         1
        ],
        [
         506,
         "2011-01-29",
         280795,
         1,
         "Maximus UM-11",
         "Urban",
         "Moderation",
         7,
         "VanArsdel",
         "90.83",
         "124.42",
         "55816",
         "Duluth",
         "MN",
         "Central",
         "District #28",
         "USA",
         "dados_2011.csv",
         "eve.hamilton@xyza.com",
         "Eve  Hamilton",
         "90.83",
         2011,
         1
        ],
        [
         506,
         "2011-01-30",
         30565,
         1,
         "Maximus UM-11",
         "Urban",
         "Moderation",
         7,
         "VanArsdel",
         "90.83",
         "124.42",
         "56001",
         "Mankato",
         "MN",
         "Central",
         "District #28",
         "USA",
         "dados_2011.csv",
         "hoyt.ashley@xyza.com",
         "Hoyt  Ashley",
         "90.83",
         2011,
         1
        ],
        [
         506,
         "2011-01-27",
         168503,
         1,
         "Maximus UM-11",
         "Urban",
         "Moderation",
         7,
         "VanArsdel",
         "90.83",
         "124.42",
         "55117",
         "Saint Paul",
         "MN",
         "Central",
         "District #28",
         "USA",
         "dados_2011.csv",
         "morgan.smith@xyza.com",
         "Morgan  Smith",
         "90.83",
         2011,
         1
        ],
        [
         506,
         "2011-01-27",
         162455,
         1,
         "Maximus UM-11",
         "Urban",
         "Moderation",
         7,
         "VanArsdel",
         "90.83",
         "124.42",
         "55127",
         "Saint Paul",
         "MN",
         "Central",
         "District #28",
         "USA",
         "dados_2011.csv",
         "talon.hudson@xyza.com",
         "Talon  Hudson",
         "90.83",
         2011,
         1
        ],
        [
         506,
         "2011-01-22",
         119705,
         1,
         "Maximus UM-11",
         "Urban",
         "Moderation",
         7,
         "VanArsdel",
         "90.83",
         "124.42",
         "55109",
         "Saint Paul",
         "MN",
         "Central",
         "District #28",
         "USA",
         "dados_2011.csv",
         "aphrodite.simmons@xyza.com",
         "Aphrodite  Simmons",
         "90.83",
         2011,
         1
        ],
        [
         506,
         "2011-01-29",
         162456,
         1,
         "Maximus UM-11",
         "Urban",
         "Moderation",
         7,
         "VanArsdel",
         "90.83",
         "124.42",
         "55127",
         "Saint Paul",
         "MN",
         "Central",
         "District #28",
         "USA",
         "dados_2011.csv",
         "kibo.monroe@xyza.com",
         "Kibo  Monroe",
         "90.83",
         2011,
         1
        ]
       ],
       "datasetInfos": [],
       "dbfsResultPath": null,
       "isJsonSchema": true,
       "metadata": {},
       "overflow": false,
       "plotOptions": {
        "customPlotOptions": {},
        "displayType": "table",
        "pivotAggregation": null,
        "pivotColumns": null,
        "xColumns": null,
        "yColumns": null
       },
       "removedWidgets": [],
       "schema": [
        {
         "metadata": "{}",
         "name": "ProductID",
         "type": "\"long\""
        },
        {
         "metadata": "{}",
         "name": "Date",
         "type": "\"date\""
        },
        {
         "metadata": "{}",
         "name": "ClientID",
         "type": "\"long\""
        },
        {
         "metadata": "{}",
         "name": "Units",
         "type": "\"long\""
        },
        {
         "metadata": "{}",
         "name": "Product",
         "type": "\"string\""
        },
        {
         "metadata": "{}",
         "name": "Category",
         "type": "\"string\""
        },
        {
         "metadata": "{}",
         "name": "Segment",
         "type": "\"string\""
        },
        {
         "metadata": "{}",
         "name": "ManufacturerID",
         "type": "\"long\""
        },
        {
         "metadata": "{}",
         "name": "Manufacturer",
         "type": "\"string\""
        },
        {
         "metadata": "{}",
         "name": "UnitCost",
         "type": "\"string\""
        },
        {
         "metadata": "{}",
         "name": "UnitPrice",
         "type": "\"string\""
        },
        {
         "metadata": "{}",
         "name": "PostalCode",
         "type": "\"string\""
        },
        {
         "metadata": "{}",
         "name": "City",
         "type": "\"string\""
        },
        {
         "metadata": "{}",
         "name": "State",
         "type": "\"string\""
        },
        {
         "metadata": "{}",
         "name": "Region",
         "type": "\"string\""
        },
        {
         "metadata": "{}",
         "name": "District",
         "type": "\"string\""
        },
        {
         "metadata": "{}",
         "name": "Country",
         "type": "\"string\""
        },
        {
         "metadata": "{}",
         "name": "filename",
         "type": "\"string\""
        },
        {
         "metadata": "{}",
         "name": "Email",
         "type": "\"string\""
        },
        {
         "metadata": "{}",
         "name": "Name",
         "type": "\"string\""
        },
        {
         "metadata": "{}",
         "name": "SalesTotal",
         "type": "\"string\""
        },
        {
         "metadata": "{}",
         "name": "Year",
         "type": "\"long\""
        },
        {
         "metadata": "{}",
         "name": "Month",
         "type": "\"long\""
        }
       ],
       "type": "table"
      }
     },
     "output_type": "display_data"
    }
   ],
   "source": [
    "display(spark.read.table(f\"{database_name}.{table_name}\").take(10))"
   ]
  },
  {
   "cell_type": "markdown",
   "metadata": {
    "application/vnd.databricks.v1+cell": {
     "cellMetadata": {},
     "inputWidgets": {},
     "nuid": "348ec03c-cc5a-43ec-a234-a423b668771f",
     "showTitle": false,
     "tableResultSettingsMap": {},
     "title": ""
    }
   },
   "source": [
    "### Cleaning DF from Memory to optmmize"
   ]
  },
  {
   "cell_type": "code",
   "execution_count": 0,
   "metadata": {
    "application/vnd.databricks.v1+cell": {
     "cellMetadata": {
      "byteLimit": 2048000,
      "rowLimit": 10000
     },
     "inputWidgets": {},
     "nuid": "0e753e8d-50ab-4d59-b619-9ddf7866d8b6",
     "showTitle": false,
     "tableResultSettingsMap": {},
     "title": ""
    }
   },
   "outputs": [
    {
     "output_type": "stream",
     "name": "stdout",
     "output_type": "stream",
     "text": [
      "Out[24]: DataFrame[ProductID: int, Date: date, ClientID: int, Units: int, Product: string, Category: string, Segment: string, ManufacturerID: int, Manufacturer: string, UnitCost: string, UnitPrice: string, PostalCode: string, City: string, State: string, Region: string, District: string, Country: string, filename: string, Email: string, Name: string, SalesTotal: string]"
     ]
    }
   ],
   "source": [
    "import gc\n",
    "gc.collect()\n",
    "\n",
    "df_bronze.unpersist()\n",
    "df_silver.unpersist()"
   ]
  }
 ],
 "metadata": {
  "application/vnd.databricks.v1+notebook": {
   "computePreferences": null,
   "dashboards": [],
   "environmentMetadata": null,
   "language": "python",
   "notebookMetadata": {
    "mostRecentlyExecutedCommandWithImplicitDF": {
     "commandId": 1907015232691470,
     "dataframes": [
      "_sqldf"
     ]
    },
    "pythonIndentUnit": 4
   },
   "notebookName": "003 Transforming Silver",
   "widgets": {}
  }
 },
 "nbformat": 4,
 "nbformat_minor": 0
}
